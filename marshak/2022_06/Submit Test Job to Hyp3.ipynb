{
 "cells": [
  {
   "cell_type": "code",
   "execution_count": 1,
   "id": "9e4bea81",
   "metadata": {
    "ExecuteTime": {
     "end_time": "2022-06-15T19:19:25.775173Z",
     "start_time": "2022-06-15T19:19:25.709172Z"
    }
   },
   "outputs": [],
   "source": [
    "import hyp3_sdk"
   ]
  },
  {
   "cell_type": "code",
   "execution_count": 2,
   "id": "d895385f",
   "metadata": {
    "ExecuteTime": {
     "end_time": "2022-06-15T19:19:25.783926Z",
     "start_time": "2022-06-15T19:19:25.781540Z"
    }
   },
   "outputs": [],
   "source": [
    "records_to_submit = [\n",
    "                     # Aleutian Chain\n",
    "                     {'reference': ['S1A_IW_SLC__1SDV_20210925T172118_20210925T172137_039841_04B68A_7D82'],\n",
    "                      'secondary': ['S1A_IW_SLC__1SDV_20200930T172045_20200930T172114_034591_0406F4_8C2F',\n",
    "                                    'S1A_IW_SLC__1SDV_20200930T172112_20200930T172131_034591_0406F4_17D7']\n",
    "                     },\n",
    "                     # La palma\n",
    "                     {'reference': ['S1A_IW_SLC__1SDV_20220520T071101_20220520T071128_043291_052B7B_7B63'],\n",
    "                      'secondary': ['S1A_IW_SLC__1SDV_20220508T071100_20220508T071127_043116_05262A_AA24']\n",
    "                     }\n",
    "                    ]"
   ]
  },
  {
   "cell_type": "code",
   "execution_count": 3,
   "id": "f3ec9ea1",
   "metadata": {
    "ExecuteTime": {
     "end_time": "2022-06-15T19:19:30.324741Z",
     "start_time": "2022-06-15T19:19:26.961773Z"
    }
   },
   "outputs": [],
   "source": [
    "import hyp3_sdk\n",
    "\n",
    "# uses .netrc; add `prompt=True` to prompt for credentials; \n",
    "hyp3_isce = hyp3_sdk.HyP3('https://hyp3-a19-jpl.asf.alaska.edu', prompt=False)"
   ]
  },
  {
   "cell_type": "code",
   "execution_count": 4,
   "id": "a8708f82",
   "metadata": {
    "ExecuteTime": {
     "end_time": "2022-06-15T19:19:31.727002Z",
     "start_time": "2022-06-15T19:19:30.873060Z"
    }
   },
   "outputs": [],
   "source": [
    "job_dicts = [{'name': 'manual_int_test',\n",
    "              # NOTE: we are still using the `dev` branch. Change this to \"INSAR_ISCE\" to use the `main` branch.\n",
    "              'job_type': 'INSAR_ISCE_TEST',\n",
    "              'job_parameters': {'granules': r['reference'],\n",
    "                                 'secondary_granules': r['secondary']}} \n",
    "             # NOTE THERE IS AN INDEX - this is to submit only a subset of Jobs\n",
    "             for r in records_to_submit]\n",
    "\n",
    "\n",
    "# UNCOMMENT TO SUBMIT\n",
    "submitted_jobs = hyp3_isce.submit_prepared_jobs(job_dicts)"
   ]
  },
  {
   "cell_type": "code",
   "execution_count": 10,
   "id": "c74efd0d",
   "metadata": {
    "ExecuteTime": {
     "end_time": "2022-06-15T20:38:24.303193Z",
     "start_time": "2022-06-15T20:38:24.161455Z"
    }
   },
   "outputs": [
    {
     "name": "stdout",
     "output_type": "stream",
     "text": [
      "2 HyP3 Jobs: 1 succeeded, 0 failed, 1 running, 0 pending.\n"
     ]
    }
   ],
   "source": [
    "jobs = hyp3_isce.find_jobs()\n",
    "print(jobs)"
   ]
  },
  {
   "cell_type": "code",
   "execution_count": 11,
   "id": "ea5c3568",
   "metadata": {
    "ExecuteTime": {
     "end_time": "2022-06-15T20:38:29.611364Z",
     "start_time": "2022-06-15T20:38:29.609649Z"
    }
   },
   "outputs": [],
   "source": [
    "# import concurrent.futures\n",
    "# from tqdm import tqdm\n",
    "\n",
    "# with concurrent.futures.ThreadPoolExecutor(max_workers=10) as executor:\n",
    "#     results = list(tqdm(executor.map(lambda job: job.download_files(), jobs), total=len(jobs)))"
   ]
  }
 ],
 "metadata": {
  "kernelspec": {
   "display_name": "Python 3",
   "language": "python",
   "name": "python3"
  },
  "language_info": {
   "codemirror_mode": {
    "name": "ipython",
    "version": 3
   },
   "file_extension": ".py",
   "mimetype": "text/x-python",
   "name": "python",
   "nbconvert_exporter": "python",
   "pygments_lexer": "ipython3",
   "version": "3.8.5"
  }
 },
 "nbformat": 4,
 "nbformat_minor": 5
}
