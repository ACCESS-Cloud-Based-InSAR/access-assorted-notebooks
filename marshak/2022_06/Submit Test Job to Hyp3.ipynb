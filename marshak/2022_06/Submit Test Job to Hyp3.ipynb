{
 "cells": [
  {
   "cell_type": "code",
   "execution_count": 1,
   "id": "4f376866",
   "metadata": {
    "ExecuteTime": {
     "end_time": "2022-12-07T18:59:49.140212Z",
     "start_time": "2022-12-07T18:59:49.074656Z"
    }
   },
   "outputs": [],
   "source": [
    "import hyp3_sdk"
   ]
  },
  {
   "cell_type": "code",
   "execution_count": 2,
   "id": "4b0b4aef",
   "metadata": {
    "ExecuteTime": {
     "end_time": "2022-12-07T18:59:49.973306Z",
     "start_time": "2022-12-07T18:59:49.970807Z"
    }
   },
   "outputs": [],
   "source": [
    "records_to_submit = [\n",
    "                     # Aleutian Chain\n",
    "                     {'reference': ['S1A_IW_SLC__1SDV_20210925T172118_20210925T172137_039841_04B68A_7D82'],\n",
    "                      'secondary': ['S1A_IW_SLC__1SDV_20200930T172045_20200930T172114_034591_0406F4_8C2F',\n",
    "                                    'S1A_IW_SLC__1SDV_20200930T172112_20200930T172131_034591_0406F4_17D7']\n",
    "                     },\n",
    "                     # La palma\n",
    "                     {'reference': ['S1A_IW_SLC__1SDV_20220520T071101_20220520T071128_043291_052B7B_7B63'],\n",
    "                      'secondary': ['S1A_IW_SLC__1SDV_20220508T071100_20220508T071127_043116_05262A_AA24']\n",
    "                     }\n",
    "                    ]"
   ]
  },
  {
   "cell_type": "code",
   "execution_count": 3,
   "id": "bff8d3b7",
   "metadata": {
    "ExecuteTime": {
     "end_time": "2022-12-07T19:00:05.850358Z",
     "start_time": "2022-12-07T18:59:52.762927Z"
    }
   },
   "outputs": [
    {
     "name": "stdout",
     "output_type": "stream",
     "text": [
      "NASA Earthdata Login username: cmarshak\n",
      "NASA Earthdata Login password: ········\n"
     ]
    }
   ],
   "source": [
    "import hyp3_sdk\n",
    "\n",
    "# uses .netrc; add `prompt=True` to prompt for credentials; \n",
    "hyp3_isce = hyp3_sdk.HyP3('https://hyp3-a19-jpl.asf.alaska.edu', prompt=True)"
   ]
  },
  {
   "cell_type": "code",
   "execution_count": 4,
   "id": "1d2df84d",
   "metadata": {
    "ExecuteTime": {
     "end_time": "2022-12-07T19:00:18.507943Z",
     "start_time": "2022-12-07T19:00:18.506074Z"
    }
   },
   "outputs": [],
   "source": [
    "JOB_NAME = 'ingest_test_22-again'"
   ]
  },
  {
   "cell_type": "code",
   "execution_count": 5,
   "id": "018ca1e5",
   "metadata": {
    "ExecuteTime": {
     "end_time": "2022-12-07T19:00:26.254962Z",
     "start_time": "2022-12-07T19:00:22.345543Z"
    }
   },
   "outputs": [],
   "source": [
    "job_dicts = [{'name': JOB_NAME,\n",
    "              # NOTE: we are still using the `dev` branch. Change this to \"INSAR_ISCE\" to use the `main` branch.\n",
    "              'job_type': 'INSAR_ISCE_TEST',\n",
    "              'job_parameters': {'granules': r['reference'],\n",
    "                                 'secondary_granules': r['secondary']}} \n",
    "             # NOTE THERE IS AN INDEX - this is to submit only a subset of Jobs\n",
    "             for r in records_to_submit]\n",
    "\n",
    "\n",
    "# UNCOMMENT TO SUBMIT\n",
    "submitted_jobs = hyp3_isce.submit_prepared_jobs(job_dicts)"
   ]
  },
  {
   "cell_type": "code",
   "execution_count": 28,
   "id": "9ef7b5ec",
   "metadata": {
    "ExecuteTime": {
     "end_time": "2022-12-07T20:11:30.525788Z",
     "start_time": "2022-12-07T20:11:30.366402Z"
    }
   },
   "outputs": [
    {
     "name": "stdout",
     "output_type": "stream",
     "text": [
      "2 HyP3 Jobs: 1 succeeded, 0 failed, 1 running, 0 pending.\n"
     ]
    }
   ],
   "source": [
    "jobs = hyp3_isce.find_jobs(name=JOB_NAME)\n",
    "print(jobs)"
   ]
  },
  {
   "cell_type": "code",
   "execution_count": 33,
   "id": "1e19d55d",
   "metadata": {
    "ExecuteTime": {
     "end_time": "2022-12-07T20:19:14.386241Z",
     "start_time": "2022-12-07T20:19:14.382667Z"
    }
   },
   "outputs": [
    {
     "data": {
      "text/plain": [
       "{'job_id': 'a6bdf7a4-7dc6-472c-bebf-3b1c10ac82ff',\n",
       " 'job_type': 'INSAR_ISCE_TEST',\n",
       " 'request_time': '2022-12-07T19:00:26+00:00',\n",
       " 'status_code': 'SUCCEEDED',\n",
       " 'user_id': 'cmarshak',\n",
       " 'name': 'ingest_test_22-again',\n",
       " 'job_parameters': {'granules': ['S1A_IW_SLC__1SDV_20210925T172118_20210925T172137_039841_04B68A_7D82'],\n",
       "  'secondary_granules': ['S1A_IW_SLC__1SDV_20200930T172045_20200930T172114_034591_0406F4_8C2F',\n",
       "   'S1A_IW_SLC__1SDV_20200930T172112_20200930T172131_034591_0406F4_17D7']},\n",
       " 'files': [{'filename': 'S1-GUNW-D-R-044-tops-20210925_20200930-172127-00169W_00053N-PP-812d-v2_0_6.nc',\n",
       "   's3': {'bucket': 'hyp3-a19-jpl-contentbucket-1wfnatpznlg8b',\n",
       "    'key': 'a6bdf7a4-7dc6-472c-bebf-3b1c10ac82ff/S1-GUNW-D-R-044-tops-20210925_20200930-172127-00169W_00053N-PP-812d-v2_0_6.nc'},\n",
       "   'size': 50772928,\n",
       "   'url': 'https://hyp3-a19-jpl-contentbucket-1wfnatpznlg8b.s3.us-west-2.amazonaws.com/a6bdf7a4-7dc6-472c-bebf-3b1c10ac82ff/S1-GUNW-D-R-044-tops-20210925_20200930-172127-00169W_00053N-PP-812d-v2_0_6.nc'}],\n",
       " 'logs': [],\n",
       " 'browse_images': ['https://hyp3-a19-jpl-contentbucket-1wfnatpznlg8b.s3.us-west-2.amazonaws.com/a6bdf7a4-7dc6-472c-bebf-3b1c10ac82ff/S1-GUNW-D-R-044-tops-20210925_20200930-172127-00169W_00053N-PP-812d-v2_0_6.png'],\n",
       " 'thumbnail_images': [],\n",
       " 'expiration_time': '2023-06-06T00:00:00+00:00'}"
      ]
     },
     "execution_count": 33,
     "metadata": {},
     "output_type": "execute_result"
    }
   ],
   "source": [
    "jobs[1].to_dict()"
   ]
  },
  {
   "cell_type": "code",
   "execution_count": 11,
   "id": "a92e18ed",
   "metadata": {
    "ExecuteTime": {
     "end_time": "2022-06-15T20:38:29.611364Z",
     "start_time": "2022-06-15T20:38:29.609649Z"
    }
   },
   "outputs": [],
   "source": [
    "# import concurrent.futures\n",
    "# from tqdm import tqdm\n",
    "\n",
    "# with concurrent.futures.ThreadPoolExecutor(max_workers=10) as executor:\n",
    "#     results = list(tqdm(executor.map(lambda job: job.download_files(), jobs), total=len(jobs)))"
   ]
  },
  {
   "cell_type": "code",
   "execution_count": 1,
   "id": "fe2dbf16",
   "metadata": {
    "ExecuteTime": {
     "end_time": "2022-12-07T18:06:43.762500Z",
     "start_time": "2022-12-07T18:06:43.676700Z"
    }
   },
   "outputs": [],
   "source": []
  },
  {
   "cell_type": "code",
   "execution_count": 26,
   "id": "6504cd42",
   "metadata": {
    "ExecuteTime": {
     "end_time": "2022-12-07T20:09:29.380161Z",
     "start_time": "2022-12-07T20:09:27.783674Z"
    }
   },
   "outputs": [
    {
     "data": {
      "text/plain": [
       "{'label': 'S1-GUNW-D-R-044-tops-20210925_20200930-172127-00169W_00053N-PP-812d-v2_0_6',\n",
       " 'location': {'type': 'Polygon',\n",
       "  'coordinates': [[[-168.51901370638998, 52.949164250116006],\n",
       "    [-168.23154351698687, 54.073419276400024],\n",
       "    [-168.23089845765574, 54.073351511029465],\n",
       "    [-168.2308597491203, 54.07349810373189],\n",
       "    [-164.456451, 53.676952],\n",
       "    [-164.48505422110097, 53.594056842509076],\n",
       "    [-164.48666431818882, 53.589594571143316],\n",
       "    [-164.843643, 52.555031],\n",
       "    [-168.51901370638998, 52.949164250116006]]]},\n",
       " 'creation_timestamp': '2022-12-07T20:02:56.614854Z',\n",
       " 'version': '2.0.6',\n",
       " 'metadata': {'ogr_bbox': [[-168.51901370638998, 52.555031],\n",
       "   [-164.456451, 52.555031],\n",
       "   [-164.456451, 54.07349810373189],\n",
       "   [-168.51901370638998, 54.07349810373189]],\n",
       "  'reference_scenes': ['S1A_IW_SLC__1SDV_20210925T172118_20210925T172137_039841_04B68A_7D82'],\n",
       "  'secondary_scenes': ['S1A_IW_SLC__1SDV_20200930T172045_20200930T172114_034591_0406F4_8C2F',\n",
       "   'S1A_IW_SLC__1SDV_20200930T172112_20200930T172131_034591_0406F4_17D7'],\n",
       "  'sensing_start': '2021-09-25T17:21:18.000000Z',\n",
       "  'sensing_stop': '2021-09-25T17:21:37.000000Z',\n",
       "  'orbit_number': [39841, 34591],\n",
       "  'platform': ['Sentinel-1A', 'Sentinel-1A'],\n",
       "  'beam_mode': 'IW',\n",
       "  'orbit_direction': 'descending',\n",
       "  'dataset_type': 'slc',\n",
       "  'product_type': 'interferogram',\n",
       "  'polarization': 'HH',\n",
       "  'look_direction': 'right',\n",
       "  'track_number': 44,\n",
       "  'perpendicular_baseline': -6.3591}}"
      ]
     },
     "execution_count": 26,
     "metadata": {},
     "output_type": "execute_result"
    }
   ],
   "source": [
    "import requests\n",
    "resp_0 = requests.get('https://hyp3-a19-jpl-contentbucket-1wfnatpznlg8b.s3.us-west-2.amazonaws.com/a6bdf7a4-7dc6-472c-bebf-3b1c10ac82ff/S1-GUNW-D-R-044-tops-20210925_20200930-172127-00169W_00053N-PP-812d-v2_0_6.json').json()\n",
    "resp_0"
   ]
  },
  {
   "cell_type": "code",
   "execution_count": 9,
   "id": "c1ad9bcd",
   "metadata": {
    "ExecuteTime": {
     "end_time": "2022-12-07T18:10:07.991377Z",
     "start_time": "2022-12-07T18:10:07.757011Z"
    }
   },
   "outputs": [
    {
     "data": {
      "text/plain": [
       "{'label': 'S1-GUNW-D-R-044-tops-20210925_20200930-172127-00169W_00053N-PP-812d-v2_0_6',\n",
       " 'location': {'type': 'Polygon',\n",
       "  'coordinates': [[[-168.51901370638998, 52.949164250116006],\n",
       "    [-168.23154351698687, 54.073419276400024],\n",
       "    [-168.23089845765574, 54.073351511029465],\n",
       "    [-168.2308597491203, 54.07349810373189],\n",
       "    [-164.456451, 53.676952],\n",
       "    [-164.48505422110097, 53.594056842509076],\n",
       "    [-164.48666431818882, 53.589594571143316],\n",
       "    [-164.843643, 52.555031],\n",
       "    [-168.51901370638998, 52.949164250116006]]]},\n",
       " 'creation_timestamp': '2022-12-07T00:07:48.361863Z',\n",
       " 'version': '2.0.6',\n",
       " 'metadata': {'ogr_bbox': [[-168.51901370638998, 52.555031],\n",
       "   [-164.456451, 52.555031],\n",
       "   [-164.456451, 54.07349810373189],\n",
       "   [-168.51901370638998, 54.07349810373189]],\n",
       "  'reference_scenes': ['S1A_IW_SLC__1SDV_20210925T172118_20210925T172137_039841_04B68A_7D82'],\n",
       "  'secondary_scenes': ['S1A_IW_SLC__1SDV_20200930T172045_20200930T172114_034591_0406F4_8C2F',\n",
       "   'S1A_IW_SLC__1SDV_20200930T172112_20200930T172131_034591_0406F4_17D7'],\n",
       "  'sensing_start': '2021-09-25T17:21:18.000Z',\n",
       "  'sensing_stop': '2021-09-25T17:21:37.000Z',\n",
       "  'orbit_number': [39841, 34591],\n",
       "  'platform': ['Sentinel-1A', 'Sentinel-1A'],\n",
       "  'beam_mode': 'IW',\n",
       "  'orbit_direction': 'descending',\n",
       "  'dataset_type': 'slc',\n",
       "  'product_type': 'interferogram',\n",
       "  'polarization': 'HH',\n",
       "  'look_direction': 'right',\n",
       "  'track_number': 44,\n",
       "  'perpendicular_baseline': -6.3591}}"
      ]
     },
     "execution_count": 9,
     "metadata": {},
     "output_type": "execute_result"
    }
   ],
   "source": [
    "resp_1 = requests.get('https://hyp3-a19-jpl-contentbucket-1wfnatpznlg8b.s3.us-west-2.amazonaws.com/f7cf59c4-a3c7-4ec7-99db-27b09ed4c03b/S1-GUNW-D-R-044-tops-20210925_20200930-172127-00169W_00053N-PP-812d-v2_0_6.json').json()\n",
    "resp_1"
   ]
  },
  {
   "cell_type": "code",
   "execution_count": 27,
   "id": "829fdd21",
   "metadata": {
    "ExecuteTime": {
     "end_time": "2022-12-07T20:09:37.312273Z",
     "start_time": "2022-12-07T20:09:37.231792Z"
    }
   },
   "outputs": [
    {
     "ename": "SchemaError",
     "evalue": "[{'type': 'number', 'minimum': -180, 'maximum': 180}, {'type': 'number', 'minimum': -90, 'maximum': 90}] is not of type 'object', 'boolean'\n\nFailed validating 'type' in metaschema['properties']['definitions']['additionalProperties']['$dynamicRef']['allOf'][1]['properties']['items']['$dynamicRef']['allOf'][0]:\n    {'$defs': {'anchorString': {'pattern': '^[A-Za-z_][-A-Za-z0-9._]*$',\n                                'type': 'string'},\n               'uriReferenceString': {'format': 'uri-reference',\n                                      'type': 'string'},\n               'uriString': {'format': 'uri', 'type': 'string'}},\n     '$dynamicAnchor': 'meta',\n     '$id': 'https://json-schema.org/draft/2020-12/meta/core',\n     '$schema': 'https://json-schema.org/draft/2020-12/schema',\n     '$vocabulary': {'https://json-schema.org/draft/2020-12/vocab/core': True},\n     'properties': {'$anchor': {'$ref': '#/$defs/anchorString'},\n                    '$comment': {'type': 'string'},\n                    '$defs': {'additionalProperties': {'$dynamicRef': '#meta'},\n                              'type': 'object'},\n                    '$dynamicAnchor': {'$ref': '#/$defs/anchorString'},\n                    '$dynamicRef': {'$ref': '#/$defs/uriReferenceString'},\n                    '$id': {'$comment': 'Non-empty fragments not allowed.',\n                            '$ref': '#/$defs/uriReferenceString',\n                            'pattern': '^[^#]*#?$'},\n                    '$ref': {'$ref': '#/$defs/uriReferenceString'},\n                    '$schema': {'$ref': '#/$defs/uriString'},\n                    '$vocabulary': {'additionalProperties': {'type': 'boolean'},\n                                    'propertyNames': {'$ref': '#/$defs/uriString'},\n                                    'type': 'object'}},\n     'title': 'Core vocabulary meta-schema',\n     'type': ['object', 'boolean']}\n\nOn schema['definitions']['coordinate']['items']:\n    [{'maximum': 180, 'minimum': -180, 'type': 'number'},\n     {'maximum': 90, 'minimum': -90, 'type': 'number'}]",
     "output_type": "error",
     "traceback": [
      "\u001b[0;31m--------------------------------\u001b[0m",
      "\u001b[0;31mSchemaError\u001b[0mTraceback (most recent call last)",
      "\u001b[0;32m<ipython-input-27-62660a20d30d>\u001b[0m in \u001b[0;36m<module>\u001b[0;34m\u001b[0m\n\u001b[1;32m      5\u001b[0m     \u001b[0mschema\u001b[0m \u001b[0;34m=\u001b[0m \u001b[0mjson\u001b[0m\u001b[0;34m.\u001b[0m\u001b[0mload\u001b[0m\u001b[0;34m(\u001b[0m\u001b[0mf\u001b[0m\u001b[0;34m)\u001b[0m\u001b[0;34m\u001b[0m\u001b[0;34m\u001b[0m\u001b[0m\n\u001b[1;32m      6\u001b[0m \u001b[0;34m\u001b[0m\u001b[0m\n\u001b[0;32m----> 7\u001b[0;31m \u001b[0mjsonschema\u001b[0m\u001b[0;34m.\u001b[0m\u001b[0mvalidate\u001b[0m\u001b[0;34m(\u001b[0m\u001b[0minstance\u001b[0m\u001b[0;34m=\u001b[0m\u001b[0mresp_0\u001b[0m\u001b[0;34m,\u001b[0m \u001b[0mschema\u001b[0m\u001b[0;34m=\u001b[0m\u001b[0mschema\u001b[0m\u001b[0;34m)\u001b[0m\u001b[0;34m\u001b[0m\u001b[0;34m\u001b[0m\u001b[0m\n\u001b[0m",
      "\u001b[0;32m~/opt/anaconda3/lib/python3.8/site-packages/jsonschema/validators.py\u001b[0m in \u001b[0;36mvalidate\u001b[0;34m(instance, schema, cls, *args, **kwargs)\u001b[0m\n\u001b[1;32m    961\u001b[0m         \u001b[0mcls\u001b[0m \u001b[0;34m=\u001b[0m \u001b[0mvalidator_for\u001b[0m\u001b[0;34m(\u001b[0m\u001b[0mschema\u001b[0m\u001b[0;34m)\u001b[0m\u001b[0;34m\u001b[0m\u001b[0;34m\u001b[0m\u001b[0m\n\u001b[1;32m    962\u001b[0m \u001b[0;34m\u001b[0m\u001b[0m\n\u001b[0;32m--> 963\u001b[0;31m     \u001b[0mcls\u001b[0m\u001b[0;34m.\u001b[0m\u001b[0mcheck_schema\u001b[0m\u001b[0;34m(\u001b[0m\u001b[0mschema\u001b[0m\u001b[0;34m)\u001b[0m\u001b[0;34m\u001b[0m\u001b[0;34m\u001b[0m\u001b[0m\n\u001b[0m\u001b[1;32m    964\u001b[0m     \u001b[0mvalidator\u001b[0m \u001b[0;34m=\u001b[0m \u001b[0mcls\u001b[0m\u001b[0;34m(\u001b[0m\u001b[0mschema\u001b[0m\u001b[0;34m,\u001b[0m \u001b[0;34m*\u001b[0m\u001b[0margs\u001b[0m\u001b[0;34m,\u001b[0m \u001b[0;34m**\u001b[0m\u001b[0mkwargs\u001b[0m\u001b[0;34m)\u001b[0m\u001b[0;34m\u001b[0m\u001b[0;34m\u001b[0m\u001b[0m\n\u001b[1;32m    965\u001b[0m     \u001b[0merror\u001b[0m \u001b[0;34m=\u001b[0m \u001b[0mexceptions\u001b[0m\u001b[0;34m.\u001b[0m\u001b[0mbest_match\u001b[0m\u001b[0;34m(\u001b[0m\u001b[0mvalidator\u001b[0m\u001b[0;34m.\u001b[0m\u001b[0miter_errors\u001b[0m\u001b[0;34m(\u001b[0m\u001b[0minstance\u001b[0m\u001b[0;34m)\u001b[0m\u001b[0;34m)\u001b[0m\u001b[0;34m\u001b[0m\u001b[0;34m\u001b[0m\u001b[0m\n",
      "\u001b[0;32m~/opt/anaconda3/lib/python3.8/site-packages/jsonschema/validators.py\u001b[0m in \u001b[0;36mcheck_schema\u001b[0;34m(cls, schema)\u001b[0m\n\u001b[1;32m    181\u001b[0m         \u001b[0;32mdef\u001b[0m \u001b[0mcheck_schema\u001b[0m\u001b[0;34m(\u001b[0m\u001b[0mcls\u001b[0m\u001b[0;34m,\u001b[0m \u001b[0mschema\u001b[0m\u001b[0;34m)\u001b[0m\u001b[0;34m:\u001b[0m\u001b[0;34m\u001b[0m\u001b[0;34m\u001b[0m\u001b[0m\n\u001b[1;32m    182\u001b[0m             \u001b[0;32mfor\u001b[0m \u001b[0merror\u001b[0m \u001b[0;32min\u001b[0m \u001b[0mcls\u001b[0m\u001b[0;34m(\u001b[0m\u001b[0mcls\u001b[0m\u001b[0;34m.\u001b[0m\u001b[0mMETA_SCHEMA\u001b[0m\u001b[0;34m)\u001b[0m\u001b[0;34m.\u001b[0m\u001b[0miter_errors\u001b[0m\u001b[0;34m(\u001b[0m\u001b[0mschema\u001b[0m\u001b[0;34m)\u001b[0m\u001b[0;34m:\u001b[0m\u001b[0;34m\u001b[0m\u001b[0;34m\u001b[0m\u001b[0m\n\u001b[0;32m--> 183\u001b[0;31m                 \u001b[0;32mraise\u001b[0m \u001b[0mexceptions\u001b[0m\u001b[0;34m.\u001b[0m\u001b[0mSchemaError\u001b[0m\u001b[0;34m.\u001b[0m\u001b[0mcreate_from\u001b[0m\u001b[0;34m(\u001b[0m\u001b[0merror\u001b[0m\u001b[0;34m)\u001b[0m\u001b[0;34m\u001b[0m\u001b[0;34m\u001b[0m\u001b[0m\n\u001b[0m\u001b[1;32m    184\u001b[0m \u001b[0;34m\u001b[0m\u001b[0m\n\u001b[1;32m    185\u001b[0m         \u001b[0;32mdef\u001b[0m \u001b[0mevolve\u001b[0m\u001b[0;34m(\u001b[0m\u001b[0mself\u001b[0m\u001b[0;34m,\u001b[0m \u001b[0;34m**\u001b[0m\u001b[0mkwargs\u001b[0m\u001b[0;34m)\u001b[0m\u001b[0;34m:\u001b[0m\u001b[0;34m\u001b[0m\u001b[0;34m\u001b[0m\u001b[0m\n",
      "\u001b[0;31mSchemaError\u001b[0m: [{'type': 'number', 'minimum': -180, 'maximum': 180}, {'type': 'number', 'minimum': -90, 'maximum': 90}] is not of type 'object', 'boolean'\n\nFailed validating 'type' in metaschema['properties']['definitions']['additionalProperties']['$dynamicRef']['allOf'][1]['properties']['items']['$dynamicRef']['allOf'][0]:\n    {'$defs': {'anchorString': {'pattern': '^[A-Za-z_][-A-Za-z0-9._]*$',\n                                'type': 'string'},\n               'uriReferenceString': {'format': 'uri-reference',\n                                      'type': 'string'},\n               'uriString': {'format': 'uri', 'type': 'string'}},\n     '$dynamicAnchor': 'meta',\n     '$id': 'https://json-schema.org/draft/2020-12/meta/core',\n     '$schema': 'https://json-schema.org/draft/2020-12/schema',\n     '$vocabulary': {'https://json-schema.org/draft/2020-12/vocab/core': True},\n     'properties': {'$anchor': {'$ref': '#/$defs/anchorString'},\n                    '$comment': {'type': 'string'},\n                    '$defs': {'additionalProperties': {'$dynamicRef': '#meta'},\n                              'type': 'object'},\n                    '$dynamicAnchor': {'$ref': '#/$defs/anchorString'},\n                    '$dynamicRef': {'$ref': '#/$defs/uriReferenceString'},\n                    '$id': {'$comment': 'Non-empty fragments not allowed.',\n                            '$ref': '#/$defs/uriReferenceString',\n                            'pattern': '^[^#]*#?$'},\n                    '$ref': {'$ref': '#/$defs/uriReferenceString'},\n                    '$schema': {'$ref': '#/$defs/uriString'},\n                    '$vocabulary': {'additionalProperties': {'type': 'boolean'},\n                                    'propertyNames': {'$ref': '#/$defs/uriString'},\n                                    'type': 'object'}},\n     'title': 'Core vocabulary meta-schema',\n     'type': ['object', 'boolean']}\n\nOn schema['definitions']['coordinate']['items']:\n    [{'maximum': 180, 'minimum': -180, 'type': 'number'},\n     {'maximum': 90, 'minimum': -90, 'type': 'number'}]"
     ]
    }
   ],
   "source": [
    "import json\n",
    "import jsonschema\n",
    "\n",
    "with open('schema.json') as f:\n",
    "    schema = json.load(f)\n",
    "\n",
    "jsonschema.validate(instance=resp_0, schema=schema)"
   ]
  },
  {
   "cell_type": "code",
   "execution_count": 12,
   "id": "6f5354a5",
   "metadata": {
    "ExecuteTime": {
     "end_time": "2022-12-07T18:14:09.640206Z",
     "start_time": "2022-12-07T18:14:09.637921Z"
    }
   },
   "outputs": [],
   "source": [
    "resp_0_c = resp_0.copy()"
   ]
  },
  {
   "cell_type": "code",
   "execution_count": 14,
   "id": "f4528cf5",
   "metadata": {
    "ExecuteTime": {
     "end_time": "2022-12-07T18:14:53.823076Z",
     "start_time": "2022-12-07T18:14:53.820675Z"
    }
   },
   "outputs": [],
   "source": [
    "resp_0_c['metadata']['sensing_start'] = '2022-05-20T07:11:01.000000Z'"
   ]
  },
  {
   "cell_type": "code",
   "execution_count": 17,
   "id": "ad194c77",
   "metadata": {
    "ExecuteTime": {
     "end_time": "2022-12-07T18:15:16.029807Z",
     "start_time": "2022-12-07T18:15:16.027306Z"
    }
   },
   "outputs": [],
   "source": [
    "resp_0_c['metadata']['sensing_stop'] = '2022-05-20T07:11:28.000000Z'"
   ]
  },
  {
   "cell_type": "code",
   "execution_count": 18,
   "id": "4cc769b7",
   "metadata": {
    "ExecuteTime": {
     "end_time": "2022-12-07T18:15:21.431336Z",
     "start_time": "2022-12-07T18:15:21.427267Z"
    }
   },
   "outputs": [],
   "source": [
    "jsonschema.validate(instance=resp_0_c, schema=schema)"
   ]
  },
  {
   "cell_type": "code",
   "execution_count": 26,
   "id": "2f916a46",
   "metadata": {
    "ExecuteTime": {
     "end_time": "2022-12-07T18:19:53.104082Z",
     "start_time": "2022-12-07T18:19:53.100212Z"
    }
   },
   "outputs": [
    {
     "data": {
      "text/plain": [
       "'2022-05-20T07:11:28.000000'"
      ]
     },
     "execution_count": 26,
     "metadata": {},
     "output_type": "execute_result"
    }
   ],
   "source": [
    "temp = resp_0['metadata']['sensing_stop'][:-1].split('.')\n",
    "temp[-1] = f'{int(temp[-1]):06d}'\n",
    "'.'.join(temp)"
   ]
  },
  {
   "cell_type": "code",
   "execution_count": 25,
   "id": "db2d2595",
   "metadata": {
    "ExecuteTime": {
     "end_time": "2022-12-07T18:19:26.535719Z",
     "start_time": "2022-12-07T18:19:26.532438Z"
    }
   },
   "outputs": [
    {
     "data": {
      "text/plain": [
       "'000003'"
      ]
     },
     "execution_count": 25,
     "metadata": {},
     "output_type": "execute_result"
    }
   ],
   "source": [
    "f'{int(3):06d}'"
   ]
  },
  {
   "cell_type": "code",
   "execution_count": null,
   "id": "f80e95d0",
   "metadata": {},
   "outputs": [],
   "source": []
  }
 ],
 "metadata": {
  "kernelspec": {
   "display_name": "Python 3 (ipykernel)",
   "language": "python",
   "name": "python3"
  },
  "language_info": {
   "codemirror_mode": {
    "name": "ipython",
    "version": 3
   },
   "file_extension": ".py",
   "mimetype": "text/x-python",
   "name": "python",
   "nbconvert_exporter": "python",
   "pygments_lexer": "ipython3",
   "version": "3.10.9"
  }
 },
 "nbformat": 4,
 "nbformat_minor": 5
}
