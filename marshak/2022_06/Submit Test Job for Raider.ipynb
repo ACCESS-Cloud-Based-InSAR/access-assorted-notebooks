{
 "cells": [
  {
   "cell_type": "code",
   "execution_count": 1,
   "id": "4b76cf31",
   "metadata": {
    "ExecuteTime": {
     "end_time": "2023-01-24T19:45:33.673566Z",
     "start_time": "2023-01-24T19:45:33.571661Z"
    }
   },
   "outputs": [],
   "source": [
    "import hyp3_sdk"
   ]
  },
  {
   "cell_type": "code",
   "execution_count": 6,
   "id": "67034fb4",
   "metadata": {
    "ExecuteTime": {
     "end_time": "2023-01-24T19:48:44.595882Z",
     "start_time": "2023-01-24T19:48:44.587703Z"
    }
   },
   "outputs": [
    {
     "data": {
      "text/plain": [
       "[{'reference': ['S1B_IW_SLC__1SDV_20200211T135142_20200211T135209_020222_0264A9_1B5A'],\n",
       "  'secondary': ['S1B_IW_SLC__1SDV_20200130T135143_20200130T135210_020047_025EF5_6165',\n",
       "   'S1B_IW_SLC__1SDV_20200130T135207_20200130T135234_020047_025EF5_5DF7'],\n",
       "  'weather_model': 'HRRR'}]"
      ]
     },
     "execution_count": 6,
     "metadata": {},
     "output_type": "execute_result"
    }
   ],
   "source": [
    "records_to_submit = [\n",
    "                     # Track 71 Test\n",
    "                     {'reference': ['S1B_IW_SLC__1SDV_20200211T135142_20200211T135209_020222_0264A9_1B5A'],\n",
    "                      'secondary': ['S1B_IW_SLC__1SDV_20200130T135143_20200130T135210_020047_025EF5_6165',\n",
    "                                    'S1B_IW_SLC__1SDV_20200130T135207_20200130T135234_020047_025EF5_5DF7'],\n",
    "                      'weather_model': 'ERA5'\n",
    "                     },\n",
    "                     # Can add more\n",
    "                     # {'reference': ['S1A_IW_SLC__1SDV_20220520T071101_20220520T071128_043291_052B7B_7B63'],\n",
    "                     #  'secondary': ['S1A_IW_SLC__1SDV_20220508T071100_20220508T071127_043116_05262A_AA24']\n",
    "                     # }\n",
    "                    ]\n",
    "\n",
    "records_to_submit"
   ]
  },
  {
   "cell_type": "code",
   "execution_count": 3,
   "id": "7517e4a4",
   "metadata": {
    "ExecuteTime": {
     "end_time": "2023-01-24T19:45:54.112106Z",
     "start_time": "2023-01-24T19:45:37.519127Z"
    }
   },
   "outputs": [
    {
     "name": "stdout",
     "output_type": "stream",
     "text": [
      "NASA Earthdata Login username: cmarshak\n",
      "NASA Earthdata Login password: ········\n"
     ]
    }
   ],
   "source": [
    "import hyp3_sdk\n",
    "\n",
    "# uses .netrc; add `prompt=True` to prompt for credentials; \n",
    "hyp3_isce = hyp3_sdk.HyP3('https://hyp3-a19-jpl.asf.alaska.edu', prompt=True)"
   ]
  },
  {
   "cell_type": "code",
   "execution_count": 7,
   "id": "24dfaca7",
   "metadata": {
    "ExecuteTime": {
     "end_time": "2023-01-24T19:49:06.205033Z",
     "start_time": "2023-01-24T19:49:06.202822Z"
    }
   },
   "outputs": [],
   "source": [
    "JOB_NAME = 'raider-test-era5'"
   ]
  },
  {
   "cell_type": "code",
   "execution_count": 8,
   "id": "ec927456",
   "metadata": {
    "ExecuteTime": {
     "end_time": "2023-01-24T19:49:18.605852Z",
     "start_time": "2023-01-24T19:49:13.514724Z"
    }
   },
   "outputs": [],
   "source": [
    "job_dicts = [{'name': JOB_NAME,\n",
    "              # NOTE: we are still using the `dev` branch. Change this to \"INSAR_ISCE\" to use the `main` branch.\n",
    "              'job_type': 'INSAR_ISCE_TEST',\n",
    "              'job_parameters': {'granules': r['reference'],\n",
    "                                 'secondary_granules': r['secondary']}} \n",
    "             # NOTE THERE IS AN INDEX - this is to submit only a subset of Jobs\n",
    "             for r in records_to_submit]\n",
    "\n",
    "\n",
    "# UNCOMMENT TO SUBMIT\n",
    "submitted_jobs = hyp3_isce.submit_prepared_jobs(job_dicts)"
   ]
  },
  {
   "cell_type": "code",
   "execution_count": 11,
   "id": "32207cd4",
   "metadata": {
    "ExecuteTime": {
     "end_time": "2023-01-24T19:50:17.125129Z",
     "start_time": "2023-01-24T19:50:17.017305Z"
    }
   },
   "outputs": [
    {
     "name": "stdout",
     "output_type": "stream",
     "text": [
      "1 HyP3 Jobs: 0 succeeded, 0 failed, 0 running, 1 pending.\n"
     ]
    }
   ],
   "source": [
    "jobs = hyp3_isce.find_jobs(name=JOB_NAME)\n",
    "print(jobs)"
   ]
  },
  {
   "cell_type": "code",
   "execution_count": 10,
   "id": "ac92b4c2",
   "metadata": {
    "ExecuteTime": {
     "end_time": "2023-01-24T19:49:25.254606Z",
     "start_time": "2023-01-24T19:49:25.251632Z"
    }
   },
   "outputs": [
    {
     "data": {
      "text/plain": [
       "Batch([Job.from_dict({'job_id': '0af509ab-d5e5-4970-b82a-e934ca0e76ff', 'job_type': 'INSAR_ISCE_TEST', 'request_time': '2023-01-24T19:49:18+00:00', 'status_code': 'PENDING', 'user_id': 'cmarshak', 'name': 'raider-test-era5', 'job_parameters': {'granules': ['S1B_IW_SLC__1SDV_20200211T135142_20200211T135209_020222_0264A9_1B5A'], 'secondary_granules': ['S1B_IW_SLC__1SDV_20200130T135143_20200130T135210_020047_025EF5_6165', 'S1B_IW_SLC__1SDV_20200130T135207_20200130T135234_020047_025EF5_5DF7']}})])"
      ]
     },
     "execution_count": 10,
     "metadata": {},
     "output_type": "execute_result"
    }
   ],
   "source": [
    "jobs"
   ]
  },
  {
   "cell_type": "code",
   "execution_count": 11,
   "id": "5b4d3c06",
   "metadata": {
    "ExecuteTime": {
     "end_time": "2022-06-15T20:38:29.611364Z",
     "start_time": "2022-06-15T20:38:29.609649Z"
    }
   },
   "outputs": [],
   "source": [
    "# import concurrent.futures\n",
    "# from tqdm import tqdm\n",
    "\n",
    "# with concurrent.futures.ThreadPoolExecutor(max_workers=10) as executor:\n",
    "#     results = list(tqdm(executor.map(lambda job: job.download_files(), jobs), total=len(jobs)))"
   ]
  }
 ],
 "metadata": {
  "kernelspec": {
   "display_name": "Python 3",
   "language": "python",
   "name": "python3"
  },
  "language_info": {
   "codemirror_mode": {
    "name": "ipython",
    "version": 3
   },
   "file_extension": ".py",
   "mimetype": "text/x-python",
   "name": "python",
   "nbconvert_exporter": "python",
   "pygments_lexer": "ipython3",
   "version": "3.8.5"
  }
 },
 "nbformat": 4,
 "nbformat_minor": 5
}
