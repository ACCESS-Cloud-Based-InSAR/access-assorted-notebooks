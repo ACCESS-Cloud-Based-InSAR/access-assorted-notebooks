{
 "cells": [
  {
   "cell_type": "code",
   "execution_count": 1,
   "id": "e18af7f8",
   "metadata": {
    "ExecuteTime": {
     "end_time": "2023-01-24T20:13:30.901686Z",
     "start_time": "2023-01-24T20:13:30.839449Z"
    }
   },
   "outputs": [],
   "source": [
    "import hyp3_sdk"
   ]
  },
  {
   "cell_type": "code",
   "execution_count": 10,
   "id": "6e8a1651",
   "metadata": {
    "ExecuteTime": {
     "end_time": "2023-01-24T20:14:56.313968Z",
     "start_time": "2023-01-24T20:14:56.310397Z"
    }
   },
   "outputs": [
    {
     "data": {
      "text/plain": [
       "[{'granules': ['S1B_IW_SLC__1SDV_20200211T135142_20200211T135209_020222_0264A9_1B5A'],\n",
       "  'secondary_granules': ['S1B_IW_SLC__1SDV_20200130T135143_20200130T135210_020047_025EF5_6165',\n",
       "   'S1B_IW_SLC__1SDV_20200130T135207_20200130T135234_020047_025EF5_5DF7'],\n",
       "  'weather_model': 'HRRR'}]"
      ]
     },
     "execution_count": 10,
     "metadata": {},
     "output_type": "execute_result"
    }
   ],
   "source": [
    "records_to_submit = [\n",
    "                     # Track 71 Test\n",
    "                     {'granules': \n",
    "                          ['S1B_IW_SLC__1SDV_20200211T135142_20200211T135209_020222_0264A9_1B5A'],\n",
    "                      'secondary_granules': \n",
    "                          ['S1B_IW_SLC__1SDV_20200130T135143_20200130T135210_020047_025EF5_6165',\n",
    "                           'S1B_IW_SLC__1SDV_20200130T135207_20200130T135234_020047_025EF5_5DF7'],\n",
    "                      'weather_model': 'HRRR'\n",
    "                     },\n",
    "                     # Can add more\n",
    "                     # {'granules': \n",
    "                     #     ['S1B_IW_SLC__1SDV_20200211T135142_20200211T135209_020222_0264A9_1B5A'],\n",
    "                     # 'secondary_granules': \n",
    "                     #     ['S1B_IW_SLC__1SDV_20200130T135143_20200130T135210_020047_025EF5_6165',\n",
    "                     #      'S1B_IW_SLC__1SDV_20200130T135207_20200130T135234_020047_025EF5_5DF7'],\n",
    "                     # 'weather_model': 'HRRR'\n",
    "                     }\n",
    "                    ]\n",
    "\n",
    "records_to_submit"
   ]
  },
  {
   "cell_type": "code",
   "execution_count": 3,
   "id": "dde3b343",
   "metadata": {
    "ExecuteTime": {
     "end_time": "2023-01-24T20:13:45.067772Z",
     "start_time": "2023-01-24T20:13:30.913186Z"
    }
   },
   "outputs": [
    {
     "name": "stdout",
     "output_type": "stream",
     "text": [
      "NASA Earthdata Login username: cmarshak\n",
      "NASA Earthdata Login password: ········\n"
     ]
    }
   ],
   "source": [
    "import hyp3_sdk\n",
    "\n",
    "# uses .netrc; add `prompt=True` to prompt for credentials; \n",
    "hyp3_isce = hyp3_sdk.HyP3('https://hyp3-a19-jpl.asf.alaska.edu', prompt=True)"
   ]
  },
  {
   "cell_type": "code",
   "execution_count": 5,
   "id": "a0b35643",
   "metadata": {
    "ExecuteTime": {
     "end_time": "2023-01-24T20:13:59.713113Z",
     "start_time": "2023-01-24T20:13:59.711149Z"
    }
   },
   "outputs": [],
   "source": [
    "JOB_NAME = 'raider-test-hrrr-corrected'"
   ]
  },
  {
   "cell_type": "code",
   "execution_count": 9,
   "id": "6a38c859",
   "metadata": {
    "ExecuteTime": {
     "end_time": "2023-01-24T20:14:52.394632Z",
     "start_time": "2023-01-24T20:14:52.390535Z"
    }
   },
   "outputs": [
    {
     "data": {
      "text/plain": [
       "[{'name': 'raider-test-hrrr-corrected',\n",
       "  'job_type': 'INSAR_ISCE_TEST',\n",
       "  'job_parameters': {'granules': ['S1B_IW_SLC__1SDV_20200211T135142_20200211T135209_020222_0264A9_1B5A'],\n",
       "   'secondary_granules': ['S1B_IW_SLC__1SDV_20200130T135143_20200130T135210_020047_025EF5_6165',\n",
       "    'S1B_IW_SLC__1SDV_20200130T135207_20200130T135234_020047_025EF5_5DF7'],\n",
       "   'weather_model': 'HRRR'}}]"
      ]
     },
     "execution_count": 9,
     "metadata": {},
     "output_type": "execute_result"
    }
   ],
   "source": [
    "job_dicts = [{'name': JOB_NAME,\n",
    "              # NOTE: we are still using the `dev` branch. Change this to \"INSAR_ISCE\" to use the `main` branch.\n",
    "              'job_type': 'INSAR_ISCE_TEST',\n",
    "              'job_parameters': r\n",
    "             }\n",
    "             # NOTE THERE IS AN INDEX - this is to submit only a subset of Jobs\n",
    "             for r in records_to_submit]\n",
    "job_dicts"
   ]
  },
  {
   "cell_type": "markdown",
   "id": "60fde707",
   "metadata": {},
   "source": [
    "Submitting jobs!"
   ]
  },
  {
   "cell_type": "code",
   "execution_count": 11,
   "id": "801e9262",
   "metadata": {
    "ExecuteTime": {
     "end_time": "2023-01-24T20:15:05.856648Z",
     "start_time": "2023-01-24T20:15:04.198650Z"
    }
   },
   "outputs": [],
   "source": [
    "submitted_jobs = hyp3_isce.submit_prepared_jobs(job_dicts)"
   ]
  },
  {
   "cell_type": "code",
   "execution_count": 12,
   "id": "f28df6bc",
   "metadata": {
    "ExecuteTime": {
     "end_time": "2023-01-24T20:15:08.840871Z",
     "start_time": "2023-01-24T20:15:08.718429Z"
    }
   },
   "outputs": [
    {
     "name": "stdout",
     "output_type": "stream",
     "text": [
      "1 HyP3 Jobs: 0 succeeded, 0 failed, 0 running, 1 pending.\n"
     ]
    }
   ],
   "source": [
    "jobs = hyp3_isce.find_jobs(name=JOB_NAME)\n",
    "print(jobs)"
   ]
  },
  {
   "cell_type": "code",
   "execution_count": 13,
   "id": "1e636922",
   "metadata": {
    "ExecuteTime": {
     "end_time": "2023-01-24T20:15:14.000754Z",
     "start_time": "2023-01-24T20:15:13.997881Z"
    }
   },
   "outputs": [
    {
     "data": {
      "text/plain": [
       "Batch([Job.from_dict({'job_id': '3ee321d9-c9b4-4b25-a085-bdc594cbe3e7', 'job_type': 'INSAR_ISCE_TEST', 'request_time': '2023-01-24T20:15:05+00:00', 'status_code': 'PENDING', 'user_id': 'cmarshak', 'name': 'raider-test-hrrr-corrected', 'job_parameters': {'granules': ['S1B_IW_SLC__1SDV_20200211T135142_20200211T135209_020222_0264A9_1B5A'], 'secondary_granules': ['S1B_IW_SLC__1SDV_20200130T135143_20200130T135210_020047_025EF5_6165', 'S1B_IW_SLC__1SDV_20200130T135207_20200130T135234_020047_025EF5_5DF7'], 'weather_model': 'HRRR'}})])"
      ]
     },
     "execution_count": 13,
     "metadata": {},
     "output_type": "execute_result"
    }
   ],
   "source": [
    "jobs"
   ]
  },
  {
   "cell_type": "code",
   "execution_count": 11,
   "id": "86863f3b",
   "metadata": {
    "ExecuteTime": {
     "end_time": "2022-06-15T20:38:29.611364Z",
     "start_time": "2022-06-15T20:38:29.609649Z"
    }
   },
   "outputs": [],
   "source": [
    "# import concurrent.futures\n",
    "# from tqdm import tqdm\n",
    "\n",
    "# with concurrent.futures.ThreadPoolExecutor(max_workers=10) as executor:\n",
    "#     results = list(tqdm(executor.map(lambda job: job.download_files(), jobs), total=len(jobs)))"
   ]
  }
 ],
 "metadata": {
  "kernelspec": {
   "display_name": "Python 3",
   "language": "python",
   "name": "python3"
  },
  "language_info": {
   "codemirror_mode": {
    "name": "ipython",
    "version": 3
   },
   "file_extension": ".py",
   "mimetype": "text/x-python",
   "name": "python",
   "nbconvert_exporter": "python",
   "pygments_lexer": "ipython3",
   "version": "3.8.5"
  }
 },
 "nbformat": 4,
 "nbformat_minor": 5
}
