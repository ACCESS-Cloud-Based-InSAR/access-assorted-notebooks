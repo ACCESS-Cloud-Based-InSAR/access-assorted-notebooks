{
 "cells": [
  {
   "cell_type": "markdown",
   "id": "bc344010-9859-4537-948e-e4c4fcf29a5e",
   "metadata": {},
   "source": [
    "Submit a job over Chicago using hyp3-sdk.\n",
    "\n",
    "News article: https://news.wttw.com/2025/09/16/chicago-among-major-us-cities-are-slowly-sinking-study\n",
    "\n",
    "Extra libraries required:\n",
    "\n",
    "- jupyter-notebook\n",
    "- hyp3_sdk\n",
    "- geopandas"
   ]
  },
  {
   "cell_type": "code",
   "execution_count": 1,
   "id": "2b0ab863-7e69-4e28-b43b-3cc3204f273b",
   "metadata": {},
   "outputs": [],
   "source": [
    "from hyp3_sdk import HyP3\n",
    "from asf_enumeration import aria_s1_gunw\n",
    "from shapely import Point\n",
    "import geopandas as gpd\n",
    "import matplotlib.pyplot as plt\n",
    "from datetime import datetime\n",
    "from tqdm import tqdm"
   ]
  },
  {
   "cell_type": "markdown",
   "id": "c5557e5b-cf35-4659-b673-e7155b3bab95",
   "metadata": {},
   "source": [
    "# Interactive Frame Selection"
   ]
  },
  {
   "cell_type": "code",
   "execution_count": 7,
   "id": "4171bb67-1c0d-4e74-a309-5504c272702c",
   "metadata": {},
   "outputs": [],
   "source": [
    "chicago_pt = Point(-87.6324, 41.8832)\n",
    "df_aoi = gpd.GeoDataFrame(geometry=[chicago_pt], crs='4326')"
   ]
  },
  {
   "cell_type": "code",
   "execution_count": 3,
   "id": "8431261a-fdd1-4c9a-b04f-ddd65d8bfe42",
   "metadata": {},
   "outputs": [
    {
     "data": {
      "text/plain": [
       "AriaFrame(id=2806, path=19, flight_direction='ASCENDING', polygon=<POLYGON ((-89.801 41.438, -90.114 42.626, -90.109 42.627, -90.197 42.958, -...>)"
      ]
     },
     "execution_count": 3,
     "metadata": {},
     "output_type": "execute_result"
    }
   ],
   "source": [
    "frames_over_point = aria_s1_gunw.get_frames(geometry=chicago_pt)\n",
    "frames_over_point[0]"
   ]
  },
  {
   "cell_type": "code",
   "execution_count": 4,
   "id": "9079c4bc-7216-4fd8-823b-0e355c6dfec7",
   "metadata": {},
   "outputs": [],
   "source": [
    "data = [f.__dict__ for f in frames_over_point]\n",
    "def rename_key(key: str):\n",
    "    return key if key != 'polygon' else 'geometry'\n",
    "\n",
    "data = [{rename_key(k):v for k, v in d.items()} for d in data]\n",
    "df_frames = gpd.GeoDataFrame(data, crs='4326')"
   ]
  },
  {
   "cell_type": "code",
   "execution_count": 5,
   "id": "2d978b58-0ae1-421c-8404-f0529a611e00",
   "metadata": {},
   "outputs": [
    {
     "data": {
      "text/html": [
       "<div>\n",
       "<style scoped>\n",
       "    .dataframe tbody tr th:only-of-type {\n",
       "        vertical-align: middle;\n",
       "    }\n",
       "\n",
       "    .dataframe tbody tr th {\n",
       "        vertical-align: top;\n",
       "    }\n",
       "\n",
       "    .dataframe thead th {\n",
       "        text-align: right;\n",
       "    }\n",
       "</style>\n",
       "<table border=\"1\" class=\"dataframe\">\n",
       "  <thead>\n",
       "    <tr style=\"text-align: right;\">\n",
       "      <th></th>\n",
       "      <th>id</th>\n",
       "      <th>path</th>\n",
       "      <th>flight_direction</th>\n",
       "      <th>geometry</th>\n",
       "    </tr>\n",
       "  </thead>\n",
       "  <tbody>\n",
       "    <tr>\n",
       "      <th>0</th>\n",
       "      <td>2806</td>\n",
       "      <td>19</td>\n",
       "      <td>ASCENDING</td>\n",
       "      <td>POLYGON ((-89.8012 41.4378, -90.1137 42.6259, ...</td>\n",
       "    </tr>\n",
       "    <tr>\n",
       "      <th>1</th>\n",
       "      <td>18782</td>\n",
       "      <td>121</td>\n",
       "      <td>ASCENDING</td>\n",
       "      <td>POLYGON ((-84.6314 41.2115, -84.5885 41.0064, ...</td>\n",
       "    </tr>\n",
       "    <tr>\n",
       "      <th>2</th>\n",
       "      <td>15405</td>\n",
       "      <td>99</td>\n",
       "      <td>DESCENDING</td>\n",
       "      <td>POLYGON ((-86.8156 41.3525, -87.3664 41.4237, ...</td>\n",
       "    </tr>\n",
       "  </tbody>\n",
       "</table>\n",
       "</div>"
      ],
      "text/plain": [
       "      id  path flight_direction  \\\n",
       "0   2806    19        ASCENDING   \n",
       "1  18782   121        ASCENDING   \n",
       "2  15405    99       DESCENDING   \n",
       "\n",
       "                                            geometry  \n",
       "0  POLYGON ((-89.8012 41.4378, -90.1137 42.6259, ...  \n",
       "1  POLYGON ((-84.6314 41.2115, -84.5885 41.0064, ...  \n",
       "2  POLYGON ((-86.8156 41.3525, -87.3664 41.4237, ...  "
      ]
     },
     "execution_count": 5,
     "metadata": {},
     "output_type": "execute_result"
    }
   ],
   "source": [
    "df_frames.head()"
   ]
  },
  {
   "cell_type": "code",
   "execution_count": 8,
   "id": "e1090db0-078a-4a9f-9129-935058754c29",
   "metadata": {},
   "outputs": [
    {
     "data": {
      "text/plain": [
       "<Axes: >"
      ]
     },
     "execution_count": 8,
     "metadata": {},
     "output_type": "execute_result"
    },
    {
     "data": {
      "image/png": "[encoded data removed]",
      "text/plain": [
       "<Figure size 640x480 with 1 Axes>"
      ]
     },
     "metadata": {},
     "output_type": "display_data"
    }
   ],
   "source": [
    "fig, ax = plt.subplots()\n",
    "\n",
    "df_aoi.plot(ax=ax)\n",
    "df_frames.plot(column='id', categorical=True, alpha=.25, ax=ax, legend=True, cmap='tab20c')"
   ]
  },
  {
   "cell_type": "markdown",
   "id": "e21a7c7e-5603-46e0-96cf-991dbf7c588e",
   "metadata": {},
   "source": [
    "Below is a nice interactive map for exploring the tiles."
   ]
  },
  {
   "cell_type": "code",
   "execution_count": 9,
   "id": "d363883a-01d3-4086-b1b9-940def84684e",
   "metadata": {},
   "outputs": [],
   "source": [
    "# df_frames.explore(column='id', alpha=.25, categorical=True)"
   ]
  },
  {
   "cell_type": "markdown",
   "id": "22cdd21c-b4dc-45b7-b62f-5db231cde871",
   "metadata": {},
   "source": [
    "# Get SLC Stack "
   ]
  },
  {
   "cell_type": "code",
   "execution_count": 10,
   "id": "8e70316c-66ad-4331-a71f-2c25c6764af2",
   "metadata": {},
   "outputs": [],
   "source": [
    "FRAME_ID = 18782 # the other frames of far less acquisition data as can be checked."
   ]
  },
  {
   "cell_type": "code",
   "execution_count": 11,
   "id": "aba36ae2-b763-443c-b724-c9f64d622c2b",
   "metadata": {},
   "outputs": [
    {
     "name": "stderr",
     "output_type": "stream",
     "text": [
      "WARNING:asf_search:WKT REPAIR/VALIDATION: The following repairs were performed on the provided AOI:\n",
      "[\"'type': 'GEOMETRY_SIMPLIFICATION': 'report': 'Shape Simplified: shape of 22 simplified to 21 with proximity threshold of 0.0004'\", \"'type': 'REVERSE': 'report': Reversed polygon winding order\"]\n"
     ]
    },
    {
     "data": {
      "text/plain": [
       "244"
      ]
     },
     "execution_count": 11,
     "metadata": {},
     "output_type": "execute_result"
    }
   ],
   "source": [
    "acquisitions_within_frame_id = aria_s1_gunw.get_acquisitions(FRAME_ID)\n",
    "len(acquisitions_within_frame_id)"
   ]
  },
  {
   "cell_type": "code",
   "execution_count": 12,
   "id": "9f4c969a-4fa5-46be-8ee9-d197bad34397",
   "metadata": {},
   "outputs": [
    {
     "data": {
      "text/plain": [
       "244"
      ]
     },
     "execution_count": 12,
     "metadata": {},
     "output_type": "execute_result"
    }
   ],
   "source": [
    "len(acquisitions_within_frame_id)"
   ]
  },
  {
   "cell_type": "code",
   "execution_count": 13,
   "id": "c63a8a9e-7e9d-451a-9c65-e92c6c4718d5",
   "metadata": {},
   "outputs": [
    {
     "data": {
      "text/plain": [
       "[datetime.date(2016, 11, 19),\n",
       " datetime.date(2016, 12, 13),\n",
       " datetime.date(2017, 1, 6)]"
      ]
     },
     "execution_count": 13,
     "metadata": {},
     "output_type": "execute_result"
    }
   ],
   "source": [
    "dates = sorted([acq.date for acq in acquisitions_within_frame_id])\n",
    "dates[:3]"
   ]
  },
  {
   "cell_type": "code",
   "execution_count": 14,
   "id": "710157c1-4093-439c-b966-a07c022926f2",
   "metadata": {},
   "outputs": [
    {
     "data": {
      "text/plain": [
       "[1, 2]"
      ]
     },
     "execution_count": 14,
     "metadata": {},
     "output_type": "execute_result"
    }
   ],
   "source": [
    "s = [1, 2, 3]\n",
    "s[:-1]"
   ]
  },
  {
   "cell_type": "markdown",
   "id": "a577e24e-ee18-4ab9-b026-fe68630a2c6e",
   "metadata": {},
   "source": [
    "## Enumerate Dates"
   ]
  },
  {
   "cell_type": "code",
   "execution_count": 15,
   "id": "996ee7d8-b29a-41b9-8d58-cf34316307de",
   "metadata": {},
   "outputs": [
    {
     "data": {
      "text/plain": [
       "[{'ref_date': datetime.date(2025, 8, 28),\n",
       "  'sec_date': datetime.date(2025, 7, 23)},\n",
       " {'ref_date': datetime.date(2025, 8, 28),\n",
       "  'sec_date': datetime.date(2025, 8, 4)},\n",
       " {'ref_date': datetime.date(2025, 8, 28),\n",
       "  'sec_date': datetime.date(2025, 8, 16)},\n",
       " {'ref_date': datetime.date(2025, 8, 16),\n",
       "  'sec_date': datetime.date(2025, 7, 11)},\n",
       " {'ref_date': datetime.date(2025, 8, 16),\n",
       "  'sec_date': datetime.date(2025, 7, 23)},\n",
       " {'ref_date': datetime.date(2025, 8, 16),\n",
       "  'sec_date': datetime.date(2025, 8, 4)},\n",
       " {'ref_date': datetime.date(2025, 8, 4),\n",
       "  'sec_date': datetime.date(2025, 6, 29)},\n",
       " {'ref_date': datetime.date(2025, 8, 4),\n",
       "  'sec_date': datetime.date(2025, 7, 11)}]"
      ]
     },
     "execution_count": 15,
     "metadata": {},
     "output_type": "execute_result"
    }
   ],
   "source": [
    "N_NEIGHBORS = 3\n",
    "date_pairs = [{'ref_date': ref_date,\n",
    "               'sec_date': sec_date} for k, ref_date in enumerate(reversed(dates)) for sec_date in dates[-k - N_NEIGHBORS - 1:-k - 1]]\n",
    "date_pairs[:8]"
   ]
  },
  {
   "cell_type": "markdown",
   "id": "19d8740b-f379-4046-96f7-8d54bb716530",
   "metadata": {},
   "source": [
    "# Submit"
   ]
  },
  {
   "cell_type": "code",
   "execution_count": 16,
   "id": "f9576d11-3a52-44c8-b6f3-675b6ccd5123",
   "metadata": {},
   "outputs": [
    {
     "data": {
      "text/plain": [
       "'2025-09-26'"
      ]
     },
     "execution_count": 16,
     "metadata": {},
     "output_type": "execute_result"
    }
   ],
   "source": [
    "hyp3_endpoint = HyP3()\n",
    "now_str = datetime.now().strftime(\"%Y-%m-%d\")\n",
    "now_str"
   ]
  },
  {
   "cell_type": "code",
   "execution_count": 17,
   "id": "226cc023-3f49-4600-90c0-49148d216739",
   "metadata": {},
   "outputs": [
    {
     "data": {
      "text/plain": [
       "'18782_2025-09-26'"
      ]
     },
     "execution_count": 17,
     "metadata": {},
     "output_type": "execute_result"
    }
   ],
   "source": [
    "job_name = f'{FRAME_ID}_{now_str}'\n",
    "job_name"
   ]
  },
  {
   "cell_type": "code",
   "execution_count": 18,
   "id": "a0dfb2d4-5717-45d9-b5a9-a93f4b6d7e81",
   "metadata": {},
   "outputs": [
    {
     "name": "stderr",
     "output_type": "stream",
     "text": [
      "100%|█████████████████████████████| 2/2 [00:00<00:00,  3.06it/s]\n"
     ]
    }
   ],
   "source": [
    "for dp in tqdm(date_pairs[40:42]):\n",
    "    hyp3_endpoint.submit_aria_s1_gunw_job(str(dp['ref_date']), str(dp['sec_date']), FRAME_ID, job_name)"
   ]
  },
  {
   "cell_type": "markdown",
   "id": "83adc411-0d8a-4c64-af76-738616521f36",
   "metadata": {},
   "source": [
    "# Track"
   ]
  },
  {
   "cell_type": "code",
   "execution_count": 19,
   "id": "04a78b31-2899-4a5c-98e4-d26451f436a4",
   "metadata": {},
   "outputs": [
    {
     "name": "stdout",
     "output_type": "stream",
     "text": [
      "6 HyP3 Jobs: 0 succeeded, 0 failed, 4 running, 2 pending.\n"
     ]
    }
   ],
   "source": [
    "jobs = hyp3_endpoint.find_jobs(#start=submit_time_approx,\n",
    "                               user_id='cmarshak', \n",
    "                               job_type='ARIA_S1_GUNW',\n",
    "                               name=job_name\n",
    ")\n",
    "print(jobs)"
   ]
  },
  {
   "cell_type": "code",
   "execution_count": 20,
   "id": "5f80dc45-269d-4197-ac5d-123b8d3a5409",
   "metadata": {},
   "outputs": [
    {
     "data": {
      "text/plain": [
       "{'user_id': 'cmarshak',\n",
       " 'job_parameters': {'secondary_date': '2025-03-01',\n",
       "  'frame_id': 18782,\n",
       "  'reference_date': '2025-03-25'},\n",
       " 'job_id': '7be11cab-dc52-4568-b8fb-b834bee182fd',\n",
       " 'credit_cost': 60,\n",
       " 'job_type': 'ARIA_S1_GUNW',\n",
       " 'request_time': '2025-09-26T22:05:18+00:00',\n",
       " 'status_code': 'PENDING',\n",
       " 'priority': 9760,\n",
       " 'name': '18782_2025-09-26'}"
      ]
     },
     "execution_count": 20,
     "metadata": {},
     "output_type": "execute_result"
    }
   ],
   "source": [
    "jd = [j.to_dict() for j in jobs]\n",
    "jd[0]"
   ]
  }
 ],
 "metadata": {
  "kernelspec": {
   "display_name": "asf-enumeration",
   "language": "python",
   "name": "asf-enumeration"
  },
  "language_info": {
   "codemirror_mode": {
    "name": "ipython",
    "version": 3
   },
   "file_extension": ".py",
   "mimetype": "text/x-python",
   "name": "python",
   "nbconvert_exporter": "python",
   "pygments_lexer": "ipython3",
   "version": "3.13.7"
  }
 },
 "nbformat": 4,
 "nbformat_minor": 5
}
