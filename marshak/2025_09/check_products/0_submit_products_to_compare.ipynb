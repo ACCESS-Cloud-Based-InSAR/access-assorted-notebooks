{
 "cells": [
  {
   "cell_type": "code",
   "execution_count": 29,
   "id": "e6e4b57d-0eb9-4509-961d-74ef9e1488ec",
   "metadata": {},
   "outputs": [],
   "source": [
    "from pathlib import Path\n",
    "import xarray as xr\n",
    "import shlex\n",
    "import argparse\n",
    "import hyp3_sdk\n",
    "from datetime import datetime, timedelta"
   ]
  },
  {
   "cell_type": "markdown",
   "id": "7f83ce65-d74a-4c95-a23d-ae29b6a240a1",
   "metadata": {},
   "source": [
    "# Get Inputs from Existing Products"
   ]
  },
  {
   "cell_type": "code",
   "execution_count": 2,
   "id": "76550f8b-aa4a-45bd-8393-30755c4a70d8",
   "metadata": {},
   "outputs": [
    {
     "data": {
      "text/plain": [
       "[PosixPath('existing_products/S1-GUNW-A-R-064-tops-20240115_20240103-015044-00119W_00033N-PP-9902-v3_0_1.nc'),\n",
       " PosixPath('existing_products/S1-GUNW-A-R-064-tops-20240208_20240103-015044-00119W_00033N-PP-629e-v3_0_1.nc'),\n",
       " PosixPath('existing_products/S1-GUNW-A-R-064-tops-20240208_20240115-015044-00119W_00033N-PP-8b54-v3_0_1.nc'),\n",
       " PosixPath('existing_products/S1-GUNW-A-R-064-tops-20240220_20240115-015044-00119W_00033N-PP-60cc-v3_0_1.nc'),\n",
       " PosixPath('existing_products/S1-GUNW-A-R-064-tops-20240220_20240127-015044-00119W_00033N-PP-4f28-v3_0_1.nc'),\n",
       " PosixPath('existing_products/S1-GUNW-A-R-064-tops-20240220_20240208-015044-00119W_00033N-PP-e9c9-v3_0_1.nc')]"
      ]
     },
     "execution_count": 2,
     "metadata": {},
     "output_type": "execute_result"
    }
   ],
   "source": [
    "product_paths = sorted(list(Path('existing_products/').glob('*.nc')))\n",
    "product_paths"
   ]
  },
  {
   "cell_type": "code",
   "execution_count": 18,
   "id": "e6e1c8a1-e101-4a50-8823-d634cc04d946",
   "metadata": {},
   "outputs": [
    {
     "name": "stdout",
     "output_type": "stream",
     "text": [
      "S1-GUNW-A-R-064-tops-20240115_20240103-015044-00119W_00033N-PP-9902-v3_0_1,\n",
      "S1-GUNW-A-R-064-tops-20240208_20240103-015044-00119W_00033N-PP-629e-v3_0_1,\n",
      "S1-GUNW-A-R-064-tops-20240208_20240115-015044-00119W_00033N-PP-8b54-v3_0_1,\n",
      "S1-GUNW-A-R-064-tops-20240220_20240115-015044-00119W_00033N-PP-60cc-v3_0_1,\n",
      "S1-GUNW-A-R-064-tops-20240220_20240127-015044-00119W_00033N-PP-4f28-v3_0_1,\n",
      "S1-GUNW-A-R-064-tops-20240220_20240208-015044-00119W_00033N-PP-e9c9-v3_0_1,\n"
     ]
    }
   ],
   "source": [
    "ids = [p.stem for p in product_paths]\n",
    "for id_ in ids:\n",
    "    print(f'{id_},')"
   ]
  },
  {
   "cell_type": "markdown",
   "id": "f19a9fe4-9382-487e-94df-83fc53d0b59c",
   "metadata": {},
   "source": [
    "https://search.asf.alaska.edu/#/?searchType=List%20Search&searchList=S1-GUNW-A-R-064-tops-20240115_20240103-015044-00119W_00033N-PP-9902-v3_0_1,S1-GUNW-A-R-064-tops-20240208_20240103-015044-00119W_00033N-PP-629e-v3_0_1,S1-GUNW-A-R-064-tops-20240208_20240115-015044-00119W_00033N-PP-8b54-v3_0_1,S1-GUNW-A-R-064-tops-20240220_20240115-015044-00119W_00033N-PP-60cc-v3_0_1,S1-GUNW-A-R-064-tops-20240220_20240127-015044-00119W_00033N-PP-4f28-v3_0_1,S1-GUNW-A-R-064-tops-20240220_20240208-015044-00119W_00033N-PP-e9c9-v3_0_1&resultsLoaded=false&granule=S1-GUNW-A-R-064-tops-20240220_20240208-015044-00119W_00033N-PP-e9c9-v3_0_1&zoom=7.062&center=-117.113,33.623"
   ]
  },
  {
   "cell_type": "code",
   "execution_count": 3,
   "id": "1fa592d8-af8c-40f1-ab31-9026fbbacda7",
   "metadata": {},
   "outputs": [],
   "source": [
    "def get_input_scenes_from_command(command: str) -> dict:\n",
    "    tokens = shlex.split(command)\n",
    "    \n",
    "    parser = argparse.ArgumentParser()\n",
    "    parser.add_argument(\"--reference-scenes\", nargs=\"+\")\n",
    "    parser.add_argument(\"--secondary-scenes\", nargs=\"+\")\n",
    "    args, _ = parser.parse_known_args(tokens)\n",
    "    \n",
    "    reference_scenes = args.reference_scenes\n",
    "    secondary_scenes = args.secondary_scenes\n",
    "\n",
    "    return {'reference': reference_scenes,\n",
    "            'secondary': secondary_scenes}\n",
    "\n",
    "def get_input_scenes_from_dataset(path: Path) -> dict:\n",
    "    with xr.open_dataset(path) as ds:\n",
    "        scenes = get_input_scenes_from_command(ds.attrs['topsapp_command_line_string'])\n",
    "    return scenes"
   ]
  },
  {
   "cell_type": "code",
   "execution_count": 4,
   "id": "f0d50149-0b83-4b2c-a2df-4202e929f60b",
   "metadata": {},
   "outputs": [
    {
     "data": {
      "text/plain": [
       "[{'reference': ['S1A_IW_SLC__1SDV_20240115T015017_20240115T015047_052111_064C5F_5E09',\n",
       "   'S1A_IW_SLC__1SDV_20240115T015045_20240115T015112_052111_064C5F_91B9'],\n",
       "  'secondary': ['S1A_IW_SLC__1SDV_20240103T015018_20240103T015047_051936_064669_FC26',\n",
       "   'S1A_IW_SLC__1SDV_20240103T015045_20240103T015113_051936_064669_08E3']},\n",
       " {'reference': ['S1A_IW_SLC__1SDV_20240208T015016_20240208T015046_052461_06582C_8AE1',\n",
       "   'S1A_IW_SLC__1SDV_20240208T015044_20240208T015112_052461_06582C_5618'],\n",
       "  'secondary': ['S1A_IW_SLC__1SDV_20240103T015018_20240103T015047_051936_064669_FC26',\n",
       "   'S1A_IW_SLC__1SDV_20240103T015045_20240103T015113_051936_064669_08E3']},\n",
       " {'reference': ['S1A_IW_SLC__1SDV_20240208T015016_20240208T015046_052461_06582C_8AE1',\n",
       "   'S1A_IW_SLC__1SDV_20240208T015044_20240208T015112_052461_06582C_5618'],\n",
       "  'secondary': ['S1A_IW_SLC__1SDV_20240115T015017_20240115T015047_052111_064C5F_5E09',\n",
       "   'S1A_IW_SLC__1SDV_20240115T015045_20240115T015112_052111_064C5F_91B9']},\n",
       " {'reference': ['S1A_IW_SLC__1SDV_20240220T015016_20240220T015046_052636_065E1F_0823',\n",
       "   'S1A_IW_SLC__1SDV_20240220T015044_20240220T015112_052636_065E1F_227C'],\n",
       "  'secondary': ['S1A_IW_SLC__1SDV_20240115T015017_20240115T015047_052111_064C5F_5E09',\n",
       "   'S1A_IW_SLC__1SDV_20240115T015045_20240115T015112_052111_064C5F_91B9']},\n",
       " {'reference': ['S1A_IW_SLC__1SDV_20240220T015016_20240220T015046_052636_065E1F_0823',\n",
       "   'S1A_IW_SLC__1SDV_20240220T015044_20240220T015112_052636_065E1F_227C'],\n",
       "  'secondary': ['S1A_IW_SLC__1SDV_20240127T015017_20240127T015047_052286_065243_57F7',\n",
       "   'S1A_IW_SLC__1SDV_20240127T015044_20240127T015112_052286_065243_8BF8']},\n",
       " {'reference': ['S1A_IW_SLC__1SDV_20240220T015016_20240220T015046_052636_065E1F_0823',\n",
       "   'S1A_IW_SLC__1SDV_20240220T015044_20240220T015112_052636_065E1F_227C'],\n",
       "  'secondary': ['S1A_IW_SLC__1SDV_20240208T015016_20240208T015046_052461_06582C_8AE1',\n",
       "   'S1A_IW_SLC__1SDV_20240208T015044_20240208T015112_052461_06582C_5618']}]"
      ]
     },
     "execution_count": 4,
     "metadata": {},
     "output_type": "execute_result"
    }
   ],
   "source": [
    "scenes_l = [get_input_scenes_from_dataset(p) for p in product_paths]\n",
    "scenes_l"
   ]
  },
  {
   "cell_type": "code",
   "execution_count": 8,
   "id": "7595924d-9bd6-4641-ae5d-e46a3364bc40",
   "metadata": {},
   "outputs": [
    {
     "data": {
      "text/plain": [
       "9848"
      ]
     },
     "execution_count": 8,
     "metadata": {},
     "output_type": "execute_result"
    }
   ],
   "source": [
    "with xr.open_dataset(product_paths[0]) as ds:\n",
    "    aria_frame_id = ds.attrs['aria_frame_id']\n",
    "aria_frame_id = int(aria_frame_id)\n",
    "aria_frame_id"
   ]
  },
  {
   "cell_type": "markdown",
   "id": "351062c1-0666-499e-ab4e-d9faefc9b78e",
   "metadata": {},
   "source": [
    "# Submit "
   ]
  },
  {
   "cell_type": "code",
   "execution_count": 21,
   "id": "b070204c-2345-4012-a7a1-f5e90d18f968",
   "metadata": {},
   "outputs": [
    {
     "data": {
      "text/plain": [
       "[{'name': 'test-latest-isce',\n",
       "  'job_type': 'INSAR_ISCE',\n",
       "  'job_parameters': {'granules': ['S1A_IW_SLC__1SDV_20240115T015017_20240115T015047_052111_064C5F_5E09',\n",
       "    'S1A_IW_SLC__1SDV_20240115T015045_20240115T015112_052111_064C5F_91B9'],\n",
       "   'secondary_granules': ['S1A_IW_SLC__1SDV_20240103T015018_20240103T015047_051936_064669_FC26',\n",
       "    'S1A_IW_SLC__1SDV_20240103T015045_20240103T015113_051936_064669_08E3'],\n",
       "   'frame_id': 9848,\n",
       "   'weather_model': 'HRRR'}},\n",
       " {'name': 'test-latest-isce',\n",
       "  'job_type': 'INSAR_ISCE',\n",
       "  'job_parameters': {'granules': ['S1A_IW_SLC__1SDV_20240208T015016_20240208T015046_052461_06582C_8AE1',\n",
       "    'S1A_IW_SLC__1SDV_20240208T015044_20240208T015112_052461_06582C_5618'],\n",
       "   'secondary_granules': ['S1A_IW_SLC__1SDV_20240103T015018_20240103T015047_051936_064669_FC26',\n",
       "    'S1A_IW_SLC__1SDV_20240103T015045_20240103T015113_051936_064669_08E3'],\n",
       "   'frame_id': 9848,\n",
       "   'weather_model': 'HRRR'}},\n",
       " {'name': 'test-latest-isce',\n",
       "  'job_type': 'INSAR_ISCE',\n",
       "  'job_parameters': {'granules': ['S1A_IW_SLC__1SDV_20240208T015016_20240208T015046_052461_06582C_8AE1',\n",
       "    'S1A_IW_SLC__1SDV_20240208T015044_20240208T015112_052461_06582C_5618'],\n",
       "   'secondary_granules': ['S1A_IW_SLC__1SDV_20240115T015017_20240115T015047_052111_064C5F_5E09',\n",
       "    'S1A_IW_SLC__1SDV_20240115T015045_20240115T015112_052111_064C5F_91B9'],\n",
       "   'frame_id': 9848,\n",
       "   'weather_model': 'HRRR'}},\n",
       " {'name': 'test-latest-isce',\n",
       "  'job_type': 'INSAR_ISCE',\n",
       "  'job_parameters': {'granules': ['S1A_IW_SLC__1SDV_20240220T015016_20240220T015046_052636_065E1F_0823',\n",
       "    'S1A_IW_SLC__1SDV_20240220T015044_20240220T015112_052636_065E1F_227C'],\n",
       "   'secondary_granules': ['S1A_IW_SLC__1SDV_20240115T015017_20240115T015047_052111_064C5F_5E09',\n",
       "    'S1A_IW_SLC__1SDV_20240115T015045_20240115T015112_052111_064C5F_91B9'],\n",
       "   'frame_id': 9848,\n",
       "   'weather_model': 'HRRR'}},\n",
       " {'name': 'test-latest-isce',\n",
       "  'job_type': 'INSAR_ISCE',\n",
       "  'job_parameters': {'granules': ['S1A_IW_SLC__1SDV_20240220T015016_20240220T015046_052636_065E1F_0823',\n",
       "    'S1A_IW_SLC__1SDV_20240220T015044_20240220T015112_052636_065E1F_227C'],\n",
       "   'secondary_granules': ['S1A_IW_SLC__1SDV_20240127T015017_20240127T015047_052286_065243_57F7',\n",
       "    'S1A_IW_SLC__1SDV_20240127T015044_20240127T015112_052286_065243_8BF8'],\n",
       "   'frame_id': 9848,\n",
       "   'weather_model': 'HRRR'}},\n",
       " {'name': 'test-latest-isce',\n",
       "  'job_type': 'INSAR_ISCE',\n",
       "  'job_parameters': {'granules': ['S1A_IW_SLC__1SDV_20240220T015016_20240220T015046_052636_065E1F_0823',\n",
       "    'S1A_IW_SLC__1SDV_20240220T015044_20240220T015112_052636_065E1F_227C'],\n",
       "   'secondary_granules': ['S1A_IW_SLC__1SDV_20240208T015016_20240208T015046_052461_06582C_8AE1',\n",
       "    'S1A_IW_SLC__1SDV_20240208T015044_20240208T015112_052461_06582C_5618'],\n",
       "   'frame_id': 9848,\n",
       "   'weather_model': 'HRRR'}}]"
      ]
     },
     "execution_count": 21,
     "metadata": {},
     "output_type": "execute_result"
    }
   ],
   "source": [
    "job_dicts = [{'name': 'test-latest-isce',\n",
    "              # NOTE: we are still using the `dev` branch. Change this to \"INSAR_ISCE\" to use the `main` branch.\n",
    "              'job_type': 'INSAR_ISCE',\n",
    "              'job_parameters': {'granules': scenes['reference'],\n",
    "                                 'secondary_granules': scenes['secondary'],\n",
    "                                 'frame_id': aria_frame_id,\n",
    "                                 'weather_model': 'HRRR',\n",
    "                                }} \n",
    "             for scenes in scenes_l]\n",
    "job_dicts"
   ]
  },
  {
   "cell_type": "code",
   "execution_count": 19,
   "id": "4e6991aa-015e-4163-8dda-dc3599cd3554",
   "metadata": {},
   "outputs": [],
   "source": [
    "hyp3_isce = hyp3_sdk.HyP3('https://hyp3-a19-jpl-test.asf.alaska.edu/')"
   ]
  },
  {
   "cell_type": "code",
   "execution_count": 22,
   "id": "ba0f0646-fd08-47ba-a893-20e0e40dfc94",
   "metadata": {},
   "outputs": [],
   "source": [
    "## submitted_jobs = hyp3_isce.submit_prepared_jobs(job_dicts)"
   ]
  },
  {
   "cell_type": "code",
   "execution_count": 26,
   "id": "21741da3-4c17-43c2-93ae-8ad532e134b0",
   "metadata": {},
   "outputs": [
    {
     "name": "stdout",
     "output_type": "stream",
     "text": [
      "6 HyP3 Jobs: 0 succeeded, 0 failed, 0 running, 6 pending.\n"
     ]
    }
   ],
   "source": [
    "print(submitted_jobs)"
   ]
  },
  {
   "cell_type": "markdown",
   "id": "0f1b24ec-e7db-4d05-b197-5a800e816b76",
   "metadata": {},
   "source": [
    "# Track Jobs"
   ]
  },
  {
   "cell_type": "code",
   "execution_count": 39,
   "id": "49397214-f03d-4206-a271-4bc4fda36cca",
   "metadata": {},
   "outputs": [
    {
     "name": "stdout",
     "output_type": "stream",
     "text": [
      "6 HyP3 Jobs: 2 succeeded, 0 failed, 4 running, 0 pending.\n"
     ]
    }
   ],
   "source": [
    "import hyp3_sdk\n",
    "\n",
    "hyp3_isce = hyp3_sdk.HyP3('https://hyp3-a19-jpl-test.asf.alaska.edu/')\n",
    "\n",
    "now = datetime(2025,9,22,14,0,0)\n",
    "submit_start = now - timedelta(hours=2)\n",
    "\n",
    "jobs = hyp3_isce.find_jobs(\n",
    "                           start=submit_start,\n",
    "                           user_id='cmarshak',\n",
    "                           name='test-latest-isce')\n",
    "print(jobs)"
   ]
  },
  {
   "cell_type": "code",
   "execution_count": null,
   "id": "ce970d30-8d1c-44fa-8f6a-99ded5f6a693",
   "metadata": {},
   "outputs": [],
   "source": []
  }
 ],
 "metadata": {
  "kernelspec": {
   "display_name": "aria_hyp3_env",
   "language": "python",
   "name": "aria_hyp3_env"
  },
  "language_info": {
   "codemirror_mode": {
    "name": "ipython",
    "version": 3
   },
   "file_extension": ".py",
   "mimetype": "text/x-python",
   "name": "python",
   "nbconvert_exporter": "python",
   "pygments_lexer": "ipython3",
   "version": "3.13.5"
  }
 },
 "nbformat": 4,
 "nbformat_minor": 5
}
