{
 "cells": [
  {
   "cell_type": "code",
   "execution_count": 2,
   "id": "4ed5f7e5-848f-45aa-b522-1a0ee5bd1960",
   "metadata": {},
   "outputs": [
    {
     "name": "stdout",
     "output_type": "stream",
     "text": [
      "6 HyP3 Jobs: 2 succeeded, 0 failed, 4 running, 0 pending.\n"
     ]
    }
   ],
   "source": [
    "import datetime\n",
    "from datetime import timedelta\n",
    "import hyp3_sdk\n",
    "\n",
    "hyp3_isce = hyp3_sdk.HyP3('https://hyp3-a19-jpl-test.asf.alaska.edu/')\n",
    "\n",
    "now = datetime.datetime(2025,9,22,14,0,0)\n",
    "submit_start = now - timedelta(hours=2)\n",
    "\n",
    "jobs = hyp3_isce.find_jobs(\n",
    "                           start=submit_start,\n",
    "                           user_id='cmarshak',\n",
    "                           name='test-latest-isce')\n",
    "print(jobs)"
   ]
  },
  {
   "cell_type": "code",
   "execution_count": 3,
   "id": "bc68825b-0006-4510-a9ae-af921db76bff",
   "metadata": {},
   "outputs": [
    {
     "data": {
      "application/vnd.jupyter.widget-view+json": {
       "model_id": "99b20ea563a7457a985ccf9f58e9c7a2",
       "version_major": 2,
       "version_minor": 0
      },
      "text/plain": [
       "  0%|          | 0/6 [00:00<?, ?it/s]"
      ]
     },
     "metadata": {},
     "output_type": "display_data"
    },
    {
     "name": "stdout",
     "output_type": "stream",
     "text": [
      "Warning: Only succeeded jobs can be downloaded; job is RUNNING. Skipping download for HyP3 INSAR_ISCE job fc7ef497-2139-4351-b7e3-89eeb4da6642.\n",
      "Warning: Only succeeded jobs can be downloaded; job is RUNNING. Skipping download for HyP3 INSAR_ISCE job 89e9a3ec-5a67-4579-81e2-e67f495e0d78.\n"
     ]
    },
    {
     "data": {
      "application/vnd.jupyter.widget-view+json": {
       "model_id": "38b3342e73034cd291d8d683da2cbdff",
       "version_major": 2,
       "version_minor": 0
      },
      "text/plain": [
       "S1-GUNW-A-R-064-tops-20240220_20240127-015044-00119W_00033N-PP-4f28-v3_0_1.nc:   0%|          | 0/125816791 [0…"
      ]
     },
     "metadata": {},
     "output_type": "display_data"
    },
    {
     "name": "stdout",
     "output_type": "stream",
     "text": [
      "Warning: Only succeeded jobs can be downloaded; job is RUNNING. Skipping download for HyP3 INSAR_ISCE job fab9bb2c-7796-479c-9d21-5cdba221f8d4.\n",
      "Warning: Only succeeded jobs can be downloaded; job is RUNNING. Skipping download for HyP3 INSAR_ISCE job 995e924a-6d20-46d6-98a7-0e11d905a3b3.\n"
     ]
    },
    {
     "data": {
      "application/vnd.jupyter.widget-view+json": {
       "model_id": "551f4ced222644b89429850af3fc903c",
       "version_major": 2,
       "version_minor": 0
      },
      "text/plain": [
       "S1-GUNW-A-R-064-tops-20240220_20240208-015044-00119W_00033N-PP-e9c9-v3_0_1.nc:   0%|          | 0/126334673 [0…"
      ]
     },
     "metadata": {},
     "output_type": "display_data"
    },
    {
     "data": {
      "text/plain": [
       "[PosixPath('new_products/S1-GUNW-A-R-064-tops-20240220_20240127-015044-00119W_00033N-PP-4f28-v3_0_1.nc'),\n",
       " PosixPath('new_products/S1-GUNW-A-R-064-tops-20240220_20240208-015044-00119W_00033N-PP-e9c9-v3_0_1.nc')]"
      ]
     },
     "execution_count": 3,
     "metadata": {},
     "output_type": "execute_result"
    }
   ],
   "source": [
    "jobs.download_files('new_products')"
   ]
  },
  {
   "cell_type": "code",
   "execution_count": null,
   "id": "7050a908-3cac-4501-83d6-620f060a9c92",
   "metadata": {},
   "outputs": [],
   "source": []
  }
 ],
 "metadata": {
  "kernelspec": {
   "display_name": "aria_hyp3_env",
   "language": "python",
   "name": "aria_hyp3_env"
  },
  "language_info": {
   "codemirror_mode": {
    "name": "ipython",
    "version": 3
   },
   "file_extension": ".py",
   "mimetype": "text/x-python",
   "name": "python",
   "nbconvert_exporter": "python",
   "pygments_lexer": "ipython3",
   "version": "3.13.5"
  }
 },
 "nbformat": 4,
 "nbformat_minor": 5
}
