{
 "cells": [
  {
   "cell_type": "markdown",
   "id": "f70ed45a-bdbd-46de-b327-4fb1d2a484fd",
   "metadata": {},
   "source": [
    "# WEST COAST CONUS CHECK"
   ]
  },
  {
   "cell_type": "code",
   "execution_count": 1,
   "id": "9b28ec62-f937-46e8-92c7-9d3b94081efc",
   "metadata": {},
   "outputs": [
    {
     "name": "stdout",
     "output_type": "stream",
     "text": [
      "12098 HyP3 Jobs: 0 succeeded, 0 failed, 7038 running, 5060 pending.\n"
     ]
    }
   ],
   "source": [
    "import hyp3_sdk\n",
    "import datetime\n",
    "from datetime import timedelta\n",
    "\n",
    "hyp3_isce = hyp3_sdk.HyP3('https://hyp3-a19-jpl.asf.alaska.edu')\n",
    "\n",
    "\n",
    "st = datetime.datetime(2025, 9, 22, 6)\n",
    "submit_time_approx = st - timedelta(hours=6)\n",
    "\n",
    "jobs = hyp3_isce.find_jobs(\n",
    "                           start=submit_time_approx,\n",
    "                           user_id='access_cloud_based_insar', \n",
    "                           job_type='INSAR_ISCE'\n",
    ")\n",
    "print(jobs)"
   ]
  },
  {
   "cell_type": "markdown",
   "id": "f91b09c6-65c9-4ac5-be08-de391427afeb",
   "metadata": {},
   "source": [
    "# Track 64 Sentinel-1C Check"
   ]
  },
  {
   "cell_type": "code",
   "execution_count": 2,
   "id": "c4994ce1-6bd8-43f1-b098-0af122b2010c",
   "metadata": {},
   "outputs": [
    {
     "name": "stdout",
     "output_type": "stream",
     "text": [
      "15 HyP3 Jobs: 8 succeeded, 0 failed, 6 running, 1 pending.\n"
     ]
    }
   ],
   "source": [
    "import hyp3_sdk\n",
    "import datetime\n",
    "from datetime import timedelta\n",
    "\n",
    "hyp3_isce = hyp3_sdk.HyP3('https://hyp3-a19-jpl-test.asf.alaska.edu')\n",
    "\n",
    "\n",
    "\n",
    "jobs = hyp3_isce.find_jobs(\n",
    "                           name='Los-Angeles-0_64_HRRR_0922',\n",
    "                           user_id='cmarshak', \n",
    "                           job_type='INSAR_ISCE'\n",
    ")\n",
    "print(jobs)"
   ]
  },
  {
   "cell_type": "markdown",
   "id": "8f9e743e-10fc-4f39-bcf4-29c019c5f117",
   "metadata": {},
   "source": [
    "# Track 71 Sentinel-1C Check"
   ]
  },
  {
   "cell_type": "code",
   "execution_count": 3,
   "id": "4ee54c82-c3eb-4d87-b93d-ff607e88bf94",
   "metadata": {},
   "outputs": [
    {
     "name": "stdout",
     "output_type": "stream",
     "text": [
      "10 HyP3 Jobs: 0 succeeded, 0 failed, 2 running, 8 pending.\n"
     ]
    }
   ],
   "source": [
    "import hyp3_sdk\n",
    "import datetime\n",
    "from datetime import timedelta\n",
    "\n",
    "hyp3_isce = hyp3_sdk.HyP3('https://hyp3-a19-jpl-test.asf.alaska.edu')\n",
    "\n",
    "\n",
    "\n",
    "jobs = hyp3_isce.find_jobs(\n",
    "                           name='Los-Angeles-1_71_HRRR_0922',\n",
    "                           user_id='cmarshak', \n",
    "                           job_type='INSAR_ISCE'\n",
    ")\n",
    "print(jobs)"
   ]
  },
  {
   "cell_type": "markdown",
   "id": "7de17760-73ff-4068-bef7-b7a378deda98",
   "metadata": {},
   "source": [
    "# Test Latest ISCE"
   ]
  },
  {
   "cell_type": "code",
   "execution_count": 4,
   "id": "993ede45-196a-4296-84cb-c9b96fd2b285",
   "metadata": {},
   "outputs": [
    {
     "name": "stdout",
     "output_type": "stream",
     "text": [
      "6 HyP3 Jobs: 6 succeeded, 0 failed, 0 running, 0 pending.\n"
     ]
    }
   ],
   "source": [
    "import hyp3_sdk\n",
    "\n",
    "hyp3_isce = hyp3_sdk.HyP3('https://hyp3-a19-jpl-test.asf.alaska.edu/')\n",
    "\n",
    "now = datetime.datetime(2025,9,22,14,0,0)\n",
    "submit_start = now - timedelta(hours=2)\n",
    "\n",
    "jobs = hyp3_isce.find_jobs(\n",
    "                           start=submit_start,\n",
    "                           user_id='cmarshak',\n",
    "                           name='test-latest-isce')\n",
    "print(jobs)"
   ]
  }
 ],
 "metadata": {
  "kernelspec": {
   "display_name": "aria_hyp3_env",
   "language": "python",
   "name": "aria_hyp3_env"
  },
  "language_info": {
   "codemirror_mode": {
    "name": "ipython",
    "version": 3
   },
   "file_extension": ".py",
   "mimetype": "text/x-python",
   "name": "python",
   "nbconvert_exporter": "python",
   "pygments_lexer": "ipython3",
   "version": "3.13.5"
  }
 },
 "nbformat": 4,
 "nbformat_minor": 5
}
