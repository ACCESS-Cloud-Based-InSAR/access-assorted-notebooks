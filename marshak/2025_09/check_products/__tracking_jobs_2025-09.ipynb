{
 "cells": [
  {
   "cell_type": "markdown",
   "id": "f70ed45a-bdbd-46de-b327-4fb1d2a484fd",
   "metadata": {},
   "source": [
    "# WEST COAST CONUS CHECK"
   ]
  },
  {
   "cell_type": "code",
   "execution_count": 5,
   "id": "9b28ec62-f937-46e8-92c7-9d3b94081efc",
   "metadata": {},
   "outputs": [
    {
     "name": "stdout",
     "output_type": "stream",
     "text": [
      "12098 HyP3 Jobs: 11997 succeeded, 101 failed, 0 running, 0 pending.\n"
     ]
    }
   ],
   "source": [
    "import hyp3_sdk\n",
    "import datetime\n",
    "from datetime import timedelta\n",
    "\n",
    "hyp3_isce = hyp3_sdk.HyP3('https://hyp3-a19-jpl.asf.alaska.edu')\n",
    "\n",
    "\n",
    "st = datetime.datetime(2025, 9, 22, 6)\n",
    "submit_time_approx = st - timedelta(hours=6)\n",
    "\n",
    "jobs = hyp3_isce.find_jobs(\n",
    "                           start=submit_time_approx,\n",
    "                           user_id='access_cloud_based_insar', \n",
    "                           job_type='INSAR_ISCE'\n",
    ")\n",
    "print(jobs)"
   ]
  },
  {
   "cell_type": "markdown",
   "id": "f91b09c6-65c9-4ac5-be08-de391427afeb",
   "metadata": {},
   "source": [
    "# Track 64 Sentinel-1C Check"
   ]
  },
  {
   "cell_type": "code",
   "execution_count": 2,
   "id": "c4994ce1-6bd8-43f1-b098-0af122b2010c",
   "metadata": {},
   "outputs": [
    {
     "name": "stdout",
     "output_type": "stream",
     "text": [
      "15 HyP3 Jobs: 15 succeeded, 0 failed, 0 running, 0 pending.\n"
     ]
    }
   ],
   "source": [
    "import hyp3_sdk\n",
    "import datetime\n",
    "from datetime import timedelta\n",
    "\n",
    "hyp3_isce = hyp3_sdk.HyP3('https://hyp3-a19-jpl-test.asf.alaska.edu')\n",
    "\n",
    "\n",
    "\n",
    "jobs = hyp3_isce.find_jobs(\n",
    "                           name='Los-Angeles-0_64_HRRR_0922',\n",
    "                           user_id='cmarshak', \n",
    "                           job_type='INSAR_ISCE'\n",
    ")\n",
    "print(jobs)"
   ]
  },
  {
   "cell_type": "markdown",
   "id": "8f9e743e-10fc-4f39-bcf4-29c019c5f117",
   "metadata": {},
   "source": [
    "# Track 71 Sentinel-1C Check"
   ]
  },
  {
   "cell_type": "code",
   "execution_count": 6,
   "id": "4ee54c82-c3eb-4d87-b93d-ff607e88bf94",
   "metadata": {},
   "outputs": [
    {
     "name": "stdout",
     "output_type": "stream",
     "text": [
      "10 HyP3 Jobs: 10 succeeded, 0 failed, 0 running, 0 pending.\n"
     ]
    }
   ],
   "source": [
    "import hyp3_sdk\n",
    "import datetime\n",
    "from datetime import timedelta\n",
    "\n",
    "hyp3_isce = hyp3_sdk.HyP3('https://hyp3-a19-jpl-test.asf.alaska.edu')\n",
    "\n",
    "\n",
    "\n",
    "jobs = hyp3_isce.find_jobs(\n",
    "                           name='Los-Angeles-1_71_HRRR_0922',\n",
    "                           user_id='cmarshak', \n",
    "                           job_type='INSAR_ISCE'\n",
    ")\n",
    "print(jobs)"
   ]
  },
  {
   "cell_type": "markdown",
   "id": "7de17760-73ff-4068-bef7-b7a378deda98",
   "metadata": {},
   "source": [
    "# Test Latest ISCE"
   ]
  },
  {
   "cell_type": "code",
   "execution_count": 4,
   "id": "993ede45-196a-4296-84cb-c9b96fd2b285",
   "metadata": {},
   "outputs": [
    {
     "name": "stdout",
     "output_type": "stream",
     "text": [
      "6 HyP3 Jobs: 6 succeeded, 0 failed, 0 running, 0 pending.\n"
     ]
    }
   ],
   "source": [
    "import hyp3_sdk\n",
    "\n",
    "hyp3_isce = hyp3_sdk.HyP3('https://hyp3-a19-jpl-test.asf.alaska.edu/')\n",
    "\n",
    "now = datetime.datetime(2025,9,22,14,0,0)\n",
    "submit_start = now - timedelta(hours=2)\n",
    "\n",
    "jobs = hyp3_isce.find_jobs(\n",
    "                           start=submit_start,\n",
    "                           user_id='cmarshak',\n",
    "                           name='test-latest-isce')\n",
    "print(jobs)"
   ]
  },
  {
   "cell_type": "code",
   "execution_count": 13,
   "id": "0895450c",
   "metadata": {},
   "outputs": [
    {
     "name": "stdout",
     "output_type": "stream",
     "text": [
      "https://hyp3-a19-jpl-test-contentbucket-gi5u8dzond7a.s3.us-west-2.amazonaws.com/fc7ef497-2139-4351-b7e3-89eeb4da6642/S1-GUNW-A-R-064-tops-20240115_20240103-015044-00119W_00033N-PP-9902-v3_0_1.nc\n",
      "https://hyp3-a19-jpl-test-contentbucket-gi5u8dzond7a.s3.us-west-2.amazonaws.com/89e9a3ec-5a67-4579-81e2-e67f495e0d78/S1-GUNW-A-R-064-tops-20240208_20240103-015044-00119W_00033N-PP-629e-v3_0_1.nc\n",
      "https://hyp3-a19-jpl-test-contentbucket-gi5u8dzond7a.s3.us-west-2.amazonaws.com/c948c603-4190-4896-8adf-fcac9224ccb0/S1-GUNW-A-R-064-tops-20240220_20240127-015044-00119W_00033N-PP-4f28-v3_0_1.nc\n",
      "https://hyp3-a19-jpl-test-contentbucket-gi5u8dzond7a.s3.us-west-2.amazonaws.com/fab9bb2c-7796-479c-9d21-5cdba221f8d4/S1-GUNW-A-R-064-tops-20240208_20240115-015044-00119W_00033N-PP-8b54-v3_0_1.nc\n",
      "https://hyp3-a19-jpl-test-contentbucket-gi5u8dzond7a.s3.us-west-2.amazonaws.com/995e924a-6d20-46d6-98a7-0e11d905a3b3/S1-GUNW-A-R-064-tops-20240220_20240115-015044-00119W_00033N-PP-60cc-v3_0_1.nc\n",
      "https://hyp3-a19-jpl-test-contentbucket-gi5u8dzond7a.s3.us-west-2.amazonaws.com/21741f9a-139b-43fc-a746-75d1daeb1aed/S1-GUNW-A-R-064-tops-20240220_20240208-015044-00119W_00033N-PP-e9c9-v3_0_1.nc\n"
     ]
    }
   ],
   "source": [
    "jobs_d = [j.to_dict() for j in jobs]\n",
    "urls = [jd['files'][0]['url'] for jd in jobs_d]\n",
    "for u in urls:\n",
    "    print(u)"
   ]
  },
  {
   "cell_type": "markdown",
   "id": "6cb92901-b589-4ee1-854e-8c69d50a3cc0",
   "metadata": {},
   "source": [
    "# CA S1c\n",
    "\n",
    "```\n",
    "'conus_west_coast-track108',\n",
    " 'conus_west_coast-track137',\n",
    " 'conus_west_coast-track144',\n",
    " 'conus_west_coast-track166',\n",
    " 'conus_west_coast-track166_1'\n",
    "```"
   ]
  },
  {
   "cell_type": "code",
   "execution_count": 64,
   "id": "c15a727a-e746-4fb5-b45b-a3d70f4baa59",
   "metadata": {},
   "outputs": [
    {
     "name": "stdout",
     "output_type": "stream",
     "text": [
      "10367 HyP3 Jobs: 10100 succeeded, 267 failed, 0 running, 0 pending.\n"
     ]
    }
   ],
   "source": [
    "import hyp3_sdk\n",
    "import datetime\n",
    "from datetime import timedelta\n",
    "\n",
    "hyp3_isce = hyp3_sdk.HyP3('https://hyp3-a19-jpl.asf.alaska.edu')\n",
    "\n",
    "\n",
    "st = datetime.datetime(2025, 9, 25, 9,30)\n",
    "submit_time_approx = st - timedelta(hours=24)\n",
    "\n",
    "jobs = hyp3_isce.find_jobs(start=submit_time_approx,\n",
    "                           user_id='access_cloud_based_insar', \n",
    "                           job_type='INSAR_ISCE',\n",
    "                           #name='conus_west_coast-track108'\n",
    ")\n",
    "print(jobs)"
   ]
  },
  {
   "cell_type": "markdown",
   "id": "db74ec58-5c96-495e-9037-1f1e24d2e83d",
   "metadata": {},
   "source": [
    "# New Zealand Update Track 125\n",
    "new_zealand-track125"
   ]
  },
  {
   "cell_type": "code",
   "execution_count": 65,
   "id": "32b84c13-8ec1-4c7a-8b19-09cc6fbc8d37",
   "metadata": {},
   "outputs": [
    {
     "name": "stdout",
     "output_type": "stream",
     "text": [
      "3536 HyP3 Jobs: 3512 succeeded, 24 failed, 0 running, 0 pending.\n"
     ]
    }
   ],
   "source": [
    "import hyp3_sdk\n",
    "import datetime\n",
    "from datetime import timedelta\n",
    "\n",
    "hyp3_isce = hyp3_sdk.HyP3('https://hyp3-a19-jpl.asf.alaska.edu')\n",
    "\n",
    "st = datetime.datetime(2025, 9, 25, 12,30)\n",
    "submit_time_approx = st - timedelta(hours=24)\n",
    "\n",
    "jobs = hyp3_isce.find_jobs(start=submit_time_approx,\n",
    "                           user_id='access_cloud_based_insar', \n",
    "                           job_type='INSAR_ISCE',\n",
    "                           name='new_zealand-track125'\n",
    ")\n",
    "print(jobs)"
   ]
  },
  {
   "cell_type": "code",
   "execution_count": 62,
   "id": "02f0ebd7-541a-4cce-bbc0-94083eaaa63a",
   "metadata": {},
   "outputs": [
    {
     "data": {
      "text/plain": [
       "[{'job_id': '12560436-9f97-4ec5-998d-34ffdf013fd6',\n",
       "  'logs': ['https://hyp3-a19-jpl-contentbucket-1wfnatpznlg8b.s3.us-west-2.amazonaws.com/12560436-9f97-4ec5-998d-34ffdf013fd6/12560436-9f97-4ec5-998d-34ffdf013fd6.log'],\n",
       "  'job_type': 'INSAR_ISCE',\n",
       "  'expiration_time': '2025-10-10T00:00:00+00:00',\n",
       "  'thumbnail_images': [],\n",
       "  'user_id': 'access_cloud_based_insar',\n",
       "  'priority': 100,\n",
       "  'status_code': 'FAILED',\n",
       "  'files': [],\n",
       "  'browse_images': [],\n",
       "  'credit_cost': 1,\n",
       "  'name': 'new_zealand-track125',\n",
       "  'job_parameters': {'unfiltered_coherence': True,\n",
       "   'min_frame_coverage': 0.01,\n",
       "   'granules': ['S1A_IW_SLC__1SDV_20250501T073044_20250501T073114_058997_075122_AC5F'],\n",
       "   'compute_solid_earth_tide': True,\n",
       "   'weather_model': 'None',\n",
       "   'secondary_granules': ['S1A_IW_SLC__1SDV_20250326T073046_20250326T073116_058472_073BB1_E6BB'],\n",
       "   'goldstein_filter_power': 0.5,\n",
       "   'output_resolution': 90,\n",
       "   'dense_offsets': False,\n",
       "   'esd_coherence_threshold': -1,\n",
       "   'frame_id': 19449,\n",
       "   'estimate_ionosphere_delay': True},\n",
       "  'request_time': '2025-09-25T19:21:44+00:00'},\n",
       " {'job_id': 'f252d399-f678-4aaa-9be5-2ce223beebd3',\n",
       "  'logs': ['https://hyp3-a19-jpl-contentbucket-1wfnatpznlg8b.s3.us-west-2.amazonaws.com/f252d399-f678-4aaa-9be5-2ce223beebd3/f252d399-f678-4aaa-9be5-2ce223beebd3.log'],\n",
       "  'job_type': 'INSAR_ISCE',\n",
       "  'expiration_time': '2025-10-10T00:00:00+00:00',\n",
       "  'thumbnail_images': [],\n",
       "  'user_id': 'access_cloud_based_insar',\n",
       "  'priority': 100,\n",
       "  'status_code': 'FAILED',\n",
       "  'files': [],\n",
       "  'browse_images': [],\n",
       "  'credit_cost': 1,\n",
       "  'name': 'new_zealand-track125',\n",
       "  'job_parameters': {'unfiltered_coherence': True,\n",
       "   'min_frame_coverage': 0.01,\n",
       "   'granules': ['S1A_IW_SLC__1SDV_20250513T073047_20250513T073116_059172_07579C_B5EB'],\n",
       "   'compute_solid_earth_tide': True,\n",
       "   'weather_model': 'None',\n",
       "   'secondary_granules': ['S1A_IW_SLC__1SDV_20250501T073044_20250501T073114_058997_075122_AC5F'],\n",
       "   'goldstein_filter_power': 0.5,\n",
       "   'output_resolution': 90,\n",
       "   'dense_offsets': False,\n",
       "   'esd_coherence_threshold': -1,\n",
       "   'frame_id': 19449,\n",
       "   'estimate_ionosphere_delay': True},\n",
       "  'request_time': '2025-09-25T19:21:44+00:00'},\n",
       " {'job_id': 'c024fa66-1f5a-4b7d-8990-309c477fc912',\n",
       "  'logs': ['https://hyp3-a19-jpl-contentbucket-1wfnatpznlg8b.s3.us-west-2.amazonaws.com/c024fa66-1f5a-4b7d-8990-309c477fc912/c024fa66-1f5a-4b7d-8990-309c477fc912.log'],\n",
       "  'job_type': 'INSAR_ISCE',\n",
       "  'expiration_time': '2025-10-10T00:00:00+00:00',\n",
       "  'thumbnail_images': [],\n",
       "  'user_id': 'access_cloud_based_insar',\n",
       "  'priority': 100,\n",
       "  'status_code': 'FAILED',\n",
       "  'files': [],\n",
       "  'browse_images': [],\n",
       "  'credit_cost': 1,\n",
       "  'name': 'new_zealand-track125',\n",
       "  'job_parameters': {'unfiltered_coherence': True,\n",
       "   'min_frame_coverage': 0.01,\n",
       "   'granules': ['S1A_IW_SLC__1SDV_20250525T073046_20250525T073116_059347_075DAA_2367'],\n",
       "   'compute_solid_earth_tide': True,\n",
       "   'weather_model': 'None',\n",
       "   'secondary_granules': ['S1A_IW_SLC__1SDV_20250501T073044_20250501T073114_058997_075122_AC5F'],\n",
       "   'goldstein_filter_power': 0.5,\n",
       "   'output_resolution': 90,\n",
       "   'dense_offsets': False,\n",
       "   'esd_coherence_threshold': -1,\n",
       "   'frame_id': 19449,\n",
       "   'estimate_ionosphere_delay': True},\n",
       "  'request_time': '2025-09-25T19:21:44+00:00'},\n",
       " {'job_id': 'b0875927-6bbb-40b3-9459-aa76731a10e6',\n",
       "  'logs': ['https://hyp3-a19-jpl-contentbucket-1wfnatpznlg8b.s3.us-west-2.amazonaws.com/b0875927-6bbb-40b3-9459-aa76731a10e6/b0875927-6bbb-40b3-9459-aa76731a10e6.log'],\n",
       "  'job_type': 'INSAR_ISCE',\n",
       "  'expiration_time': '2025-10-10T00:00:00+00:00',\n",
       "  'thumbnail_images': [],\n",
       "  'user_id': 'access_cloud_based_insar',\n",
       "  'priority': 100,\n",
       "  'status_code': 'FAILED',\n",
       "  'files': [],\n",
       "  'browse_images': [],\n",
       "  'credit_cost': 1,\n",
       "  'name': 'new_zealand-track125',\n",
       "  'job_parameters': {'unfiltered_coherence': True,\n",
       "   'min_frame_coverage': 0.01,\n",
       "   'granules': ['S1A_IW_SLC__1SDV_20250501T073044_20250501T073114_058997_075122_AC5F'],\n",
       "   'compute_solid_earth_tide': True,\n",
       "   'weather_model': 'None',\n",
       "   'secondary_granules': ['S1A_IW_SLC__1SDV_20250407T073047_20250407T073116_058647_0742D9_CB3D'],\n",
       "   'goldstein_filter_power': 0.5,\n",
       "   'output_resolution': 90,\n",
       "   'dense_offsets': False,\n",
       "   'esd_coherence_threshold': -1,\n",
       "   'frame_id': 19449,\n",
       "   'estimate_ionosphere_delay': True},\n",
       "  'request_time': '2025-09-25T19:21:44+00:00'},\n",
       " {'job_id': '6f9e9253-4877-45f9-a4d1-6e325aaa37ea',\n",
       "  'logs': ['https://hyp3-a19-jpl-contentbucket-1wfnatpznlg8b.s3.us-west-2.amazonaws.com/6f9e9253-4877-45f9-a4d1-6e325aaa37ea/6f9e9253-4877-45f9-a4d1-6e325aaa37ea.log'],\n",
       "  'job_type': 'INSAR_ISCE',\n",
       "  'expiration_time': '2025-10-10T00:00:00+00:00',\n",
       "  'thumbnail_images': [],\n",
       "  'user_id': 'access_cloud_based_insar',\n",
       "  'priority': 100,\n",
       "  'status_code': 'FAILED',\n",
       "  'files': [],\n",
       "  'browse_images': [],\n",
       "  'credit_cost': 1,\n",
       "  'name': 'new_zealand-track125',\n",
       "  'job_parameters': {'unfiltered_coherence': True,\n",
       "   'min_frame_coverage': 0.01,\n",
       "   'granules': ['S1A_IW_SLC__1SDV_20250501T073044_20250501T073114_058997_075122_AC5F'],\n",
       "   'compute_solid_earth_tide': True,\n",
       "   'weather_model': 'None',\n",
       "   'secondary_granules': ['S1A_IW_SLC__1SDV_20250419T073047_20250419T073116_058822_074A00_5FEC'],\n",
       "   'goldstein_filter_power': 0.5,\n",
       "   'output_resolution': 90,\n",
       "   'dense_offsets': False,\n",
       "   'esd_coherence_threshold': -1,\n",
       "   'frame_id': 19449,\n",
       "   'estimate_ionosphere_delay': True},\n",
       "  'request_time': '2025-09-25T19:21:44+00:00'},\n",
       " {'job_id': '7adc640d-5d90-42e6-8cbe-a5824bbef4ef',\n",
       "  'logs': ['https://hyp3-a19-jpl-contentbucket-1wfnatpznlg8b.s3.us-west-2.amazonaws.com/7adc640d-5d90-42e6-8cbe-a5824bbef4ef/7adc640d-5d90-42e6-8cbe-a5824bbef4ef.log'],\n",
       "  'job_type': 'INSAR_ISCE',\n",
       "  'expiration_time': '2025-10-10T00:00:00+00:00',\n",
       "  'thumbnail_images': [],\n",
       "  'user_id': 'access_cloud_based_insar',\n",
       "  'priority': 100,\n",
       "  'status_code': 'FAILED',\n",
       "  'files': [],\n",
       "  'browse_images': [],\n",
       "  'credit_cost': 1,\n",
       "  'name': 'new_zealand-track125',\n",
       "  'job_parameters': {'unfiltered_coherence': True,\n",
       "   'min_frame_coverage': 0.01,\n",
       "   'granules': ['S1C_IW_SLC__1SDV_20250519T072908_20250519T072939_002396_005086_5356',\n",
       "    'S1C_IW_SLC__1SDV_20250519T072937_20250519T073004_002396_005086_D699'],\n",
       "   'compute_solid_earth_tide': True,\n",
       "   'weather_model': 'None',\n",
       "   'secondary_granules': ['S1A_IW_SLC__1SDV_20250501T073044_20250501T073114_058997_075122_AC5F'],\n",
       "   'goldstein_filter_power': 0.5,\n",
       "   'output_resolution': 90,\n",
       "   'dense_offsets': False,\n",
       "   'esd_coherence_threshold': -1,\n",
       "   'frame_id': 19449,\n",
       "   'estimate_ionosphere_delay': True},\n",
       "  'request_time': '2025-09-25T19:21:44+00:00'}]"
      ]
     },
     "execution_count": 62,
     "metadata": {},
     "output_type": "execute_result"
    }
   ],
   "source": [
    "import hyp3_sdk\n",
    "import datetime\n",
    "from datetime import timedelta\n",
    "\n",
    "hyp3_isce = hyp3_sdk.HyP3('https://hyp3-a19-jpl.asf.alaska.edu')\n",
    "\n",
    "st = datetime.datetime(2025, 9, 25, 12,30)\n",
    "submit_time_approx = st - timedelta(hours=24)\n",
    "\n",
    "jobs_f = hyp3_isce.find_jobs(start=submit_time_approx,\n",
    "                           user_id='access_cloud_based_insar', \n",
    "                           job_type='INSAR_ISCE',\n",
    "                           name='new_zealand-track125',\n",
    "                        status_code='FAILED'\n",
    ")\n",
    "[jf.to_dict() for jf in jobs_f]"
   ]
  },
  {
   "cell_type": "markdown",
   "id": "a06a63ac-75a9-4e8f-b16e-3617403b866a",
   "metadata": {},
   "source": [
    "# NZ Catchup Update"
   ]
  },
  {
   "cell_type": "code",
   "execution_count": 66,
   "id": "7807e3a0-3d5c-48fe-b82c-6d6eb06520fc",
   "metadata": {},
   "outputs": [
    {
     "name": "stdout",
     "output_type": "stream",
     "text": [
      "2414 HyP3 Jobs: 2414 succeeded, 0 failed, 0 running, 0 pending.\n"
     ]
    }
   ],
   "source": [
    "import hyp3_sdk\n",
    "import datetime\n",
    "from datetime import timedelta\n",
    "\n",
    "hyp3_isce = hyp3_sdk.HyP3('https://hyp3-a19-jpl.asf.alaska.edu')\n",
    "\n",
    "st = datetime.datetime(2025, 9, 25, 19,30)\n",
    "submit_time_approx = st - timedelta(minutes=0)\n",
    "\n",
    "jobs = hyp3_isce.find_jobs(start=submit_time_approx,\n",
    "                           user_id='access_cloud_based_insar', \n",
    "                           job_type='INSAR_ISCE',\n",
    ")\n",
    "print(jobs)"
   ]
  },
  {
   "cell_type": "markdown",
   "id": "deb2dbbd-c2e7-463f-9d61-ab4191a64edc",
   "metadata": {},
   "source": [
    "# Final Arabian Catchup"
   ]
  },
  {
   "cell_type": "code",
   "execution_count": 6,
   "id": "4bd1bf18-07d8-481e-8563-bb1bacdbc1ec",
   "metadata": {},
   "outputs": [
    {
     "name": "stdout",
     "output_type": "stream",
     "text": [
      "932 HyP3 Jobs: 0 succeeded, 0 failed, 932 running, 0 pending.\n"
     ]
    }
   ],
   "source": [
    "import hyp3_sdk\n",
    "import datetime\n",
    "from datetime import timedelta\n",
    "\n",
    "hyp3_isce = hyp3_sdk.HyP3('https://hyp3-a19-jpl.asf.alaska.edu')\n",
    "\n",
    "st = datetime.datetime(2025, 9, 26, 1,30)\n",
    "submit_time_approx = st - timedelta(hours=1)\n",
    "\n",
    "jobs = hyp3_isce.find_jobs(start=submit_time_approx,\n",
    "                           user_id='access_cloud_based_insar', \n",
    "                           job_type='INSAR_ISCE',\n",
    ")\n",
    "print(jobs)"
   ]
  }
 ],
 "metadata": {
  "kernelspec": {
   "display_name": "aria_hyp3_env",
   "language": "python",
   "name": "aria_hyp3_env"
  },
  "language_info": {
   "codemirror_mode": {
    "name": "ipython",
    "version": 3
   },
   "file_extension": ".py",
   "mimetype": "text/x-python",
   "name": "python",
   "nbconvert_exporter": "python",
   "pygments_lexer": "ipython3",
   "version": "3.13.5"
  }
 },
 "nbformat": 4,
 "nbformat_minor": 5
}
