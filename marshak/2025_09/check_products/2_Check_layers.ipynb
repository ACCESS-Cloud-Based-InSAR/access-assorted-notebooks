{
 "cells": [
  {
   "cell_type": "markdown",
   "id": "61a00ffa-f4e3-4b52-bff9-446ce8b27ed0",
   "metadata": {},
   "source": [
    "Please use the same environment installed from https://github.com/ACCESS-Cloud-Based-InSAR/DockerizedTopsApp"
   ]
  },
  {
   "cell_type": "code",
   "execution_count": 1,
   "id": "cae7b71b",
   "metadata": {
    "ExecuteTime": {
     "end_time": "2023-02-15T02:24:02.635805Z",
     "start_time": "2023-02-15T02:24:02.633163Z"
    }
   },
   "outputs": [
    {
     "name": "stderr",
     "output_type": "stream",
     "text": [
      "/Users/cmarshak/miniforge3/envs/topsapp_env/lib/python3.11/site-packages/scipy/__init__.py:155: UserWarning: A NumPy version >=1.18.5 and <1.26.0 is required for this version of SciPy (detected version 1.26.4\n",
      "  warnings.warn(f\"A NumPy version >={np_minversion} and <{np_maxversion}\"\n"
     ]
    }
   ],
   "source": [
    "from pathlib import Path\n",
    "import geopandas as gpd\n",
    "import rasterio\n",
    "import numpy as np\n",
    "import pandas as pd\n",
    "import matplotlib.pyplot as plt\n",
    "import rioxarray as rxr\n",
    "import xarray as xr"
   ]
  },
  {
   "cell_type": "code",
   "execution_count": 23,
   "id": "36d80685-e301-41ed-aa79-a9344edff5a2",
   "metadata": {},
   "outputs": [],
   "source": [
    "INDEX_TO_CHECK = 0"
   ]
  },
  {
   "cell_type": "code",
   "execution_count": 24,
   "id": "db16ff3f",
   "metadata": {
    "ExecuteTime": {
     "end_time": "2023-02-15T02:24:27.150701Z",
     "start_time": "2023-02-15T02:24:27.144390Z"
    }
   },
   "outputs": [
    {
     "data": {
      "text/plain": [
       "[PosixPath('new_products/S1-GUNW-A-R-064-tops-20240115_20240103-015044-00119W_00033N-PP-9902-v3_0_1.nc'),\n",
       " PosixPath('new_products/S1-GUNW-A-R-064-tops-20240208_20240103-015044-00119W_00033N-PP-629e-v3_0_1.nc'),\n",
       " PosixPath('new_products/S1-GUNW-A-R-064-tops-20240208_20240115-015044-00119W_00033N-PP-8b54-v3_0_1.nc'),\n",
       " PosixPath('new_products/S1-GUNW-A-R-064-tops-20240220_20240115-015044-00119W_00033N-PP-60cc-v3_0_1.nc'),\n",
       " PosixPath('new_products/S1-GUNW-A-R-064-tops-20240220_20240127-015044-00119W_00033N-PP-4f28-v3_0_1.nc'),\n",
       " PosixPath('new_products/S1-GUNW-A-R-064-tops-20240220_20240208-015044-00119W_00033N-PP-e9c9-v3_0_1.nc')]"
      ]
     },
     "execution_count": 24,
     "metadata": {},
     "output_type": "execute_result"
    }
   ],
   "source": [
    "nc_paths_new = sorted(list(Path('new_products/').glob('*.nc')))\n",
    "nc_paths_new"
   ]
  },
  {
   "cell_type": "code",
   "execution_count": 25,
   "id": "9f79cdd7-9f16-4d7a-bd69-d7058d013250",
   "metadata": {},
   "outputs": [
    {
     "data": {
      "text/plain": [
       "[PosixPath('existing_products/S1-GUNW-A-R-064-tops-20240115_20240103-015044-00119W_00033N-PP-9902-v3_0_1.nc'),\n",
       " PosixPath('existing_products/S1-GUNW-A-R-064-tops-20240208_20240103-015044-00119W_00033N-PP-629e-v3_0_1.nc'),\n",
       " PosixPath('existing_products/S1-GUNW-A-R-064-tops-20240208_20240115-015044-00119W_00033N-PP-8b54-v3_0_1.nc'),\n",
       " PosixPath('existing_products/S1-GUNW-A-R-064-tops-20240220_20240115-015044-00119W_00033N-PP-60cc-v3_0_1.nc'),\n",
       " PosixPath('existing_products/S1-GUNW-A-R-064-tops-20240220_20240127-015044-00119W_00033N-PP-4f28-v3_0_1.nc'),\n",
       " PosixPath('existing_products/S1-GUNW-A-R-064-tops-20240220_20240208-015044-00119W_00033N-PP-e9c9-v3_0_1.nc')]"
      ]
     },
     "execution_count": 25,
     "metadata": {},
     "output_type": "execute_result"
    }
   ],
   "source": [
    "nc_paths_old = sorted(list(Path('existing_products/').glob('*.nc')))\n",
    "nc_paths_old"
   ]
  },
  {
   "cell_type": "code",
   "execution_count": 26,
   "id": "4b61d01e-27d5-4267-9cb7-9400a0d896e6",
   "metadata": {},
   "outputs": [
    {
     "data": {
      "text/plain": [
       "PosixPath('new_products/S1-GUNW-A-R-064-tops-20240115_20240103-015044-00119W_00033N-PP-9902-v3_0_1.nc')"
      ]
     },
     "execution_count": 26,
     "metadata": {},
     "output_type": "execute_result"
    }
   ],
   "source": [
    "new_prod = nc_paths_new[INDEX_TO_CHECK]\n",
    "new_prod"
   ]
  },
  {
   "cell_type": "code",
   "execution_count": 27,
   "id": "3a85ba50",
   "metadata": {
    "ExecuteTime": {
     "end_time": "2023-02-15T02:24:27.347801Z",
     "start_time": "2023-02-15T02:24:27.344428Z"
    }
   },
   "outputs": [
    {
     "data": {
      "text/plain": [
       "PosixPath('existing_products/S1-GUNW-A-R-064-tops-20240115_20240103-015044-00119W_00033N-PP-9902-v3_0_1.nc')"
      ]
     },
     "execution_count": 27,
     "metadata": {},
     "output_type": "execute_result"
    }
   ],
   "source": [
    "old_prods = sorted(list(Path('existing_products/').glob(f'{new_prod.name[:38]}*.nc')))\n",
    "assert len(old_prods) == 1\n",
    "old_prod = old_prods[0]\n",
    "old_prod"
   ]
  },
  {
   "cell_type": "code",
   "execution_count": 28,
   "id": "b8c41a06",
   "metadata": {},
   "outputs": [
    {
     "name": "stdout",
     "output_type": "stream",
     "text": [
      "| 1.00, 0.00, 0.00|\n",
      "| 0.00, 1.00, 0.00|\n",
      "| 0.00, 0.00, 1.00|\n"
     ]
    },
    {
     "name": "stderr",
     "output_type": "stream",
     "text": [
      "/Users/cmarshak/miniforge3/envs/topsapp_env/lib/python3.11/site-packages/rasterio/__init__.py:356: NotGeoreferencedWarning: Dataset has no geotransform, gcps, or rpcs. The identity matrix will be returned.\n",
      "  dataset = DatasetReader(path, driver=driver, sharing=sharing, **kwargs)\n"
     ]
    },
    {
     "data": {
      "text/plain": [
       "['netcdf:new_products/S1-GUNW-A-R-064-tops-20240115_20240103-015044-00119W_00033N-PP-9902-v3_0_1.nc:/science/grids/corrections/derived/ionosphere/ionosphere',\n",
       " 'netcdf:new_products/S1-GUNW-A-R-064-tops-20240115_20240103-015044-00119W_00033N-PP-9902-v3_0_1.nc:/science/grids/corrections/derived/ionosphereBurstRamps/ionosphereBurstRamps']"
      ]
     },
     "execution_count": 28,
     "metadata": {},
     "output_type": "execute_result"
    }
   ],
   "source": [
    "with rasterio.open(f'{str(new_prod)}') as ds:\n",
    "    subdatasets = ds.subdatasets\n",
    "    print(ds.transform)\n",
    "subdatasets = sorted([sd for sd in subdatasets if 'productBoundingBox' not in sd])\n",
    "subdatasets[:2]"
   ]
  },
  {
   "cell_type": "code",
   "execution_count": 29,
   "id": "11199a17-3c7c-4214-a940-c0fd2e3ed9a7",
   "metadata": {},
   "outputs": [
    {
     "data": {
      "text/plain": [
       "['/science/grids/corrections/derived/ionosphere/ionosphere',\n",
       " '/science/grids/corrections/derived/ionosphereBurstRamps/ionosphereBurstRamps']"
      ]
     },
     "execution_count": 29,
     "metadata": {},
     "output_type": "execute_result"
    }
   ],
   "source": [
    "local_vars = [sd.split(':')[-1] for sd in subdatasets]\n",
    "local_vars[:2]"
   ]
  },
  {
   "cell_type": "code",
   "execution_count": 38,
   "id": "8a65f8a8-2d1d-41d8-976a-655204c52b46",
   "metadata": {},
   "outputs": [
    {
     "name": "stdout",
     "output_type": "stream",
     "text": [
      "New dataset name S1-GUNW-A-R-064-tops-20240115_20240103-015044-00119W_00033N-PP-9902-v3_0_1\n",
      "G(old)en datset name S1-GUNW-A-R-064-tops-20240115_20240103-015044-00119W_00033N-PP-9902-v3_0_1\n",
      "##########\n",
      "/science/grids/corrections/derived/ionosphere/ionosphere\n",
      "##########\n",
      "nodata_val is:  nan\n",
      "The variable /science/grids/corrections/derived/ionosphere/ionosphere has RMS error:  0.7747396\n",
      "pixels with deviation larger than 0.0001:  50238\n",
      "Percent of pixels with deviation larger than 0.0001:  0.9765760161732403\n",
      "Total valid pixels : 51443\n",
      "Mean absolute error (MAE) of bad pixels: 0.0023168539628386497\n",
      "The origin of the new dataset is:  -119.024167057 34.889267111\n",
      "The origin of the g(old)en dataset is:  -119.024167057 34.889267111\n",
      "\n",
      "\n",
      "##########\n",
      "/science/grids/corrections/derived/ionosphereBurstRamps/ionosphereBurstRamps\n",
      "##########\n",
      "nodata_val is:  nan\n",
      "The variable /science/grids/corrections/derived/ionosphereBurstRamps/ionosphereBurstRamps has RMS error:  0.57251036\n",
      "pixels with deviation larger than 0.0001:  2629062\n",
      "Percent of pixels with deviation larger than 0.0001:  0.4194832866418546\n",
      "Total valid pixels : 6267382\n",
      "Mean absolute error (MAE) of bad pixels: 0.00023630766372662038\n",
      "The origin of the new dataset is:  -119.024167057 34.889267111\n",
      "The origin of the g(old)en dataset is:  -119.024167057 34.889267111\n",
      "\n",
      "\n",
      "##########\n",
      "/science/grids/corrections/external/tides/solidEarth/reference/solidEarthTide\n",
      "##########\n",
      "nodata_val is:  0.0\n",
      "The variable /science/grids/corrections/external/tides/solidEarth/reference/solidEarthTide has RMS error:  0.0\n",
      "pixels with deviation larger than 0.0001:  0\n",
      "Percent of pixels with deviation larger than 0.0001:  0.0\n",
      "Total valid pixels : 1102\n",
      "The origin of the new dataset is:  -119.25 35.35\n",
      "The origin of the g(old)en dataset is:  -119.25 35.35\n",
      "\n",
      "\n",
      "##########\n",
      "/science/grids/corrections/external/tides/solidEarth/secondary/solidEarthTide\n",
      "##########\n",
      "nodata_val is:  0.0\n",
      "The variable /science/grids/corrections/external/tides/solidEarth/secondary/solidEarthTide has RMS error:  0.0\n",
      "pixels with deviation larger than 0.0001:  0\n",
      "Percent of pixels with deviation larger than 0.0001:  0.0\n",
      "Total valid pixels : 1102\n",
      "The origin of the new dataset is:  -119.25 35.35\n",
      "The origin of the g(old)en dataset is:  -119.25 35.35\n",
      "\n",
      "\n",
      "##########\n",
      "/science/grids/corrections/external/troposphere/HRRR/reference/troposphereHydrostatic\n",
      "##########\n",
      "nodata_val is:  0.0\n",
      "The variable /science/grids/corrections/external/troposphere/HRRR/reference/troposphereHydrostatic has RMS error:  0.0\n",
      "pixels with deviation larger than 0.0001:  0\n",
      "Percent of pixels with deviation larger than 0.0001:  0.0\n",
      "Total valid pixels : 2640\n",
      "The origin of the new dataset is:  -119.12500000000001 34.975000772720726\n",
      "The origin of the g(old)en dataset is:  -119.12500000000001 34.975000772720726\n",
      "\n",
      "\n",
      "##########\n",
      "/science/grids/corrections/external/troposphere/HRRR/reference/troposphereWet\n",
      "##########\n",
      "nodata_val is:  0.0\n",
      "The variable /science/grids/corrections/external/troposphere/HRRR/reference/troposphereWet has RMS error:  0.0\n",
      "pixels with deviation larger than 0.0001:  0\n",
      "Percent of pixels with deviation larger than 0.0001:  0.0\n",
      "Total valid pixels : 2640\n",
      "The origin of the new dataset is:  -119.12500000000001 34.975000772720726\n",
      "The origin of the g(old)en dataset is:  -119.12500000000001 34.975000772720726\n",
      "\n",
      "\n",
      "##########\n",
      "/science/grids/corrections/external/troposphere/HRRR/secondary/troposphereHydrostatic\n",
      "##########\n",
      "nodata_val is:  0.0\n",
      "The variable /science/grids/corrections/external/troposphere/HRRR/secondary/troposphereHydrostatic has RMS error:  0.0\n",
      "pixels with deviation larger than 0.0001:  0\n",
      "Percent of pixels with deviation larger than 0.0001:  0.0\n",
      "Total valid pixels : 2640\n",
      "The origin of the new dataset is:  -119.12500000000001 34.975000772720726\n",
      "The origin of the g(old)en dataset is:  -119.12500000000001 34.975000772720726\n",
      "\n",
      "\n",
      "##########\n",
      "/science/grids/corrections/external/troposphere/HRRR/secondary/troposphereWet\n",
      "##########\n",
      "nodata_val is:  0.0\n",
      "The variable /science/grids/corrections/external/troposphere/HRRR/secondary/troposphereWet has RMS error:  0.0\n",
      "pixels with deviation larger than 0.0001:  0\n",
      "Percent of pixels with deviation larger than 0.0001:  0.0\n",
      "Total valid pixels : 2640\n",
      "The origin of the new dataset is:  -119.12500000000001 34.975000772720726\n",
      "The origin of the g(old)en dataset is:  -119.12500000000001 34.975000772720726\n",
      "\n",
      "\n",
      "##########\n",
      "/science/grids/data/amplitude\n",
      "##########\n",
      "nodata_val is:  0.0\n",
      "The variable /science/grids/data/amplitude has RMS error:  30.045677\n",
      "pixels with deviation larger than 0.0001:  1214065\n",
      "Percent of pixels with deviation larger than 0.0001:  0.1937116646153051\n",
      "Total valid pixels : 6267382\n",
      "Mean absolute error (MAE) of bad pixels: 0.0032712973188608885\n",
      "The origin of the new dataset is:  -119.024167057 34.889267111\n",
      "The origin of the g(old)en dataset is:  -119.024167057 34.889267111\n",
      "\n",
      "\n",
      "##########\n",
      "/science/grids/data/coherence\n",
      "##########\n",
      "nodata_val is:  0.0\n",
      "The variable /science/grids/data/coherence has RMS error:  0.038543314\n",
      "pixels with deviation larger than 0.0001:  36\n",
      "Percent of pixels with deviation larger than 0.0001:  4.202678366923241e-06\n",
      "Total valid pixels : 8565966\n",
      "Mean absolute error (MAE) of bad pixels: 0.0038320894818753004\n",
      "The origin of the new dataset is:  -119.024167057 34.889267111\n",
      "The origin of the g(old)en dataset is:  -119.024167057 34.889267111\n",
      "\n",
      "\n",
      "##########\n",
      "/science/grids/data/connectedComponents\n",
      "##########\n",
      "nodata_val is:  -1.0\n",
      "The variable /science/grids/data/connectedComponents has RMS error:  68.49818\n",
      "pixels with deviation larger than 0.0001:  93\n",
      "Percent of pixels with deviation larger than 0.0001:  1.7026053706764123e-05\n",
      "Total valid pixels : 5462217\n",
      "Mean absolute error (MAE) of bad pixels: 6.49462366104126\n",
      "The origin of the new dataset is:  -119.024167057 34.889267111\n",
      "The origin of the g(old)en dataset is:  -119.024167057 34.889267111\n",
      "\n",
      "\n",
      "##########\n",
      "/science/grids/data/unfilteredCoherence\n",
      "##########\n",
      "nodata_val is:  0.0\n",
      "The variable /science/grids/data/unfilteredCoherence has RMS error:  2.9439798e-05\n",
      "pixels with deviation larger than 0.0001:  0\n",
      "Percent of pixels with deviation larger than 0.0001:  0.0\n",
      "Total valid pixels : 8565966\n",
      "The origin of the new dataset is:  -119.024167057 34.889267111\n",
      "The origin of the g(old)en dataset is:  -119.024167057 34.889267111\n",
      "\n",
      "\n",
      "##########\n",
      "/science/grids/data/unwrappedPhase\n",
      "##########\n",
      "nodata_val is:  0.0\n",
      "The variable /science/grids/data/unwrappedPhase has RMS error:  133.13832\n",
      "pixels with deviation larger than 0.0001:  1090\n",
      "Percent of pixels with deviation larger than 0.0001:  0.00012724776166517587\n",
      "Total valid pixels : 8565966\n",
      "Mean absolute error (MAE) of bad pixels: 2.588320732116699\n",
      "The origin of the new dataset is:  -119.024167057 34.889267111\n",
      "The origin of the g(old)en dataset is:  -119.024167057 34.889267111\n",
      "\n",
      "\n",
      "##########\n",
      "/science/grids/imagingGeometry/azimuthAngle\n",
      "##########\n",
      "nodata_val is:  0.0\n",
      "The variable /science/grids/imagingGeometry/azimuthAngle has RMS error:  0.0\n",
      "pixels with deviation larger than 0.0001:  0\n",
      "Percent of pixels with deviation larger than 0.0001:  0.0\n",
      "Total valid pixels : 1102\n",
      "The origin of the new dataset is:  -119.25 35.35\n",
      "The origin of the g(old)en dataset is:  -119.25 35.35\n",
      "\n",
      "\n",
      "##########\n",
      "/science/grids/imagingGeometry/incidenceAngle\n",
      "##########\n",
      "nodata_val is:  0.0\n",
      "The variable /science/grids/imagingGeometry/incidenceAngle has RMS error:  0.0\n",
      "pixels with deviation larger than 0.0001:  0\n",
      "Percent of pixels with deviation larger than 0.0001:  0.0\n",
      "Total valid pixels : 1102\n",
      "The origin of the new dataset is:  -119.25 35.35\n",
      "The origin of the g(old)en dataset is:  -119.25 35.35\n",
      "\n",
      "\n",
      "##########\n",
      "/science/grids/imagingGeometry/lookAngle\n",
      "##########\n",
      "nodata_val is:  0.0\n",
      "The variable /science/grids/imagingGeometry/lookAngle has RMS error:  0.0\n",
      "pixels with deviation larger than 0.0001:  0\n",
      "Percent of pixels with deviation larger than 0.0001:  0.0\n",
      "Total valid pixels : 1102\n",
      "The origin of the new dataset is:  -119.25 35.35\n",
      "The origin of the g(old)en dataset is:  -119.25 35.35\n",
      "\n",
      "\n",
      "##########\n",
      "/science/grids/imagingGeometry/parallelBaseline\n",
      "##########\n",
      "nodata_val is:  0.0\n",
      "The variable /science/grids/imagingGeometry/parallelBaseline has RMS error:  0.0\n",
      "pixels with deviation larger than 0.0001:  0\n",
      "Percent of pixels with deviation larger than 0.0001:  0.0\n",
      "Total valid pixels : 1102\n",
      "The origin of the new dataset is:  -119.25 35.35\n",
      "The origin of the g(old)en dataset is:  -119.25 35.35\n",
      "\n",
      "\n",
      "##########\n",
      "/science/grids/imagingGeometry/perpendicularBaseline\n",
      "##########\n",
      "nodata_val is:  0.0\n",
      "The variable /science/grids/imagingGeometry/perpendicularBaseline has RMS error:  0.0\n",
      "pixels with deviation larger than 0.0001:  0\n",
      "Percent of pixels with deviation larger than 0.0001:  0.0\n",
      "Total valid pixels : 1102\n",
      "The origin of the new dataset is:  -119.25 35.35\n",
      "The origin of the g(old)en dataset is:  -119.25 35.35\n",
      "\n",
      "\n"
     ]
    }
   ],
   "source": [
    "ABSOLUTE_DIFF_THRESHOLD = 1e-4\n",
    "\n",
    "print('New dataset name', new_prod.stem)\n",
    "print('G(old)en datset name', old_prod.stem)\n",
    "for golden_path, local_var in zip(subdatasets, local_vars):\n",
    "    \n",
    "    print('#'*10)\n",
    "    print(local_var)\n",
    "    print('#'*10)\n",
    "    with rasterio.open(f'netcdf:{str(old_prod)}:{local_var[1:]}') as ds:\n",
    "        X_golden = ds.read(1)\n",
    "        trans_golden = ds.transform\n",
    "    with rasterio.open(f'netcdf:{str(new_prod)}:{local_var[1:]}') as ds:\n",
    "        X_new = ds.read(1)\n",
    "        trans_new = ds.transform\n",
    "        nodata_val = ds.nodata\n",
    "\n",
    "    if local_var == '/science/grids/corrections/derived/ionosphere/ionosphere':\n",
    "        iono_new = X_new\n",
    "        iono_old = X_golden\n",
    "        \n",
    "\n",
    "    X_new_data = X_new.ravel()\n",
    "    X_golden_data = X_golden.ravel()\n",
    "    print('nodata_val is: ', nodata_val)\n",
    "    # if np.isnan(nodata_val):\n",
    "    #     total_mask = ~np.isnan(X_new) & ~np.isnan(X_golden)\n",
    "    # else:\n",
    "    #     total_mask = (X_new != nodata_val) & (X_golden != nodata_val)\n",
    "    total_mask = ~np.isnan(X_new) & ~np.isnan(X_golden)\n",
    "    if 'connectedComponents' in local_var:\n",
    "        total_mask = ~np.isin(X_new, [-1, 0])\n",
    "    if 'amplitude' in local_var:\n",
    "        total_mask = ~np.isnan(X_new) & (X_new != 0)\n",
    "    if X_new.dtype in [np.float32, np.float64]:\n",
    "        X_new_data = X_new[total_mask]\n",
    "        X_golden_data = X_golden[total_mask]\n",
    "        rms = np.linalg.norm(X_new_data - X_golden_data)\n",
    "        bad_pixels_mask = np.abs(X_new_data - X_golden_data) > ABSOLUTE_DIFF_THRESHOLD\n",
    "        per_pixel_error_large = (bad_pixels_mask).astype(int)\n",
    "        n_error_large = (per_pixel_error_large).sum()\n",
    "        perc_error_large = n_error_large / total_mask.sum()\n",
    "\n",
    "        print(f'The variable {local_var} has RMS error: ', rms)\n",
    "        print(f'pixels with deviation larger than {ABSOLUTE_DIFF_THRESHOLD}: ', n_error_large)\n",
    "        print(f'Percent of pixels with deviation larger than {ABSOLUTE_DIFF_THRESHOLD}: ', perc_error_large)\n",
    "        print(f'Total valid pixels : {total_mask.sum()}')\n",
    "        if bad_pixels_mask.sum():\n",
    "            print(f'Mean absolute error (MAE) of bad pixels: {np.nanmean(np.abs(X_new_data - X_golden_data)[bad_pixels_mask])}')\n",
    "\n",
    "        print(f'The origin of the new dataset is: ', trans_new.c, trans_new.f)\n",
    "        print(f'The origin of the g(old)en dataset is: ', trans_golden.c, trans_golden.f)\n",
    "        print('\\n')"
   ]
  },
  {
   "cell_type": "code",
   "execution_count": null,
   "id": "9888a816-3b30-4627-b045-47e1424d47bd",
   "metadata": {},
   "outputs": [],
   "source": []
  },
  {
   "cell_type": "code",
   "execution_count": null,
   "id": "7033ff09-bff9-4d01-9762-8952337c6c57",
   "metadata": {},
   "outputs": [],
   "source": []
  }
 ],
 "metadata": {
  "kernelspec": {
   "display_name": "topsapp_env",
   "language": "python",
   "name": "topsapp_env"
  },
  "language_info": {
   "codemirror_mode": {
    "name": "ipython",
    "version": 3
   },
   "file_extension": ".py",
   "mimetype": "text/x-python",
   "name": "python",
   "nbconvert_exporter": "python",
   "pygments_lexer": "ipython3",
   "version": "3.11.13"
  }
 },
 "nbformat": 4,
 "nbformat_minor": 5
}
