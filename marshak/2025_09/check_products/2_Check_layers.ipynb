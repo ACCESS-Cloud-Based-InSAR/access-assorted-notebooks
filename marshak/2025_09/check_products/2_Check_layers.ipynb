{
 "cells": [
  {
   "cell_type": "markdown",
   "id": "61a00ffa-f4e3-4b52-bff9-446ce8b27ed0",
   "metadata": {},
   "source": [
    "Please use the same environment installed "
   ]
  },
  {
   "cell_type": "code",
   "execution_count": 1,
   "id": "cae7b71b",
   "metadata": {
    "ExecuteTime": {
     "end_time": "2023-02-15T02:24:02.635805Z",
     "start_time": "2023-02-15T02:24:02.633163Z"
    }
   },
   "outputs": [
    {
     "name": "stderr",
     "output_type": "stream",
     "text": [
      "/Users/cmarshak/miniforge3/envs/topsapp_env/lib/python3.11/site-packages/scipy/__init__.py:155: UserWarning: A NumPy version >=1.18.5 and <1.26.0 is required for this version of SciPy (detected version 1.26.4\n",
      "  warnings.warn(f\"A NumPy version >={np_minversion} and <{np_maxversion}\"\n"
     ]
    }
   ],
   "source": [
    "from pathlib import Path\n",
    "from rio_tools import get_geopandas_features_from_array\n",
    "import geopandas as gpd\n",
    "import rasterio\n",
    "import numpy as np\n",
    "import pandas as pd\n",
    "import matplotlib.pyplot as plt\n",
    "import rioxarray as rxr\n",
    "import xarray as xr"
   ]
  },
  {
   "cell_type": "code",
   "execution_count": 12,
   "id": "36d80685-e301-41ed-aa79-a9344edff5a2",
   "metadata": {},
   "outputs": [],
   "source": [
    "INDEX_TO_CHECK = 0"
   ]
  },
  {
   "cell_type": "code",
   "execution_count": 13,
   "id": "db16ff3f",
   "metadata": {
    "ExecuteTime": {
     "end_time": "2023-02-15T02:24:27.150701Z",
     "start_time": "2023-02-15T02:24:27.144390Z"
    }
   },
   "outputs": [
    {
     "data": {
      "text/plain": [
       "[PosixPath('new_products/S1-GUNW-A-R-064-tops-20240220_20240127-015044-00119W_00033N-PP-4f28-v3_0_1.nc'),\n",
       " PosixPath('new_products/S1-GUNW-A-R-064-tops-20240220_20240208-015044-00119W_00033N-PP-e9c9-v3_0_1.nc')]"
      ]
     },
     "execution_count": 13,
     "metadata": {},
     "output_type": "execute_result"
    }
   ],
   "source": [
    "nc_paths_new = sorted(list(Path('new_products/').glob('*.nc')))\n",
    "nc_paths_new"
   ]
  },
  {
   "cell_type": "code",
   "execution_count": 14,
   "id": "9f79cdd7-9f16-4d7a-bd69-d7058d013250",
   "metadata": {},
   "outputs": [
    {
     "data": {
      "text/plain": [
       "[PosixPath('existing_products/S1-GUNW-A-R-064-tops-20240115_20240103-015044-00119W_00033N-PP-9902-v3_0_1.nc'),\n",
       " PosixPath('existing_products/S1-GUNW-A-R-064-tops-20240208_20240103-015044-00119W_00033N-PP-629e-v3_0_1.nc'),\n",
       " PosixPath('existing_products/S1-GUNW-A-R-064-tops-20240208_20240115-015044-00119W_00033N-PP-8b54-v3_0_1.nc'),\n",
       " PosixPath('existing_products/S1-GUNW-A-R-064-tops-20240220_20240115-015044-00119W_00033N-PP-60cc-v3_0_1.nc'),\n",
       " PosixPath('existing_products/S1-GUNW-A-R-064-tops-20240220_20240127-015044-00119W_00033N-PP-4f28-v3_0_1.nc'),\n",
       " PosixPath('existing_products/S1-GUNW-A-R-064-tops-20240220_20240208-015044-00119W_00033N-PP-e9c9-v3_0_1.nc')]"
      ]
     },
     "execution_count": 14,
     "metadata": {},
     "output_type": "execute_result"
    }
   ],
   "source": [
    "nc_paths_old = sorted(list(Path('existing_products/').glob('*.nc')))\n",
    "nc_paths_old"
   ]
  },
  {
   "cell_type": "code",
   "execution_count": 15,
   "id": "4b61d01e-27d5-4267-9cb7-9400a0d896e6",
   "metadata": {},
   "outputs": [
    {
     "data": {
      "text/plain": [
       "PosixPath('new_products/S1-GUNW-A-R-064-tops-20240220_20240127-015044-00119W_00033N-PP-4f28-v3_0_1.nc')"
      ]
     },
     "execution_count": 15,
     "metadata": {},
     "output_type": "execute_result"
    }
   ],
   "source": [
    "new_prod = nc_paths_new[INDEX_TO_CHECK]\n",
    "new_prod"
   ]
  },
  {
   "cell_type": "code",
   "execution_count": 16,
   "id": "739e298c-cbd1-43b0-a41e-4d5b2ecd2440",
   "metadata": {},
   "outputs": [
    {
     "data": {
      "text/plain": [
       "38"
      ]
     },
     "execution_count": 16,
     "metadata": {},
     "output_type": "execute_result"
    }
   ],
   "source": [
    "len('S1-GUNW-A-R-064-tops-20240220_20240127')"
   ]
  },
  {
   "cell_type": "code",
   "execution_count": 17,
   "id": "3a85ba50",
   "metadata": {
    "ExecuteTime": {
     "end_time": "2023-02-15T02:24:27.347801Z",
     "start_time": "2023-02-15T02:24:27.344428Z"
    }
   },
   "outputs": [
    {
     "data": {
      "text/plain": [
       "PosixPath('existing_products/S1-GUNW-A-R-064-tops-20240220_20240127-015044-00119W_00033N-PP-4f28-v3_0_1.nc')"
      ]
     },
     "execution_count": 17,
     "metadata": {},
     "output_type": "execute_result"
    }
   ],
   "source": [
    "old_prods = sorted(list(Path('existing_products/').glob(f'{new_prod.name[:38]}*.nc')))\n",
    "assert len(old_prods) == 1\n",
    "old_prod = old_prods[0]\n",
    "old_prod"
   ]
  },
  {
   "cell_type": "code",
   "execution_count": 18,
   "id": "b8c41a06",
   "metadata": {},
   "outputs": [
    {
     "name": "stdout",
     "output_type": "stream",
     "text": [
      "| 1.00, 0.00, 0.00|\n",
      "| 0.00, 1.00, 0.00|\n",
      "| 0.00, 0.00, 1.00|\n"
     ]
    },
    {
     "data": {
      "text/plain": [
       "['netcdf:new_products/S1-GUNW-A-R-064-tops-20240220_20240127-015044-00119W_00033N-PP-4f28-v3_0_1.nc:/science/grids/corrections/derived/ionosphere/ionosphere',\n",
       " 'netcdf:new_products/S1-GUNW-A-R-064-tops-20240220_20240127-015044-00119W_00033N-PP-4f28-v3_0_1.nc:/science/grids/corrections/derived/ionosphereBurstRamps/ionosphereBurstRamps']"
      ]
     },
     "execution_count": 18,
     "metadata": {},
     "output_type": "execute_result"
    }
   ],
   "source": [
    "with rasterio.open(f'{str(new_prod)}') as ds:\n",
    "    subdatasets = ds.subdatasets\n",
    "    print(ds.transform)\n",
    "subdatasets = sorted([sd for sd in subdatasets if 'productBoundingBox' not in sd])\n",
    "subdatasets[:2]"
   ]
  },
  {
   "cell_type": "code",
   "execution_count": 19,
   "id": "11199a17-3c7c-4214-a940-c0fd2e3ed9a7",
   "metadata": {},
   "outputs": [
    {
     "data": {
      "text/plain": [
       "['/science/grids/corrections/derived/ionosphere/ionosphere',\n",
       " '/science/grids/corrections/derived/ionosphereBurstRamps/ionosphereBurstRamps']"
      ]
     },
     "execution_count": 19,
     "metadata": {},
     "output_type": "execute_result"
    }
   ],
   "source": [
    "local_vars = [sd.split(':')[-1] for sd in subdatasets]\n",
    "local_vars[:2]"
   ]
  },
  {
   "cell_type": "code",
   "execution_count": 21,
   "id": "8a65f8a8-2d1d-41d8-976a-655204c52b46",
   "metadata": {},
   "outputs": [
    {
     "name": "stdout",
     "output_type": "stream",
     "text": [
      "##########\n",
      "/science/grids/corrections/derived/ionosphere/ionosphere\n",
      "##########\n",
      "The variable /science/grids/corrections/derived/ionosphere/ionosphere has RMS error:  3.6565418\n",
      "The origin of the new dataset is:  -119.024167057 34.889267111\n",
      "The origin of the g(old)en dataset is:  -119.024167057 34.889267111\n",
      "\n",
      "\n",
      "##########\n",
      "/science/grids/corrections/derived/ionosphereBurstRamps/ionosphereBurstRamps\n",
      "##########\n",
      "The variable /science/grids/corrections/derived/ionosphereBurstRamps/ionosphereBurstRamps has RMS error:  2.2352712\n",
      "The origin of the new dataset is:  -119.024167057 34.889267111\n",
      "The origin of the g(old)en dataset is:  -119.024167057 34.889267111\n",
      "\n",
      "\n",
      "##########\n",
      "/science/grids/corrections/external/tides/solidEarth/reference/solidEarthTide\n",
      "##########\n",
      "The variable /science/grids/corrections/external/tides/solidEarth/reference/solidEarthTide has RMS error:  0.0\n",
      "The origin of the new dataset is:  -119.25 35.35\n",
      "The origin of the g(old)en dataset is:  -119.25 35.35\n",
      "\n",
      "\n",
      "##########\n",
      "/science/grids/corrections/external/tides/solidEarth/secondary/solidEarthTide\n",
      "##########\n",
      "The variable /science/grids/corrections/external/tides/solidEarth/secondary/solidEarthTide has RMS error:  0.0\n",
      "The origin of the new dataset is:  -119.25 35.35\n",
      "The origin of the g(old)en dataset is:  -119.25 35.35\n",
      "\n",
      "\n",
      "##########\n",
      "/science/grids/corrections/external/troposphere/HRRR/reference/troposphereHydrostatic\n",
      "##########\n",
      "The variable /science/grids/corrections/external/troposphere/HRRR/reference/troposphereHydrostatic has RMS error:  0.0\n",
      "The origin of the new dataset is:  -119.12500000000001 34.975000772720726\n",
      "The origin of the g(old)en dataset is:  -119.12500000000001 34.975000772720726\n",
      "\n",
      "\n",
      "##########\n",
      "/science/grids/corrections/external/troposphere/HRRR/reference/troposphereWet\n",
      "##########\n",
      "The variable /science/grids/corrections/external/troposphere/HRRR/reference/troposphereWet has RMS error:  0.0\n",
      "The origin of the new dataset is:  -119.12500000000001 34.975000772720726\n",
      "The origin of the g(old)en dataset is:  -119.12500000000001 34.975000772720726\n",
      "\n",
      "\n",
      "##########\n",
      "/science/grids/corrections/external/troposphere/HRRR/secondary/troposphereHydrostatic\n",
      "##########\n",
      "The variable /science/grids/corrections/external/troposphere/HRRR/secondary/troposphereHydrostatic has RMS error:  0.0\n",
      "The origin of the new dataset is:  -119.12500000000001 34.975000772720726\n",
      "The origin of the g(old)en dataset is:  -119.12500000000001 34.975000772720726\n",
      "\n",
      "\n",
      "##########\n",
      "/science/grids/corrections/external/troposphere/HRRR/secondary/troposphereWet\n",
      "##########\n",
      "The variable /science/grids/corrections/external/troposphere/HRRR/secondary/troposphereWet has RMS error:  9.536743e-07\n",
      "The origin of the new dataset is:  -119.12500000000001 34.975000772720726\n",
      "The origin of the g(old)en dataset is:  -119.12500000000001 34.975000772720726\n",
      "\n",
      "\n",
      "##########\n",
      "/science/grids/data/amplitude\n",
      "##########\n",
      "The variable /science/grids/data/amplitude has RMS error:  63.894825\n",
      "The origin of the new dataset is:  -119.024167057 34.889267111\n",
      "The origin of the g(old)en dataset is:  -119.024167057 34.889267111\n",
      "\n",
      "\n",
      "##########\n",
      "/science/grids/data/coherence\n",
      "##########\n",
      "The variable /science/grids/data/coherence has RMS error:  0.074583285\n",
      "The origin of the new dataset is:  -119.024167057 34.889267111\n",
      "The origin of the g(old)en dataset is:  -119.024167057 34.889267111\n",
      "\n",
      "\n",
      "##########\n",
      "/science/grids/data/connectedComponents\n",
      "##########\n",
      "The variable /science/grids/data/connectedComponents has RMS error:  113.06193\n",
      "The origin of the new dataset is:  -119.024167057 34.889267111\n",
      "The origin of the g(old)en dataset is:  -119.024167057 34.889267111\n",
      "\n",
      "\n",
      "##########\n",
      "/science/grids/data/unfilteredCoherence\n",
      "##########\n",
      "The variable /science/grids/data/unfilteredCoherence has RMS error:  2.9005714e-05\n",
      "The origin of the new dataset is:  -119.024167057 34.889267111\n",
      "The origin of the g(old)en dataset is:  -119.024167057 34.889267111\n",
      "\n",
      "\n",
      "##########\n",
      "/science/grids/data/unwrappedPhase\n",
      "##########\n",
      "The variable /science/grids/data/unwrappedPhase has RMS error:  182.5371\n",
      "The origin of the new dataset is:  -119.024167057 34.889267111\n",
      "The origin of the g(old)en dataset is:  -119.024167057 34.889267111\n",
      "\n",
      "\n",
      "##########\n",
      "/science/grids/imagingGeometry/azimuthAngle\n",
      "##########\n",
      "The variable /science/grids/imagingGeometry/azimuthAngle has RMS error:  0.0\n",
      "The origin of the new dataset is:  -119.25 35.35\n",
      "The origin of the g(old)en dataset is:  -119.25 35.35\n",
      "\n",
      "\n",
      "##########\n",
      "/science/grids/imagingGeometry/incidenceAngle\n",
      "##########\n",
      "The variable /science/grids/imagingGeometry/incidenceAngle has RMS error:  0.0\n",
      "The origin of the new dataset is:  -119.25 35.35\n",
      "The origin of the g(old)en dataset is:  -119.25 35.35\n",
      "\n",
      "\n",
      "##########\n",
      "/science/grids/imagingGeometry/lookAngle\n",
      "##########\n",
      "The variable /science/grids/imagingGeometry/lookAngle has RMS error:  0.0\n",
      "The origin of the new dataset is:  -119.25 35.35\n",
      "The origin of the g(old)en dataset is:  -119.25 35.35\n",
      "\n",
      "\n",
      "##########\n",
      "/science/grids/imagingGeometry/parallelBaseline\n",
      "##########\n",
      "The variable /science/grids/imagingGeometry/parallelBaseline has RMS error:  0.0\n",
      "The origin of the new dataset is:  -119.25 35.35\n",
      "The origin of the g(old)en dataset is:  -119.25 35.35\n",
      "\n",
      "\n",
      "##########\n",
      "/science/grids/imagingGeometry/perpendicularBaseline\n",
      "##########\n",
      "The variable /science/grids/imagingGeometry/perpendicularBaseline has RMS error:  0.0\n",
      "The origin of the new dataset is:  -119.25 35.35\n",
      "The origin of the g(old)en dataset is:  -119.25 35.35\n",
      "\n",
      "\n"
     ]
    }
   ],
   "source": [
    "for golden_path, local_var in zip(subdatasets, local_vars):\n",
    "    print('#'*10)\n",
    "    print(local_var)\n",
    "    print('#'*10)\n",
    "    with rasterio.open(f'netcdf:{str(old_prod)}:{local_var[1:]}') as ds:\n",
    "        X_golden = ds.read()\n",
    "        trans_golden = ds.transform\n",
    "    with rasterio.open(f'netcdf:{str(new_prod)}:{local_var[1:]}') as ds:\n",
    "        X_new = ds.read()\n",
    "        trans_new = ds.transform\n",
    "\n",
    "    if local_var == '/science/grids/corrections/derived/ionosphere/ionosphere':\n",
    "        iono_new = X_new\n",
    "        iono_old = X_golden\n",
    "        \n",
    "\n",
    "    X_new_data = X_new.ravel()\n",
    "    X_golden_data = X_golden.ravel()\n",
    "    if X_new.dtype in [np.float32, np.float64]:\n",
    "        X_new_data = X_new[~np.isnan(X_new)]\n",
    "        X_golden_data = X_golden[~np.isnan(X_golden)]\n",
    "\n",
    "    print(f'The variable {local_var} has RMS error: ', np.linalg.norm(X_new_data - X_golden_data))\n",
    "    print(f'The origin of the new dataset is: ', trans_new.c, trans_new.f)\n",
    "    print(f'The origin of the g(old)en dataset is: ', trans_golden.c, trans_golden.f)\n",
    "    print('\\n')"
   ]
  }
 ],
 "metadata": {
  "kernelspec": {
   "display_name": "topsapp_env",
   "language": "python",
   "name": "topsapp_env"
  },
  "language_info": {
   "codemirror_mode": {
    "name": "ipython",
    "version": 3
   },
   "file_extension": ".py",
   "mimetype": "text/x-python",
   "name": "python",
   "nbconvert_exporter": "python",
   "pygments_lexer": "ipython3",
   "version": "3.11.13"
  }
 },
 "nbformat": 4,
 "nbformat_minor": 5
}
