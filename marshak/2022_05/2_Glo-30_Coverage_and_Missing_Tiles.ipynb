{
 "cells": [
  {
   "cell_type": "code",
   "execution_count": 1,
   "id": "infrared-clear",
   "metadata": {
    "ExecuteTime": {
     "end_time": "2022-06-15T18:10:32.441190Z",
     "start_time": "2022-06-15T18:10:30.611323Z"
    }
   },
   "outputs": [],
   "source": [
    "from dem_stitcher.datasets import get_dem_tile_extents\n",
    "import matplotlib.pyplot as plt"
   ]
  },
  {
   "cell_type": "code",
   "execution_count": 2,
   "id": "distributed-cincinnati",
   "metadata": {
    "ExecuteTime": {
     "end_time": "2022-06-15T18:10:33.146690Z",
     "start_time": "2022-06-15T18:10:32.443286Z"
    }
   },
   "outputs": [
    {
     "data": {
      "text/html": [
       "<div>\n",
       "<style scoped>\n",
       "    .dataframe tbody tr th:only-of-type {\n",
       "        vertical-align: middle;\n",
       "    }\n",
       "\n",
       "    .dataframe tbody tr th {\n",
       "        vertical-align: top;\n",
       "    }\n",
       "\n",
       "    .dataframe thead th {\n",
       "        text-align: right;\n",
       "    }\n",
       "</style>\n",
       "<table border=\"1\" class=\"dataframe\">\n",
       "  <thead>\n",
       "    <tr style=\"text-align: right;\">\n",
       "      <th></th>\n",
       "      <th>geometry</th>\n",
       "      <th>tile_id</th>\n",
       "      <th>url</th>\n",
       "      <th>dem_name</th>\n",
       "    </tr>\n",
       "  </thead>\n",
       "  <tbody>\n",
       "    <tr>\n",
       "      <th>0</th>\n",
       "      <td>POLYGON ((7.00000 0.00000, 7.00000 1.00000, 6....</td>\n",
       "      <td>Copernicus_DSM_COG_10_N00_00_E006_00_DEM</td>\n",
       "      <td>https://copernicus-dem-30m.s3.amazonaws.com/20...</td>\n",
       "      <td>glo_30</td>\n",
       "    </tr>\n",
       "    <tr>\n",
       "      <th>1</th>\n",
       "      <td>POLYGON ((10.00000 0.00000, 10.00000 1.00000, ...</td>\n",
       "      <td>Copernicus_DSM_COG_10_N00_00_E009_00_DEM</td>\n",
       "      <td>https://copernicus-dem-30m.s3.amazonaws.com/20...</td>\n",
       "      <td>glo_30</td>\n",
       "    </tr>\n",
       "    <tr>\n",
       "      <th>2</th>\n",
       "      <td>POLYGON ((11.00000 0.00000, 11.00000 1.00000, ...</td>\n",
       "      <td>Copernicus_DSM_COG_10_N00_00_E010_00_DEM</td>\n",
       "      <td>https://copernicus-dem-30m.s3.amazonaws.com/20...</td>\n",
       "      <td>glo_30</td>\n",
       "    </tr>\n",
       "    <tr>\n",
       "      <th>3</th>\n",
       "      <td>POLYGON ((12.00000 0.00000, 12.00000 1.00000, ...</td>\n",
       "      <td>Copernicus_DSM_COG_10_N00_00_E011_00_DEM</td>\n",
       "      <td>https://copernicus-dem-30m.s3.amazonaws.com/20...</td>\n",
       "      <td>glo_30</td>\n",
       "    </tr>\n",
       "    <tr>\n",
       "      <th>4</th>\n",
       "      <td>POLYGON ((13.00000 0.00000, 13.00000 1.00000, ...</td>\n",
       "      <td>Copernicus_DSM_COG_10_N00_00_E012_00_DEM</td>\n",
       "      <td>https://copernicus-dem-30m.s3.amazonaws.com/20...</td>\n",
       "      <td>glo_30</td>\n",
       "    </tr>\n",
       "  </tbody>\n",
       "</table>\n",
       "</div>"
      ],
      "text/plain": [
       "                                            geometry  \\\n",
       "0  POLYGON ((7.00000 0.00000, 7.00000 1.00000, 6....   \n",
       "1  POLYGON ((10.00000 0.00000, 10.00000 1.00000, ...   \n",
       "2  POLYGON ((11.00000 0.00000, 11.00000 1.00000, ...   \n",
       "3  POLYGON ((12.00000 0.00000, 12.00000 1.00000, ...   \n",
       "4  POLYGON ((13.00000 0.00000, 13.00000 1.00000, ...   \n",
       "\n",
       "                                    tile_id  \\\n",
       "0  Copernicus_DSM_COG_10_N00_00_E006_00_DEM   \n",
       "1  Copernicus_DSM_COG_10_N00_00_E009_00_DEM   \n",
       "2  Copernicus_DSM_COG_10_N00_00_E010_00_DEM   \n",
       "3  Copernicus_DSM_COG_10_N00_00_E011_00_DEM   \n",
       "4  Copernicus_DSM_COG_10_N00_00_E012_00_DEM   \n",
       "\n",
       "                                                 url dem_name  \n",
       "0  https://copernicus-dem-30m.s3.amazonaws.com/20...   glo_30  \n",
       "1  https://copernicus-dem-30m.s3.amazonaws.com/20...   glo_30  \n",
       "2  https://copernicus-dem-30m.s3.amazonaws.com/20...   glo_30  \n",
       "3  https://copernicus-dem-30m.s3.amazonaws.com/20...   glo_30  \n",
       "4  https://copernicus-dem-30m.s3.amazonaws.com/20...   glo_30  "
      ]
     },
     "execution_count": 2,
     "metadata": {},
     "output_type": "execute_result"
    }
   ],
   "source": [
    "df_tiles = get_dem_tile_extents('glo_30')\n",
    "df_tiles.head()"
   ]
  },
  {
   "cell_type": "code",
   "execution_count": 3,
   "id": "organized-vaccine",
   "metadata": {
    "ExecuteTime": {
     "end_time": "2022-06-15T18:10:34.731257Z",
     "start_time": "2022-06-15T18:10:33.148764Z"
    }
   },
   "outputs": [
    {
     "data": {
      "text/plain": [
       "<AxesSubplot:>"
      ]
     },
     "execution_count": 3,
     "metadata": {},
     "output_type": "execute_result"
    },
    {
     "data": {
      "image/png": "[encoded data removed]",
      "text/plain": [
       "<Figure size 432x288 with 1 Axes>"
      ]
     },
     "metadata": {
      "needs_background": "light"
     },
     "output_type": "display_data"
    }
   ],
   "source": [
    "df_tiles.exterior.plot()"
   ]
  },
  {
   "cell_type": "code",
   "execution_count": 4,
   "id": "d89ff93a",
   "metadata": {
    "ExecuteTime": {
     "end_time": "2022-06-15T18:10:34.769021Z",
     "start_time": "2022-06-15T18:10:34.733014Z"
    }
   },
   "outputs": [
    {
     "data": {
      "text/html": [
       "<div>\n",
       "<style scoped>\n",
       "    .dataframe tbody tr th:only-of-type {\n",
       "        vertical-align: middle;\n",
       "    }\n",
       "\n",
       "    .dataframe tbody tr th {\n",
       "        vertical-align: top;\n",
       "    }\n",
       "\n",
       "    .dataframe thead th {\n",
       "        text-align: right;\n",
       "    }\n",
       "</style>\n",
       "<table border=\"1\" class=\"dataframe\">\n",
       "  <thead>\n",
       "    <tr style=\"text-align: right;\">\n",
       "      <th></th>\n",
       "      <th>geometry</th>\n",
       "      <th>tile_id</th>\n",
       "      <th>url</th>\n",
       "      <th>dem_name</th>\n",
       "    </tr>\n",
       "  </thead>\n",
       "  <tbody>\n",
       "    <tr>\n",
       "      <th>0</th>\n",
       "      <td>POLYGON ((46.00000 38.00000, 46.00000 39.00000...</td>\n",
       "      <td>Copernicus_DSM_COG_30_N38_00_E045_00_DEM</td>\n",
       "      <td>https://copernicus-dem-90m.s3.amazonaws.com/20...</td>\n",
       "      <td>glo_90_missing</td>\n",
       "    </tr>\n",
       "    <tr>\n",
       "      <th>1</th>\n",
       "      <td>POLYGON ((47.00000 38.00000, 47.00000 39.00000...</td>\n",
       "      <td>Copernicus_DSM_COG_30_N38_00_E046_00_DEM</td>\n",
       "      <td>https://copernicus-dem-90m.s3.amazonaws.com/20...</td>\n",
       "      <td>glo_90_missing</td>\n",
       "    </tr>\n",
       "    <tr>\n",
       "      <th>2</th>\n",
       "      <td>POLYGON ((49.00000 38.00000, 49.00000 39.00000...</td>\n",
       "      <td>Copernicus_DSM_COG_30_N38_00_E048_00_DEM</td>\n",
       "      <td>https://copernicus-dem-90m.s3.amazonaws.com/20...</td>\n",
       "      <td>glo_90_missing</td>\n",
       "    </tr>\n",
       "    <tr>\n",
       "      <th>3</th>\n",
       "      <td>POLYGON ((50.00000 38.00000, 50.00000 39.00000...</td>\n",
       "      <td>Copernicus_DSM_COG_30_N38_00_E049_00_DEM</td>\n",
       "      <td>https://copernicus-dem-90m.s3.amazonaws.com/20...</td>\n",
       "      <td>glo_90_missing</td>\n",
       "    </tr>\n",
       "    <tr>\n",
       "      <th>4</th>\n",
       "      <td>POLYGON ((45.00000 39.00000, 45.00000 40.00000...</td>\n",
       "      <td>Copernicus_DSM_COG_30_N39_00_E044_00_DEM</td>\n",
       "      <td>https://copernicus-dem-90m.s3.amazonaws.com/20...</td>\n",
       "      <td>glo_90_missing</td>\n",
       "    </tr>\n",
       "  </tbody>\n",
       "</table>\n",
       "</div>"
      ],
      "text/plain": [
       "                                            geometry  \\\n",
       "0  POLYGON ((46.00000 38.00000, 46.00000 39.00000...   \n",
       "1  POLYGON ((47.00000 38.00000, 47.00000 39.00000...   \n",
       "2  POLYGON ((49.00000 38.00000, 49.00000 39.00000...   \n",
       "3  POLYGON ((50.00000 38.00000, 50.00000 39.00000...   \n",
       "4  POLYGON ((45.00000 39.00000, 45.00000 40.00000...   \n",
       "\n",
       "                                    tile_id  \\\n",
       "0  Copernicus_DSM_COG_30_N38_00_E045_00_DEM   \n",
       "1  Copernicus_DSM_COG_30_N38_00_E046_00_DEM   \n",
       "2  Copernicus_DSM_COG_30_N38_00_E048_00_DEM   \n",
       "3  Copernicus_DSM_COG_30_N38_00_E049_00_DEM   \n",
       "4  Copernicus_DSM_COG_30_N39_00_E044_00_DEM   \n",
       "\n",
       "                                                 url        dem_name  \n",
       "0  https://copernicus-dem-90m.s3.amazonaws.com/20...  glo_90_missing  \n",
       "1  https://copernicus-dem-90m.s3.amazonaws.com/20...  glo_90_missing  \n",
       "2  https://copernicus-dem-90m.s3.amazonaws.com/20...  glo_90_missing  \n",
       "3  https://copernicus-dem-90m.s3.amazonaws.com/20...  glo_90_missing  \n",
       "4  https://copernicus-dem-90m.s3.amazonaws.com/20...  glo_90_missing  "
      ]
     },
     "execution_count": 4,
     "metadata": {},
     "output_type": "execute_result"
    }
   ],
   "source": [
    "df_tiles_missing = get_dem_tile_extents('glo_90_missing')\n",
    "df_tiles_missing.head()"
   ]
  },
  {
   "cell_type": "code",
   "execution_count": 8,
   "id": "ad110147",
   "metadata": {
    "ExecuteTime": {
     "end_time": "2022-06-15T18:11:25.617207Z",
     "start_time": "2022-06-15T18:11:23.990611Z"
    }
   },
   "outputs": [
    {
     "data": {
      "text/plain": [
       "(38.0, 56.0)"
      ]
     },
     "execution_count": 8,
     "metadata": {},
     "output_type": "execute_result"
    },
    {
     "data": {
      "image/png": "[encoded data removed]",
      "text/plain": [
       "<Figure size 432x288 with 1 Axes>"
      ]
     },
     "metadata": {
      "needs_background": "light"
     },
     "output_type": "display_data"
    }
   ],
   "source": [
    "fig, ax = plt.subplots()\n",
    "xmin, ymin, xmax, ymax = df_tiles_missing.total_bounds\n",
    "\n",
    "df_tiles.boundary.plot(ax= ax, color='blue', alpha=.5)\n",
    "df_tiles_missing.boundary.plot(ax=ax, color='yellow', alpha=.5)\n",
    "ax.set_ylim(ymin-5, ymax+5)\n",
    "ax.set_xlim(xmin-5, xmax+5)"
   ]
  }
 ],
 "metadata": {
  "kernelspec": {
   "display_name": "Python 3",
   "language": "python",
   "name": "python3"
  },
  "language_info": {
   "codemirror_mode": {
    "name": "ipython",
    "version": 3
   },
   "file_extension": ".py",
   "mimetype": "text/x-python",
   "name": "python",
   "nbconvert_exporter": "python",
   "pygments_lexer": "ipython3",
   "version": "3.8.5"
  }
 },
 "nbformat": 4,
 "nbformat_minor": 5
}
