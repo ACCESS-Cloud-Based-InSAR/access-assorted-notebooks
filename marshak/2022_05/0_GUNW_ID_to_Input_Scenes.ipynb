{
 "cells": [
  {
   "cell_type": "markdown",
   "id": "greater-carter",
   "metadata": {},
   "source": [
    "This code is mostly from Andrew Johnston, shared across our organization's slack."
   ]
  },
  {
   "cell_type": "code",
   "execution_count": 2,
   "id": "valued-disposition",
   "metadata": {
    "ExecuteTime": {
     "end_time": "2023-02-02T17:56:47.436920Z",
     "start_time": "2023-02-02T17:56:43.053620Z"
    }
   },
   "outputs": [],
   "source": [
    "import folium.plugins\n",
    "import requests\n",
    "from shapely.geometry import Polygon\n",
    "import pandas as pd\n",
    "import geopandas as gpd\n",
    "from rasterio.crs import CRS\n",
    "import matplotlib.pyplot as plt\n",
    "import numpy as np\n",
    "import matplotlib"
   ]
  },
  {
   "cell_type": "markdown",
   "id": "running-minutes",
   "metadata": {},
   "source": [
    "# Get the data\n",
    "\n",
    "The hard part is getting the data. Lots of nuance that was figured out by Andrew Johnston. Uses CMR directly."
   ]
  },
  {
   "cell_type": "code",
   "execution_count": 3,
   "id": "established-summary",
   "metadata": {
    "ExecuteTime": {
     "end_time": "2023-02-02T17:56:47.445610Z",
     "start_time": "2023-02-02T17:56:47.439193Z"
    }
   },
   "outputs": [],
   "source": [
    "import json\n",
    "import xml.etree.ElementTree as ET\n",
    "\n",
    "import requests\n",
    "\n",
    "COLLECTION_CONCEPT_ID = 'C1595422627-ASF'\n",
    "CMR_URL = 'https://cmr.earthdata.nasa.gov/search/granules.echo10'\n",
    "\n",
    "def parse_echo10(echo10_xml: str):\n",
    "    granules = []\n",
    "    root = ET.fromstring(echo10_xml)\n",
    "    for granule in root.findall('result/Granule'):\n",
    "        g = {\n",
    "            'product_id': granule.find('GranuleUR').text,\n",
    "            'product_version': granule.find('GranuleUR').text.split('-')[-1],\n",
    "            'reference_scenes': [],\n",
    "            'secondary_scenes': []\n",
    "        }\n",
    "        for input_granule in granule.findall('InputGranules/InputGranule'):\n",
    "            input_granule_type, input_granule_name = input_granule.text.split(' ')\n",
    "            if input_granule_type == '[Reference]':\n",
    "                g['reference_scenes'].append(input_granule_name)\n",
    "            else:\n",
    "                g['secondary_scenes'].append(input_granule_name)\n",
    "        granules.append(g)\n",
    "    return granules\n",
    "\n",
    "\n",
    "def get_ref_secondary_scene(gunw_id: str):\n",
    "    session = requests.Session()\n",
    "    search_params = {\n",
    "        'provider': 'ASF',\n",
    "        'collection_concept_id': COLLECTION_CONCEPT_ID,\n",
    "        'page_size': 2000,\n",
    "        'readable_granule_name': gunw_id\n",
    "    }\n",
    "    headers = {}\n",
    "    products = []\n",
    "\n",
    "    while True:\n",
    "        response = session.get(CMR_URL, params=search_params, headers=headers)\n",
    "        response.raise_for_status()\n",
    "\n",
    "        parsed_results = parse_echo10(response.text)\n",
    "        products.extend(parsed_results)\n",
    "\n",
    "        if 'CMR-Search-After' not in response.headers:\n",
    "            break\n",
    "        headers = {'CMR-Search-After': response.headers['CMR-Search-After']}\n",
    "\n",
    "    return products"
   ]
  },
  {
   "cell_type": "code",
   "execution_count": 3,
   "id": "awful-extreme",
   "metadata": {
    "ExecuteTime": {
     "end_time": "2022-05-31T23:01:23.143585Z",
     "start_time": "2022-05-31T23:01:22.606732Z"
    }
   },
   "outputs": [
    {
     "name": "stdout",
     "output_type": "stream",
     "text": [
      "California S1-GUNW-D-R-115-tops-20220504_20220422-141610-00124W_00038N-PP-0442-v2_0_5\n"
     ]
    },
    {
     "data": {
      "text/plain": [
       "[{'product_id': 'S1-GUNW-D-R-115-tops-20220504_20220422-141610-00124W_00038N-PP-0442-v2_0_5',\n",
       "  'product_version': 'v2_0_5',\n",
       "  'reference_scenes': ['S1A_IW_SLC__1SDV_20220504T141557_20220504T141624_043062_05246D_3C67'],\n",
       "  'secondary_scenes': ['S1A_IW_SLC__1SDV_20220422T141557_20220422T141624_042887_051EA4_CD2E']}]"
      ]
     },
     "execution_count": 3,
     "metadata": {},
     "output_type": "execute_result"
    }
   ],
   "source": [
    "gunw_id = 'S1-GUNW-D-R-115-tops-20220504_20220422-141610-00124W_00038N-PP-0442-v2_0_5'\n",
    "print('California', gunw_id)\n",
    "get_ref_secondary_scene(gunw_id)"
   ]
  },
  {
   "cell_type": "code",
   "execution_count": 4,
   "id": "completed-volume",
   "metadata": {
    "ExecuteTime": {
     "end_time": "2022-05-31T23:01:23.549256Z",
     "start_time": "2022-05-31T23:01:23.145388Z"
    }
   },
   "outputs": [
    {
     "name": "stdout",
     "output_type": "stream",
     "text": [
      "Aleutian S1-GUNW-D-R-044-tops-20210925_20200930-172127-00169W_00053N-PP-812d-v2_0_5\n"
     ]
    },
    {
     "data": {
      "text/plain": [
       "[{'product_id': 'S1-GUNW-D-R-044-tops-20210925_20200930-172127-00169W_00053N-PP-812d-v2_0_5',\n",
       "  'product_version': 'v2_0_5',\n",
       "  'reference_scenes': ['S1A_IW_SLC__1SDV_20210925T172118_20210925T172137_039841_04B68A_7D82'],\n",
       "  'secondary_scenes': ['S1A_IW_SLC__1SDV_20200930T172045_20200930T172114_034591_0406F4_8C2F',\n",
       "   'S1A_IW_SLC__1SDV_20200930T172112_20200930T172131_034591_0406F4_17D7']}]"
      ]
     },
     "execution_count": 4,
     "metadata": {},
     "output_type": "execute_result"
    }
   ],
   "source": [
    "gunw_id = 'S1-GUNW-D-R-044-tops-20210925_20200930-172127-00169W_00053N-PP-812d-v2_0_5'\n",
    "print('Aleutian', gunw_id)\n",
    "get_ref_secondary_scene(gunw_id)"
   ]
  },
  {
   "cell_type": "code",
   "execution_count": 5,
   "id": "prescribed-congo",
   "metadata": {
    "ExecuteTime": {
     "end_time": "2022-05-31T23:01:23.951684Z",
     "start_time": "2022-05-31T23:01:23.550748Z"
    }
   },
   "outputs": [
    {
     "name": "stdout",
     "output_type": "stream",
     "text": [
      "La Palma S1-GUNW-D-R-169-tops-20220520_20220508-071114-00020W_00027N-PP-f4ed-v2_0_5\n"
     ]
    },
    {
     "data": {
      "text/plain": [
       "[{'product_id': 'S1-GUNW-D-R-169-tops-20220520_20220508-071114-00020W_00027N-PP-f4ed-v2_0_5',\n",
       "  'product_version': 'v2_0_5',\n",
       "  'reference_scenes': ['S1A_IW_SLC__1SDV_20220520T071101_20220520T071128_043291_052B7B_7B63'],\n",
       "  'secondary_scenes': ['S1A_IW_SLC__1SDV_20220508T071100_20220508T071127_043116_05262A_AA24']}]"
      ]
     },
     "execution_count": 5,
     "metadata": {},
     "output_type": "execute_result"
    }
   ],
   "source": [
    "gunw_id = 'S1-GUNW-D-R-169-tops-20220520_20220508-071114-00020W_00027N-PP-f4ed-v2_0_5'\n",
    "print('La Palma', gunw_id)\n",
    "get_ref_secondary_scene(gunw_id)"
   ]
  },
  {
   "cell_type": "code",
   "execution_count": 6,
   "id": "southwest-snowboard",
   "metadata": {
    "ExecuteTime": {
     "end_time": "2022-05-31T23:01:24.420651Z",
     "start_time": "2022-05-31T23:01:23.953530Z"
    }
   },
   "outputs": [
    {
     "name": "stdout",
     "output_type": "stream",
     "text": [
      "Issue 60 S1-GUNW-A-R-158-tops-20220308_20220224-123254-00080E_00035N-PP-4300-v2_0_5\n"
     ]
    },
    {
     "data": {
      "text/plain": [
       "[{'product_id': 'S1-GUNW-A-R-158-tops-20220308_20220224-123254-00080E_00035N-PP-4300-v2_0_5',\n",
       "  'product_version': 'v2_0_5',\n",
       "  'reference_scenes': ['S1A_IW_SLC__1SDV_20220308T123241_20220308T123307_042230_05086E_4B83'],\n",
       "  'secondary_scenes': ['S1A_IW_SLC__1SDV_20220224T123241_20220224T123308_042055_05027A_A8B5']}]"
      ]
     },
     "execution_count": 6,
     "metadata": {},
     "output_type": "execute_result"
    }
   ],
   "source": [
    "gunw_id = 'S1-GUNW-A-R-158-tops-20220308_20220224-123254-00080E_00035N-PP-4300-v2_0_5'\n",
    "print('Issue 60', gunw_id)\n",
    "get_ref_secondary_scene(gunw_id)"
   ]
  },
  {
   "cell_type": "code",
   "execution_count": 6,
   "id": "c2a6e21a",
   "metadata": {
    "ExecuteTime": {
     "end_time": "2023-02-02T17:57:15.147893Z",
     "start_time": "2023-02-02T17:57:14.613184Z"
    }
   },
   "outputs": [
    {
     "name": "stdout",
     "output_type": "stream",
     "text": [
      "Arabia with Ionosphere S1-GUNW-A-R-043-tops-20221002_20220908-151531-00041E_00027N-PP-e567-v2_0_5\n"
     ]
    },
    {
     "data": {
      "text/plain": [
       "[{'product_id': 'S1-GUNW-A-R-043-tops-20221002_20220908-151531-00041E_00027N-PP-e567-v2_0_5',\n",
       "  'product_version': 'v2_0_5',\n",
       "  'reference_scenes': ['S1A_IW_SLC__1SDV_20221002T151520_20221002T151543_045265_056931_E517'],\n",
       "  'secondary_scenes': ['S1A_IW_SLC__1SDV_20220908T151520_20220908T151542_044915_055D68_78EC']}]"
      ]
     },
     "execution_count": 6,
     "metadata": {},
     "output_type": "execute_result"
    }
   ],
   "source": [
    "gunw_id = 'S1-GUNW-A-R-043-tops-20221002_20220908-151531-00041E_00027N-PP-e567-v2_0_5'\n",
    "print('Arabia with Ionosphere', gunw_id)\n",
    "get_ref_secondary_scene(gunw_id)"
   ]
  },
  {
   "cell_type": "code",
   "execution_count": 8,
   "id": "333e7688",
   "metadata": {
    "ExecuteTime": {
     "end_time": "2023-02-02T18:07:01.304693Z",
     "start_time": "2023-02-02T18:07:00.786832Z"
    }
   },
   "outputs": [
    {
     "name": "stdout",
     "output_type": "stream",
     "text": [
      "Tibet Issues 0 S1-GUNW-A-R-041-tops-20170817_20160717-120015-390925N_37050N-PP-ed21-v2_0_4\n"
     ]
    },
    {
     "data": {
      "text/plain": [
       "[{'product_id': 'S1-GUNW-A-R-041-tops-20170817_20160717-120015-390925N_37050N-PP-ed21-v2_0_4',\n",
       "  'product_version': 'v2_0_4',\n",
       "  'reference_scenes': ['S1A_IW_SLC__1SDV_20170817T120001_20170817T120028_017963_01E230_A23A-local'],\n",
       "  'secondary_scenes': ['S1A_IW_SLC__1SSV_20160717T115946_20160717T120014_012188_012E84_F684-local',\n",
       "   'S1A_IW_SLC__1SSV_20160717T120012_20160717T120039_012188_012E84_4198-local']}]"
      ]
     },
     "execution_count": 8,
     "metadata": {},
     "output_type": "execute_result"
    }
   ],
   "source": [
    "gunw_id = 'S1-GUNW-A-R-041-tops-20170817_20160717-120015-390925N_37050N-PP-ed21-v2_0_4'\n",
    "print('Tibet Issues 0', gunw_id)\n",
    "get_ref_secondary_scene(gunw_id)"
   ]
  },
  {
   "cell_type": "code",
   "execution_count": 12,
   "id": "a70e4c2c",
   "metadata": {
    "ExecuteTime": {
     "end_time": "2023-02-02T18:19:33.439230Z",
     "start_time": "2023-02-02T18:19:32.492259Z"
    }
   },
   "outputs": [
    {
     "name": "stdout",
     "output_type": "stream",
     "text": [
      "Tibet Issues 1 S1-GUNW-A-R-041-tops-20141231_20141207-115927-37270N_35394N-PP-d9a6-v2_0_4\n"
     ]
    },
    {
     "data": {
      "text/plain": [
       "[{'product_id': 'S1-GUNW-A-R-041-tops-20141231_20141207-115927-37270N_35394N-PP-d9a6-v2_0_4',\n",
       "  'product_version': 'v2_0_4',\n",
       "  'reference_scenes': ['S1A_IW_SLC__1SSV_20141231T115913_20141231T115940_003963_004C50_1CEA-local'],\n",
       "  'secondary_scenes': ['S1A_IW_SLC__1SSV_20141207T115849_20141207T115916_003613_00445F_3EA7-local',\n",
       "   'S1A_IW_SLC__1SSV_20141207T115914_20141207T115941_003613_00445F_AF5A-local',\n",
       "   'S1A_IW_SLC__1SSV_20141207T115939_20141207T120007_003613_00445F_BA69-local']}]"
      ]
     },
     "execution_count": 12,
     "metadata": {},
     "output_type": "execute_result"
    }
   ],
   "source": [
    "gunw_id = 'S1-GUNW-A-R-041-tops-20141231_20141207-115927-37270N_35394N-PP-d9a6-v2_0_4'\n",
    "print('Tibet Issues 1', gunw_id)\n",
    "get_ref_secondary_scene(gunw_id)"
   ]
  },
  {
   "cell_type": "code",
   "execution_count": 11,
   "id": "7cf4aa1f",
   "metadata": {
    "ExecuteTime": {
     "end_time": "2023-02-02T18:19:23.340894Z",
     "start_time": "2023-02-02T18:19:22.572543Z"
    }
   },
   "outputs": [
    {
     "name": "stdout",
     "output_type": "stream",
     "text": [
      "Tibet Issues 0 S1-GUNW-A-R-041-tops-20141231_20141207-115952-38760N_36887N-PP-7560-v2_0_1\n"
     ]
    },
    {
     "data": {
      "text/plain": [
       "[{'product_id': 'S1-GUNW-A-R-041-tops-20141231_20141207-115952-38760N_36887N-PP-7560-v2_0_1',\n",
       "  'product_version': 'v2_0_1',\n",
       "  'reference_scenes': ['S1A_IW_SLC__1SSV_20141231T115938_20141231T120006_003963_004C50_DB7D'],\n",
       "  'secondary_scenes': ['S1A_IW_SLC__1SSV_20141207T115914_20141207T115941_003613_00445F_AF5A',\n",
       "   'S1A_IW_SLC__1SSV_20141207T115939_20141207T120007_003613_00445F_BA69',\n",
       "   'S1A_IW_SLC__1SSV_20141207T120005_20141207T120031_003613_00445F_F430']}]"
      ]
     },
     "execution_count": 11,
     "metadata": {},
     "output_type": "execute_result"
    }
   ],
   "source": [
    "gunw_id = 'S1-GUNW-A-R-041-tops-20141231_20141207-115952-38760N_36887N-PP-7560-v2_0_1'\n",
    "print('Tibet Issues OK', gunw_id)\n",
    "get_ref_secondary_scene(gunw_id)"
   ]
  }
 ],
 "metadata": {
  "kernelspec": {
   "display_name": "Python 3 (ipykernel)",
   "language": "python",
   "name": "python3"
  },
  "language_info": {
   "codemirror_mode": {
    "name": "ipython",
    "version": 3
   },
   "file_extension": ".py",
   "mimetype": "text/x-python",
   "name": "python",
   "nbconvert_exporter": "python",
   "pygments_lexer": "ipython3",
   "version": "3.9.15"
  }
 },
 "nbformat": 4,
 "nbformat_minor": 5
}
