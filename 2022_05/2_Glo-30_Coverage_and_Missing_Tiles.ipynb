{
 "cells": [
  {
   "cell_type": "code",
   "execution_count": 1,
   "id": "infrared-clear",
   "metadata": {
    "ExecuteTime": {
     "end_time": "2022-06-01T00:03:51.172174Z",
     "start_time": "2022-06-01T00:03:50.251402Z"
    }
   },
   "outputs": [],
   "source": [
    "from dem_stitcher.datasets import get_dem_tile_extents\n",
    "import rasterio\n",
    "from rasterio.errors import RasterioIOError\n",
    "import concurrent.futures\n",
    "from tqdm import tqdm\n",
    "import geopandas as gpd"
   ]
  },
  {
   "cell_type": "code",
   "execution_count": 2,
   "id": "distributed-cincinnati",
   "metadata": {
    "ExecuteTime": {
     "end_time": "2022-06-01T00:03:52.845582Z",
     "start_time": "2022-06-01T00:03:51.176943Z"
    }
   },
   "outputs": [
    {
     "data": {
      "text/html": [
       "<div>\n",
       "<style scoped>\n",
       "    .dataframe tbody tr th:only-of-type {\n",
       "        vertical-align: middle;\n",
       "    }\n",
       "\n",
       "    .dataframe tbody tr th {\n",
       "        vertical-align: top;\n",
       "    }\n",
       "\n",
       "    .dataframe thead th {\n",
       "        text-align: right;\n",
       "    }\n",
       "</style>\n",
       "<table border=\"1\" class=\"dataframe\">\n",
       "  <thead>\n",
       "    <tr style=\"text-align: right;\">\n",
       "      <th></th>\n",
       "      <th>geometry</th>\n",
       "      <th>tile_id</th>\n",
       "      <th>url</th>\n",
       "      <th>dem_name</th>\n",
       "    </tr>\n",
       "  </thead>\n",
       "  <tbody>\n",
       "    <tr>\n",
       "      <th>0</th>\n",
       "      <td>POLYGON ((-180.001 85.000, -180.001 86.000, -1...</td>\n",
       "      <td>Copernicus_DSM_COG_10_N85_00_W180_00_DEM</td>\n",
       "      <td>https://copernicus-dem-30m.s3.amazonaws.com/Co...</td>\n",
       "      <td>glo_30</td>\n",
       "    </tr>\n",
       "    <tr>\n",
       "      <th>1</th>\n",
       "      <td>POLYGON ((-179.001 85.000, -179.001 86.000, -1...</td>\n",
       "      <td>Copernicus_DSM_COG_10_N85_00_W179_00_DEM</td>\n",
       "      <td>https://copernicus-dem-30m.s3.amazonaws.com/Co...</td>\n",
       "      <td>glo_30</td>\n",
       "    </tr>\n",
       "    <tr>\n",
       "      <th>2</th>\n",
       "      <td>POLYGON ((-178.001 85.000, -178.001 86.000, -1...</td>\n",
       "      <td>Copernicus_DSM_COG_10_N85_00_W178_00_DEM</td>\n",
       "      <td>https://copernicus-dem-30m.s3.amazonaws.com/Co...</td>\n",
       "      <td>glo_30</td>\n",
       "    </tr>\n",
       "    <tr>\n",
       "      <th>3</th>\n",
       "      <td>POLYGON ((-177.001 85.000, -177.001 86.000, -1...</td>\n",
       "      <td>Copernicus_DSM_COG_10_N85_00_W177_00_DEM</td>\n",
       "      <td>https://copernicus-dem-30m.s3.amazonaws.com/Co...</td>\n",
       "      <td>glo_30</td>\n",
       "    </tr>\n",
       "    <tr>\n",
       "      <th>4</th>\n",
       "      <td>POLYGON ((-176.001 85.000, -176.001 86.000, -1...</td>\n",
       "      <td>Copernicus_DSM_COG_10_N85_00_W176_00_DEM</td>\n",
       "      <td>https://copernicus-dem-30m.s3.amazonaws.com/Co...</td>\n",
       "      <td>glo_30</td>\n",
       "    </tr>\n",
       "  </tbody>\n",
       "</table>\n",
       "</div>"
      ],
      "text/plain": [
       "                                            geometry  \\\n",
       "0  POLYGON ((-180.001 85.000, -180.001 86.000, -1...   \n",
       "1  POLYGON ((-179.001 85.000, -179.001 86.000, -1...   \n",
       "2  POLYGON ((-178.001 85.000, -178.001 86.000, -1...   \n",
       "3  POLYGON ((-177.001 85.000, -177.001 86.000, -1...   \n",
       "4  POLYGON ((-176.001 85.000, -176.001 86.000, -1...   \n",
       "\n",
       "                                    tile_id  \\\n",
       "0  Copernicus_DSM_COG_10_N85_00_W180_00_DEM   \n",
       "1  Copernicus_DSM_COG_10_N85_00_W179_00_DEM   \n",
       "2  Copernicus_DSM_COG_10_N85_00_W178_00_DEM   \n",
       "3  Copernicus_DSM_COG_10_N85_00_W177_00_DEM   \n",
       "4  Copernicus_DSM_COG_10_N85_00_W176_00_DEM   \n",
       "\n",
       "                                                 url dem_name  \n",
       "0  https://copernicus-dem-30m.s3.amazonaws.com/Co...   glo_30  \n",
       "1  https://copernicus-dem-30m.s3.amazonaws.com/Co...   glo_30  \n",
       "2  https://copernicus-dem-30m.s3.amazonaws.com/Co...   glo_30  \n",
       "3  https://copernicus-dem-30m.s3.amazonaws.com/Co...   glo_30  \n",
       "4  https://copernicus-dem-30m.s3.amazonaws.com/Co...   glo_30  "
      ]
     },
     "execution_count": 2,
     "metadata": {},
     "output_type": "execute_result"
    }
   ],
   "source": [
    "df_tiles = get_dem_tile_extents('glo_30')\n",
    "df_tiles.head()"
   ]
  },
  {
   "cell_type": "markdown",
   "id": "desperate-testimony",
   "metadata": {},
   "source": [
    "So all tiles are accounted for in the geojson - though the urls might be empty!"
   ]
  },
  {
   "cell_type": "code",
   "execution_count": 3,
   "id": "organized-vaccine",
   "metadata": {
    "ExecuteTime": {
     "end_time": "2022-06-01T00:03:56.685020Z",
     "start_time": "2022-06-01T00:03:52.847438Z"
    }
   },
   "outputs": [
    {
     "data": {
      "text/plain": [
       "<AxesSubplot:>"
      ]
     },
     "execution_count": 3,
     "metadata": {},
     "output_type": "execute_result"
    },
    {
     "data": {
      "image/png": "[encoded data removed]",
      "text/plain": [
       "<Figure size 432x288 with 1 Axes>"
      ]
     },
     "metadata": {
      "needs_background": "light"
     },
     "output_type": "display_data"
    }
   ],
   "source": [
    "df_tiles.exterior.plot()"
   ]
  },
  {
   "cell_type": "markdown",
   "id": "systematic-ecuador",
   "metadata": {},
   "source": [
    "we should get a 404 response."
   ]
  },
  {
   "cell_type": "code",
   "execution_count": 12,
   "id": "burning-tsunami",
   "metadata": {
    "ExecuteTime": {
     "end_time": "2022-06-01T00:05:34.385823Z",
     "start_time": "2022-06-01T00:05:33.638312Z"
    }
   },
   "outputs": [
    {
     "name": "stdout",
     "output_type": "stream",
     "text": [
      "<class 'rasterio.errors.RasterioIOError'>\n",
      "'/vsicurl/https://copernicus-dem-30m.s3.amazonaws.com/Copernicus_DSM_COG_10_N85_00_W180_00_DEM/Copernicus_DSM_COG_10_N85_00_W180_00_DEM.tif' does not exist in the file system, and is not recognized as a supported dataset name.\n"
     ]
    }
   ],
   "source": [
    "urls = df_tiles.url.tolist()\n",
    "try:\n",
    "    k = 0\n",
    "\n",
    "    with rasterio.open(urls[k]) as ds:\n",
    "        p = ds.profile\n",
    "except Exception as e:\n",
    "    print(e.__class__)\n",
    "    print(e)"
   ]
  },
  {
   "cell_type": "code",
   "execution_count": 13,
   "id": "naval-endorsement",
   "metadata": {
    "ExecuteTime": {
     "end_time": "2022-06-01T00:05:38.423193Z",
     "start_time": "2022-06-01T00:05:38.229946Z"
    }
   },
   "outputs": [
    {
     "data": {
      "text/plain": [
       "{'driver': 'GTiff', 'dtype': 'float32', 'nodata': None, 'width': 720, 'height': 3600, 'count': 1, 'crs': CRS.from_epsg(4326), 'transform': Affine(0.001388888888888889, 0.0, 19.999305555555555,\n",
       "       0.0, -0.0002777777777777778, 81.00013888888888), 'blockxsize': 1024, 'blockysize': 1024, 'tiled': True, 'compress': 'deflate', 'interleave': 'band'}"
      ]
     },
     "execution_count": 13,
     "metadata": {},
     "output_type": "execute_result"
    }
   ],
   "source": [
    "k = 2_000\n",
    "\n",
    "with rasterio.open(urls[k]) as ds:\n",
    "    p = ds.profile\n",
    "p"
   ]
  },
  {
   "cell_type": "code",
   "execution_count": 14,
   "id": "native-sixth",
   "metadata": {
    "ExecuteTime": {
     "end_time": "2022-06-01T00:05:39.128611Z",
     "start_time": "2022-06-01T00:05:39.126083Z"
    }
   },
   "outputs": [],
   "source": [
    "def check_availability(url):\n",
    "    try:\n",
    "        with rasterio.open(url) as ds:\n",
    "            ds.bounds\n",
    "    except RasterioIOError:\n",
    "        return False\n",
    "    return True"
   ]
  },
  {
   "cell_type": "code",
   "execution_count": 15,
   "id": "compound-aspect",
   "metadata": {
    "ExecuteTime": {
     "end_time": "2022-06-01T00:05:39.814555Z",
     "start_time": "2022-06-01T00:05:39.670122Z"
    }
   },
   "outputs": [],
   "source": [
    "world = gpd.read_file(gpd.datasets.get_path('naturalearth_lowres'))\n",
    "world_geo = world.geometry.unary_union"
   ]
  },
  {
   "cell_type": "code",
   "execution_count": 16,
   "id": "informative-exchange",
   "metadata": {
    "ExecuteTime": {
     "end_time": "2022-06-01T00:05:46.656348Z",
     "start_time": "2022-06-01T00:05:40.366081Z"
    }
   },
   "outputs": [
    {
     "data": {
      "text/plain": [
       "<AxesSubplot:>"
      ]
     },
     "execution_count": 16,
     "metadata": {},
     "output_type": "execute_result"
    },
    {
     "data": {
      "image/png": "[encoded data removed]",
      "text/plain": [
       "<Figure size 432x288 with 1 Axes>"
      ]
     },
     "metadata": {
      "needs_background": "light"
     },
     "output_type": "display_data"
    }
   ],
   "source": [
    "land = df_tiles.geometry.intersects(world_geo)\n",
    "df_tiles_land = df_tiles[land]\n",
    "df_tiles_land.plot()"
   ]
  },
  {
   "cell_type": "code",
   "execution_count": 17,
   "id": "directed-textbook",
   "metadata": {
    "ExecuteTime": {
     "end_time": "2022-06-01T00:05:46.661027Z",
     "start_time": "2022-06-01T00:05:46.658121Z"
    }
   },
   "outputs": [
    {
     "data": {
      "text/plain": [
       "((24163, 4), (64800, 4))"
      ]
     },
     "execution_count": 17,
     "metadata": {},
     "output_type": "execute_result"
    }
   ],
   "source": [
    "df_tiles_land.shape, df_tiles.shape"
   ]
  },
  {
   "cell_type": "code",
   "execution_count": 18,
   "id": "identical-advertising",
   "metadata": {
    "ExecuteTime": {
     "end_time": "2022-06-01T14:59:13.700860Z",
     "start_time": "2022-06-01T00:05:46.662910Z"
    }
   },
   "outputs": [
    {
     "name": "stderr",
     "output_type": "stream",
     "text": [
      "100%|██████████| 64800/64800 [14:53:25<00:00,  1.21it/s]   \n"
     ]
    }
   ],
   "source": [
    "urls = df_tiles.url.tolist()\n",
    "\n",
    "# availability = list(map(check_availability, tqdm(urls[:10])))\n",
    "with concurrent.futures.ThreadPoolExecutor(max_workers=30) as executor:\n",
    "    availability = list(tqdm(executor.map(check_availability, urls), total=len(urls)))"
   ]
  },
  {
   "cell_type": "code",
   "execution_count": 19,
   "id": "sixth-decline",
   "metadata": {
    "ExecuteTime": {
     "end_time": "2022-06-01T14:59:20.147636Z",
     "start_time": "2022-06-01T14:59:13.718312Z"
    }
   },
   "outputs": [],
   "source": [
    "df_tiles['availability'] = availability\n",
    "df_tiles.to_file('glo_30.geojson', driver='GeoJSON')"
   ]
  },
  {
   "cell_type": "code",
   "execution_count": 20,
   "id": "precious-policy",
   "metadata": {
    "ExecuteTime": {
     "end_time": "2022-06-01T16:53:36.041144Z",
     "start_time": "2022-06-01T16:53:31.230097Z"
    }
   },
   "outputs": [
    {
     "data": {
      "text/plain": [
       "<AxesSubplot:>"
      ]
     },
     "execution_count": 20,
     "metadata": {},
     "output_type": "execute_result"
    },
    {
     "data": {
      "image/png": "[encoded data removed]",
      "text/plain": [
       "<Figure size 432x288 with 1 Axes>"
      ]
     },
     "metadata": {
      "needs_background": "light"
     },
     "output_type": "display_data"
    }
   ],
   "source": [
    "df_tiles_available = df_tiles[availability].reset_index(drop=True)\n",
    "df_tiles_available.plot()"
   ]
  },
  {
   "cell_type": "code",
   "execution_count": 21,
   "id": "damaged-millennium",
   "metadata": {
    "ExecuteTime": {
     "end_time": "2022-06-01T16:54:29.487783Z",
     "start_time": "2022-06-01T16:54:29.484538Z"
    }
   },
   "outputs": [
    {
     "data": {
      "text/plain": [
       "(26447, 5)"
      ]
     },
     "execution_count": 21,
     "metadata": {},
     "output_type": "execute_result"
    }
   ],
   "source": [
    "df_tiles_available.shape"
   ]
  },
  {
   "cell_type": "code",
   "execution_count": 22,
   "id": "cooked-license",
   "metadata": {
    "ExecuteTime": {
     "end_time": "2022-06-01T17:17:11.822507Z",
     "start_time": "2022-06-01T17:17:09.184155Z"
    }
   },
   "outputs": [],
   "source": [
    "df_tiles_available.to_file('glo_30_available.geojson', driver='GeoJSON')"
   ]
  }
 ],
 "metadata": {
  "kernelspec": {
   "display_name": "Python 3",
   "language": "python",
   "name": "python3"
  },
  "language_info": {
   "codemirror_mode": {
    "name": "ipython",
    "version": 3
   },
   "file_extension": ".py",
   "mimetype": "text/x-python",
   "name": "python",
   "nbconvert_exporter": "python",
   "pygments_lexer": "ipython3",
   "version": "3.8.5"
  }
 },
 "nbformat": 4,
 "nbformat_minor": 5
}
